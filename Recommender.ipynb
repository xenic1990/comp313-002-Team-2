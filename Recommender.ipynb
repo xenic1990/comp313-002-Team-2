{
  "cells": [
    {
      "cell_type": "code",
      "execution_count": 1,
      "metadata": {
        "colab": {
          "base_uri": "https://localhost:8080/"
        },
        "id": "4qtvmn6By3zR",
        "outputId": "8f349f82-ed7d-4d96-ad9d-ef906bbfad82"
      },
      "outputs": [
        {
          "output_type": "stream",
          "name": "stderr",
          "text": [
            "[nltk_data] Downloading package stopwords to /root/nltk_data...\n",
            "[nltk_data]   Unzipping corpora/stopwords.zip.\n",
            "[nltk_data] Downloading package wordnet to /root/nltk_data...\n",
            "[nltk_data] Downloading package genesis to /root/nltk_data...\n",
            "[nltk_data]   Unzipping corpora/genesis.zip.\n",
            "[nltk_data] Downloading package averaged_perceptron_tagger to\n",
            "[nltk_data]     /root/nltk_data...\n",
            "[nltk_data]   Unzipping taggers/averaged_perceptron_tagger.zip.\n",
            "[nltk_data] Downloading package punkt to /root/nltk_data...\n",
            "[nltk_data]   Unzipping tokenizers/punkt.zip.\n",
            "[nltk_data] Downloading package brown to /root/nltk_data...\n",
            "[nltk_data]   Unzipping corpora/brown.zip.\n"
          ]
        },
        {
          "output_type": "execute_result",
          "data": {
            "text/plain": [
              "True"
            ]
          },
          "metadata": {},
          "execution_count": 1
        }
      ],
      "source": [
        "import pandas as pd\n",
        "import numpy as np\n",
        "import matplotlib.pyplot as plt\n",
        "import gzip\n",
        "import nltk\n",
        "import spacy\n",
        "import string\n",
        "import re\n",
        "import warnings\n",
        "import json\n",
        "\n",
        "\n",
        "from nltk.corpus import stopwords\n",
        "from nltk.collocations import *\n",
        "from collections import Counter\n",
        "from nltk.stem import porter\n",
        "from wordcloud import WordCloud, STOPWORDS\n",
        "from nltk.tokenize import word_tokenize\n",
        "\n",
        "from sklearn.feature_extraction.text import TfidfVectorizer\n",
        "from sklearn.naive_bayes import MultinomialNB\n",
        "from sklearn.model_selection import train_test_split\n",
        "from sklearn.metrics import accuracy_score\n",
        "from sklearn.pipeline import Pipeline\n",
        "from sklearn.linear_model import LogisticRegression\n",
        "from sklearn.feature_extraction.text import CountVectorizer\n",
        "from sklearn.pipeline import make_pipeline\n",
        "from sklearn.preprocessing import StandardScaler\n",
        "from sklearn.ensemble import GradientBoostingClassifier\n",
        "from sklearn.model_selection import train_test_split, GridSearchCV\n",
        "from sklearn.svm import SVC\n",
        "\n",
        "\n",
        "\n",
        "\n",
        "\n",
        "\n",
        "\n",
        "nltk.download('stopwords')\n",
        "nltk.download('wordnet')\n",
        "nltk.download('genesis')\n",
        "nltk.download('averaged_perceptron_tagger')\n",
        "\n",
        "stop_words = set(stopwords.words('english'))\n",
        "stemmer = porter.PorterStemmer()\n",
        "\n",
        "warnings.simplefilter(action='ignore', category=FutureWarning)\n",
        "warnings.simplefilter(action='ignore', category=DeprecationWarning)\n",
        "\n",
        "nlp = spacy.load(\"en_core_web_sm\")\n",
        "\n",
        "nltk.download('punkt')\n",
        "nltk.download('brown')"
      ]
    },
    {
      "cell_type": "markdown",
      "source": [
        "## Importing 'reviews' dataset"
      ],
      "metadata": {
        "id": "r25lio9LbmvD"
      }
    },
    {
      "cell_type": "code",
      "execution_count": 2,
      "metadata": {
        "id": "4ABiUORN9QGY",
        "colab": {
          "base_uri": "https://localhost:8080/",
          "height": 70
        },
        "outputId": "97d8462b-ce60-4611-b483-9456833bb070"
      },
      "outputs": [
        {
          "output_type": "stream",
          "name": "stdout",
          "text": [
            "Downloading data from https://raw.githubusercontent.com/shahrzadko/NLPDigitalMusic/Recommender/reviews_Digital_Music_5.json.gz?token=GHSAT0AAAAAAB6LOL42SKHPCCMIVYPOC4REY7AKE2Q\n",
            "32052614/32052614 [==============================] - 0s 0us/step\n"
          ]
        },
        {
          "output_type": "execute_result",
          "data": {
            "text/plain": [
              "'./reviews_Digital_Music_5.json.gz'"
            ],
            "application/vnd.google.colaboratory.intrinsic+json": {
              "type": "string"
            }
          },
          "metadata": {},
          "execution_count": 2
        }
      ],
      "source": [
        "from keras.utils import get_file\n",
        "\n",
        "dir1 = get_file(origin=\"https://raw.githubusercontent.com/shahrzadko/NLPDigitalMusic/Recommender/reviews_Digital_Music_5.json.gz?token=GHSAT0AAAAAAB6LOL42SKHPCCMIVYPOC4REY7AKE2Q\")\n",
        "dir1\n",
        "\n",
        "import shutil\n",
        "shutil.move(dir1, \"./reviews_Digital_Music_5.json.gz\")"
      ]
    },
    {
      "cell_type": "code",
      "execution_count": 3,
      "metadata": {
        "id": "2KpzBxXn8tYG"
      },
      "outputs": [],
      "source": [
        "full_df = pd.read_json(\"reviews_Digital_Music_5.json.gz\", orient='records',lines=True)\n"
      ]
    },
    {
      "cell_type": "code",
      "source": [
        "full_df.info()"
      ],
      "metadata": {
        "colab": {
          "base_uri": "https://localhost:8080/"
        },
        "id": "cuxCq4rwiwqT",
        "outputId": "c954ac18-c0fd-4b3c-901c-6bf48a92c376"
      },
      "execution_count": 4,
      "outputs": [
        {
          "output_type": "stream",
          "name": "stdout",
          "text": [
            "<class 'pandas.core.frame.DataFrame'>\n",
            "RangeIndex: 64706 entries, 0 to 64705\n",
            "Data columns (total 9 columns):\n",
            " #   Column          Non-Null Count  Dtype \n",
            "---  ------          --------------  ----- \n",
            " 0   reviewerID      64706 non-null  object\n",
            " 1   asin            64706 non-null  object\n",
            " 2   reviewerName    64529 non-null  object\n",
            " 3   helpful         64706 non-null  object\n",
            " 4   reviewText      64706 non-null  object\n",
            " 5   overall         64706 non-null  int64 \n",
            " 6   summary         64706 non-null  object\n",
            " 7   unixReviewTime  64706 non-null  int64 \n",
            " 8   reviewTime      64706 non-null  object\n",
            "dtypes: int64(2), object(7)\n",
            "memory usage: 4.4+ MB\n"
          ]
        }
      ]
    },
    {
      "cell_type": "code",
      "source": [
        "full_df.head()"
      ],
      "metadata": {
        "colab": {
          "base_uri": "https://localhost:8080/",
          "height": 206
        },
        "id": "5sFGU2Krirvq",
        "outputId": "50f55795-58ae-45eb-b75b-7d716fe6b3b3"
      },
      "execution_count": 5,
      "outputs": [
        {
          "output_type": "execute_result",
          "data": {
            "text/plain": [
              "       reviewerID        asin          reviewerName helpful  \\\n",
              "0  A3EBHHCZO6V2A4  5555991584  Amaranth \"music fan\"  [3, 3]   \n",
              "1   AZPWAXJG9OJXV  5555991584             bethtexas  [0, 0]   \n",
              "2  A38IRL0X2T4DPF  5555991584           bob turnley  [2, 2]   \n",
              "3  A22IK3I6U76GX0  5555991584                 Calle  [1, 1]   \n",
              "4  A1AISPOIIHTHXX  5555991584           Cloud \"...\"  [1, 1]   \n",
              "\n",
              "                                          reviewText  overall  \\\n",
              "0  It's hard to believe \"Memory of Trees\" came ou...        5   \n",
              "1  A clasically-styled and introverted album, Mem...        5   \n",
              "2  I never thought Enya would reach the sublime h...        5   \n",
              "3  This is the third review of an irish album I w...        5   \n",
              "4  Enya, despite being a successful recording art...        4   \n",
              "\n",
              "                        summary  unixReviewTime   reviewTime  \n",
              "0       Enya's last great album      1158019200  09 12, 2006  \n",
              "1      Enya at her most elegant       991526400   06 3, 2001  \n",
              "2               The best so far      1058140800  07 14, 2003  \n",
              "3  Ireland produces good music.       957312000   05 3, 2000  \n",
              "4        4.5; music to dream to      1200528000  01 17, 2008  "
            ],
            "text/html": [
              "\n",
              "  <div id=\"df-973e51dd-23c1-41bb-8409-d5cad49dca09\">\n",
              "    <div class=\"colab-df-container\">\n",
              "      <div>\n",
              "<style scoped>\n",
              "    .dataframe tbody tr th:only-of-type {\n",
              "        vertical-align: middle;\n",
              "    }\n",
              "\n",
              "    .dataframe tbody tr th {\n",
              "        vertical-align: top;\n",
              "    }\n",
              "\n",
              "    .dataframe thead th {\n",
              "        text-align: right;\n",
              "    }\n",
              "</style>\n",
              "<table border=\"1\" class=\"dataframe\">\n",
              "  <thead>\n",
              "    <tr style=\"text-align: right;\">\n",
              "      <th></th>\n",
              "      <th>reviewerID</th>\n",
              "      <th>asin</th>\n",
              "      <th>reviewerName</th>\n",
              "      <th>helpful</th>\n",
              "      <th>reviewText</th>\n",
              "      <th>overall</th>\n",
              "      <th>summary</th>\n",
              "      <th>unixReviewTime</th>\n",
              "      <th>reviewTime</th>\n",
              "    </tr>\n",
              "  </thead>\n",
              "  <tbody>\n",
              "    <tr>\n",
              "      <th>0</th>\n",
              "      <td>A3EBHHCZO6V2A4</td>\n",
              "      <td>5555991584</td>\n",
              "      <td>Amaranth \"music fan\"</td>\n",
              "      <td>[3, 3]</td>\n",
              "      <td>It's hard to believe \"Memory of Trees\" came ou...</td>\n",
              "      <td>5</td>\n",
              "      <td>Enya's last great album</td>\n",
              "      <td>1158019200</td>\n",
              "      <td>09 12, 2006</td>\n",
              "    </tr>\n",
              "    <tr>\n",
              "      <th>1</th>\n",
              "      <td>AZPWAXJG9OJXV</td>\n",
              "      <td>5555991584</td>\n",
              "      <td>bethtexas</td>\n",
              "      <td>[0, 0]</td>\n",
              "      <td>A clasically-styled and introverted album, Mem...</td>\n",
              "      <td>5</td>\n",
              "      <td>Enya at her most elegant</td>\n",
              "      <td>991526400</td>\n",
              "      <td>06 3, 2001</td>\n",
              "    </tr>\n",
              "    <tr>\n",
              "      <th>2</th>\n",
              "      <td>A38IRL0X2T4DPF</td>\n",
              "      <td>5555991584</td>\n",
              "      <td>bob turnley</td>\n",
              "      <td>[2, 2]</td>\n",
              "      <td>I never thought Enya would reach the sublime h...</td>\n",
              "      <td>5</td>\n",
              "      <td>The best so far</td>\n",
              "      <td>1058140800</td>\n",
              "      <td>07 14, 2003</td>\n",
              "    </tr>\n",
              "    <tr>\n",
              "      <th>3</th>\n",
              "      <td>A22IK3I6U76GX0</td>\n",
              "      <td>5555991584</td>\n",
              "      <td>Calle</td>\n",
              "      <td>[1, 1]</td>\n",
              "      <td>This is the third review of an irish album I w...</td>\n",
              "      <td>5</td>\n",
              "      <td>Ireland produces good music.</td>\n",
              "      <td>957312000</td>\n",
              "      <td>05 3, 2000</td>\n",
              "    </tr>\n",
              "    <tr>\n",
              "      <th>4</th>\n",
              "      <td>A1AISPOIIHTHXX</td>\n",
              "      <td>5555991584</td>\n",
              "      <td>Cloud \"...\"</td>\n",
              "      <td>[1, 1]</td>\n",
              "      <td>Enya, despite being a successful recording art...</td>\n",
              "      <td>4</td>\n",
              "      <td>4.5; music to dream to</td>\n",
              "      <td>1200528000</td>\n",
              "      <td>01 17, 2008</td>\n",
              "    </tr>\n",
              "  </tbody>\n",
              "</table>\n",
              "</div>\n",
              "      <button class=\"colab-df-convert\" onclick=\"convertToInteractive('df-973e51dd-23c1-41bb-8409-d5cad49dca09')\"\n",
              "              title=\"Convert this dataframe to an interactive table.\"\n",
              "              style=\"display:none;\">\n",
              "        \n",
              "  <svg xmlns=\"http://www.w3.org/2000/svg\" height=\"24px\"viewBox=\"0 0 24 24\"\n",
              "       width=\"24px\">\n",
              "    <path d=\"M0 0h24v24H0V0z\" fill=\"none\"/>\n",
              "    <path d=\"M18.56 5.44l.94 2.06.94-2.06 2.06-.94-2.06-.94-.94-2.06-.94 2.06-2.06.94zm-11 1L8.5 8.5l.94-2.06 2.06-.94-2.06-.94L8.5 2.5l-.94 2.06-2.06.94zm10 10l.94 2.06.94-2.06 2.06-.94-2.06-.94-.94-2.06-.94 2.06-2.06.94z\"/><path d=\"M17.41 7.96l-1.37-1.37c-.4-.4-.92-.59-1.43-.59-.52 0-1.04.2-1.43.59L10.3 9.45l-7.72 7.72c-.78.78-.78 2.05 0 2.83L4 21.41c.39.39.9.59 1.41.59.51 0 1.02-.2 1.41-.59l7.78-7.78 2.81-2.81c.8-.78.8-2.07 0-2.86zM5.41 20L4 18.59l7.72-7.72 1.47 1.35L5.41 20z\"/>\n",
              "  </svg>\n",
              "      </button>\n",
              "      \n",
              "  <style>\n",
              "    .colab-df-container {\n",
              "      display:flex;\n",
              "      flex-wrap:wrap;\n",
              "      gap: 12px;\n",
              "    }\n",
              "\n",
              "    .colab-df-convert {\n",
              "      background-color: #E8F0FE;\n",
              "      border: none;\n",
              "      border-radius: 50%;\n",
              "      cursor: pointer;\n",
              "      display: none;\n",
              "      fill: #1967D2;\n",
              "      height: 32px;\n",
              "      padding: 0 0 0 0;\n",
              "      width: 32px;\n",
              "    }\n",
              "\n",
              "    .colab-df-convert:hover {\n",
              "      background-color: #E2EBFA;\n",
              "      box-shadow: 0px 1px 2px rgba(60, 64, 67, 0.3), 0px 1px 3px 1px rgba(60, 64, 67, 0.15);\n",
              "      fill: #174EA6;\n",
              "    }\n",
              "\n",
              "    [theme=dark] .colab-df-convert {\n",
              "      background-color: #3B4455;\n",
              "      fill: #D2E3FC;\n",
              "    }\n",
              "\n",
              "    [theme=dark] .colab-df-convert:hover {\n",
              "      background-color: #434B5C;\n",
              "      box-shadow: 0px 1px 3px 1px rgba(0, 0, 0, 0.15);\n",
              "      filter: drop-shadow(0px 1px 2px rgba(0, 0, 0, 0.3));\n",
              "      fill: #FFFFFF;\n",
              "    }\n",
              "  </style>\n",
              "\n",
              "      <script>\n",
              "        const buttonEl =\n",
              "          document.querySelector('#df-973e51dd-23c1-41bb-8409-d5cad49dca09 button.colab-df-convert');\n",
              "        buttonEl.style.display =\n",
              "          google.colab.kernel.accessAllowed ? 'block' : 'none';\n",
              "\n",
              "        async function convertToInteractive(key) {\n",
              "          const element = document.querySelector('#df-973e51dd-23c1-41bb-8409-d5cad49dca09');\n",
              "          const dataTable =\n",
              "            await google.colab.kernel.invokeFunction('convertToInteractive',\n",
              "                                                     [key], {});\n",
              "          if (!dataTable) return;\n",
              "\n",
              "          const docLinkHtml = 'Like what you see? Visit the ' +\n",
              "            '<a target=\"_blank\" href=https://colab.research.google.com/notebooks/data_table.ipynb>data table notebook</a>'\n",
              "            + ' to learn more about interactive tables.';\n",
              "          element.innerHTML = '';\n",
              "          dataTable['output_type'] = 'display_data';\n",
              "          await google.colab.output.renderOutput(dataTable, element);\n",
              "          const docLink = document.createElement('div');\n",
              "          docLink.innerHTML = docLinkHtml;\n",
              "          element.appendChild(docLink);\n",
              "        }\n",
              "      </script>\n",
              "    </div>\n",
              "  </div>\n",
              "  "
            ]
          },
          "metadata": {},
          "execution_count": 5
        }
      ]
    },
    {
      "cell_type": "code",
      "execution_count": 6,
      "metadata": {
        "id": "qlniHtyhy3zT"
      },
      "outputs": [],
      "source": [
        "#creating Sentiment column with overall rating\n",
        "full_df['Sentiment'] = np.where((full_df['overall'] > 3), 'Positive', \n",
        "                          np.where((full_df['overall'] < 3), 'Negative', 'Neutral'))\n"
      ]
    },
    {
      "cell_type": "code",
      "execution_count": 7,
      "metadata": {
        "colab": {
          "base_uri": "https://localhost:8080/"
        },
        "id": "bgWLiGKQy3zT",
        "outputId": "eb8318bb-935b-48e6-e7a1-a9b5a3de6e14"
      },
      "outputs": [
        {
          "output_type": "execute_result",
          "data": {
            "text/plain": [
              "Positive    52116\n",
              "Neutral      6789\n",
              "Negative     5801\n",
              "Name: Sentiment, dtype: int64"
            ]
          },
          "metadata": {},
          "execution_count": 7
        }
      ],
      "source": [
        "#showing that the data is not balanced\n",
        "full_df['Sentiment'].value_counts() "
      ]
    },
    {
      "cell_type": "code",
      "execution_count": 8,
      "metadata": {
        "id": "2APJ3Sgmy3zT"
      },
      "outputs": [],
      "source": [
        "#creating  'NewReview'  column using  'reviewText' and 'summary' columns\n",
        "cols = ['reviewText','summary']\n",
        "full_df['NewReview'] = full_df[cols].apply(lambda row: ' '.join(row.values.astype(str)), axis=1)\n",
        "full_df['NewReview'] = full_df['NewReview'].astype(str)\n",
        "full_df['review_length'] = full_df['NewReview'].apply(lambda x: len(x.split()))"
      ]
    },
    {
      "cell_type": "code",
      "execution_count": 9,
      "metadata": {
        "id": "2Ru99Y21y3zU"
      },
      "outputs": [],
      "source": [
        "music_df = full_df.drop(columns=['reviewTime','reviewerName','unixReviewTime','summary','reviewText'])"
      ]
    },
    {
      "cell_type": "code",
      "execution_count": 10,
      "metadata": {
        "id": "T8IPnFwf4XcE"
      },
      "outputs": [],
      "source": [
        "#music_df = music_df.sample(n=6000, random_state=42)"
      ]
    },
    {
      "cell_type": "markdown",
      "metadata": {
        "id": "TU2UwuY340lH"
      },
      "source": [
        "## clean text"
      ]
    },
    {
      "cell_type": "code",
      "source": [
        "#!pip install demoji\n",
        "#!pip install langdetect"
      ],
      "metadata": {
        "colab": {
          "base_uri": "https://localhost:8080/"
        },
        "id": "NXuiDjU9jGK6",
        "outputId": "9531b502-4da5-4049-8a04-5d37c0ffe544"
      },
      "execution_count": 11,
      "outputs": [
        {
          "output_type": "stream",
          "name": "stdout",
          "text": [
            "Looking in indexes: https://pypi.org/simple, https://us-python.pkg.dev/colab-wheels/public/simple/\n",
            "Collecting demoji\n",
            "  Downloading demoji-1.1.0-py3-none-any.whl (42 kB)\n",
            "\u001b[2K     \u001b[90m━━━━━━━━━━━━━━━━━━━━━━━━━━━━━━━━━━━━━━━━\u001b[0m \u001b[32m42.9/42.9 kB\u001b[0m \u001b[31m2.5 MB/s\u001b[0m eta \u001b[36m0:00:00\u001b[0m\n",
            "\u001b[?25hInstalling collected packages: demoji\n",
            "Successfully installed demoji-1.1.0\n",
            "Looking in indexes: https://pypi.org/simple, https://us-python.pkg.dev/colab-wheels/public/simple/\n",
            "Collecting langdetect\n",
            "  Downloading langdetect-1.0.9.tar.gz (981 kB)\n",
            "\u001b[2K     \u001b[90m━━━━━━━━━━━━━━━━━━━━━━━━━━━━━━━━━━━━━━\u001b[0m \u001b[32m981.5/981.5 kB\u001b[0m \u001b[31m13.4 MB/s\u001b[0m eta \u001b[36m0:00:00\u001b[0m\n",
            "\u001b[?25h  Preparing metadata (setup.py) ... \u001b[?25l\u001b[?25hdone\n",
            "Requirement already satisfied: six in /usr/local/lib/python3.9/dist-packages (from langdetect) (1.16.0)\n",
            "Building wheels for collected packages: langdetect\n",
            "  Building wheel for langdetect (setup.py) ... \u001b[?25l\u001b[?25hdone\n",
            "  Created wheel for langdetect: filename=langdetect-1.0.9-py3-none-any.whl size=993243 sha256=07e4c642ad336712da08e1f40dae2d5dc7751f4c590ed5049bfbc6c18ef6dcd8\n",
            "  Stored in directory: /root/.cache/pip/wheels/d1/c1/d9/7e068de779d863bc8f8fc9467d85e25cfe47fa5051fff1a1bb\n",
            "Successfully built langdetect\n",
            "Installing collected packages: langdetect\n",
            "Successfully installed langdetect-1.0.9\n"
          ]
        }
      ]
    },
    {
      "cell_type": "code",
      "execution_count": 12,
      "metadata": {
        "id": "AhsLz4Suy3zW"
      },
      "outputs": [],
      "source": [
        "###\n",
        "\n",
        "#drop non-English comments\n",
        "from langdetect import detect\n",
        "\n",
        "def is_english(text):\n",
        "    try:\n",
        "        lang = detect(text)\n",
        "        return lang == 'en'\n",
        "    except:\n",
        "        return False\n",
        "\n",
        "music_df = music_df[music_df['NewReview'].apply(is_english)]\n",
        "\n"
      ]
    },
    {
      "cell_type": "code",
      "execution_count": null,
      "metadata": {
        "id": "4zTalDNY-rnz"
      },
      "outputs": [],
      "source": [
        "\n",
        "#music_df.to_json(\"music_df_en_only.json.gz\", orient='records',lines=True)"
      ]
    },
    {
      "cell_type": "code",
      "execution_count": 13,
      "metadata": {
        "id": "N8Zcubsgy3zc"
      },
      "outputs": [],
      "source": [
        "import demoji\n",
        "from nltk.stem import *\n",
        "\n",
        "# Initialize stopwords\n",
        "STOPWORDS = set(stopwords.words('english'))\n",
        "# Initialize stemmer and lemmatizer\n",
        "stemmer = PorterStemmer()\n",
        "lemmatizer = WordNetLemmatizer()\n",
        "\n",
        "# Define function for text cleaning\n",
        "def clean_text(text):\n",
        "    # Convert to lowercase\n",
        "    text = text.lower()\n",
        "\n",
        "    # Remove URLs\n",
        "    text = re.sub(r'http\\S+', '', text)\n",
        "\n",
        "    # Remove currency symbols\n",
        "    text = re.sub(r'£|\\$', '', text)\n",
        "\n",
        "    # Remove phone numbers\n",
        "    text = re.sub(r'^\\(?[\\d]{3}\\)?[\\s-]?[\\d]{3}[\\s-]?[\\d]{4}$', '', text)\n",
        "\n",
        "    # Remove email addresses\n",
        "    text = re.sub(r'\\S+@\\S+', '', text)\n",
        "\n",
        "    # Remove punctuation and special characters except emojis\n",
        "    #text = re.sub(r'[^\\w\\s' + emoji.get_emoji_regexp() + ']', '', text)\n",
        "    text = demoji.replace(text, '')\n",
        "\n",
        "    # Tokenize text into words\n",
        "    words = nltk.word_tokenize(text)\n",
        "    \n",
        "    # Remove stopwords and handle negation\n",
        "    negation_words = ['not', 'no', 'never', 'neither', 'nor']\n",
        "    words = [word if word.lower() in negation_words else word.lower() for word in words]\n",
        "    words = [word for word in words if word.lower() not in STOPWORDS]\n",
        "    words = [f'NOT_{words[i+1]}' if (i < len(words)-1 and words[i].lower() in negation_words and words[i+1] not in string.punctuation) else words[i] for i in range(len(words))]\n",
        "    \n",
        "    # Lemmatize words\n",
        "    words = [lemmatizer.lemmatize(word) for word in words]\n",
        "\n",
        "    # Stem words\n",
        "    words = [stemmer.stem(word) for word in words]\n",
        "\n",
        "    # Join words back into text\n",
        "    cleaned_text = ' '.join(words)\n",
        "    return cleaned_text\n"
      ]
    },
    {
      "cell_type": "code",
      "execution_count": 14,
      "metadata": {
        "id": "BSaaQj9x805S"
      },
      "outputs": [],
      "source": [
        "###\n",
        "\n",
        "from multiprocessing import cpu_count, Pool\n",
        "pool = Pool(cpu_count())\n",
        "tasks = music_df['NewReview'].tolist()\n",
        "done = pool.map(clean_text, tasks)  # parallel processing\n",
        "music_df['processed_review'] = done"
      ]
    },
    {
      "cell_type": "code",
      "execution_count": 15,
      "metadata": {
        "id": "DykSm_1I9Wjq"
      },
      "outputs": [],
      "source": [
        "music_df = music_df.drop(columns=['NewReview'])"
      ]
    },
    {
      "cell_type": "code",
      "source": [],
      "metadata": {
        "id": "gl2CswSYeP4-"
      },
      "execution_count": null,
      "outputs": []
    },
    {
      "cell_type": "code",
      "execution_count": null,
      "metadata": {
        "id": "Dw1SaaXw80w6"
      },
      "outputs": [],
      "source": [
        "# code for saving\n",
        "#music_df.to_json(\"music_df_en_only_cleaned.json.gz\", orient='records',lines=True)"
      ]
    },
    {
      "cell_type": "markdown",
      "source": [
        "### skip route A: load cleaned df"
      ],
      "metadata": {
        "id": "RWPdHC-Ncif6"
      }
    },
    {
      "cell_type": "code",
      "source": [
        "from keras.utils import get_file\n",
        "\n",
        "dir1 = get_file(origin=\"https://raw.githubusercontent.com/shahrzadko/NLPDigitalMusic/Recommender/music_df_en_only_cleaned.json.gz?token=GHSAT0AAAAAAB6LOL42SKHPCCMIVYPOC4REY7AKE2Q\")\n",
        "dir1\n",
        "\n",
        "import shutil\n",
        "shutil.move(dir1, \"./music_df_en_only_cleaned.json.gz\")"
      ],
      "metadata": {
        "colab": {
          "base_uri": "https://localhost:8080/",
          "height": 70
        },
        "id": "aRRUEgsMkUcI",
        "outputId": "4f91002e-b5a5-4046-d19a-4b0faf9d6fed"
      },
      "execution_count": 30,
      "outputs": [
        {
          "output_type": "stream",
          "name": "stdout",
          "text": [
            "Downloading data from https://raw.githubusercontent.com/shahrzadko/NLPDigitalMusic/Recommender/music_df_en_only_cleaned.json.gz?token=GHSAT0AAAAAAB6LOL42SKHPCCMIVYPOC4REY7AKE2Q\n",
            "20269862/20269862 [==============================] - 0s 0us/step\n"
          ]
        },
        {
          "output_type": "execute_result",
          "data": {
            "text/plain": [
              "'./music_df_en_only_cleaned.json.gz'"
            ],
            "application/vnd.google.colaboratory.intrinsic+json": {
              "type": "string"
            }
          },
          "metadata": {},
          "execution_count": 30
        }
      ]
    },
    {
      "cell_type": "code",
      "execution_count": 31,
      "metadata": {
        "id": "NbUqIYQU80oK"
      },
      "outputs": [],
      "source": [
        "music_df = pd.read_json(\"music_df_en_only_cleaned.json.gz\", orient='records',lines=True)\n"
      ]
    },
    {
      "cell_type": "code",
      "execution_count": 32,
      "metadata": {
        "colab": {
          "base_uri": "https://localhost:8080/",
          "height": 206
        },
        "id": "CQnEEmyLdezo",
        "outputId": "b64407ea-3833-4c4a-ffe0-e8c3ab4a2c2a"
      },
      "outputs": [
        {
          "output_type": "execute_result",
          "data": {
            "text/plain": [
              "       reviewerID        asin helpful  overall Sentiment  review_length  \\\n",
              "0  A3EBHHCZO6V2A4  5555991584  [3, 3]        5  Positive            157   \n",
              "1   AZPWAXJG9OJXV  5555991584  [0, 0]        5  Positive            105   \n",
              "2  A38IRL0X2T4DPF  5555991584  [2, 2]        5  Positive             88   \n",
              "3  A22IK3I6U76GX0  5555991584  [1, 1]        5  Positive             95   \n",
              "4  A1AISPOIIHTHXX  5555991584  [1, 1]        4  Positive            719   \n",
              "\n",
              "                                    processed_review  \n",
              "0  's hard believ `` memori tree '' came 11 year ...  \n",
              "1  clasically-styl introvert album , memori tree ...  \n",
              "2  not_thought thought enya would reach sublim he...  \n",
              "3  third review irish album write today ( other c...  \n",
              "4  enya , despit success record artist , n't broa...  "
            ],
            "text/html": [
              "\n",
              "  <div id=\"df-76393615-b3cf-42f9-9c13-5cf587b83cdb\">\n",
              "    <div class=\"colab-df-container\">\n",
              "      <div>\n",
              "<style scoped>\n",
              "    .dataframe tbody tr th:only-of-type {\n",
              "        vertical-align: middle;\n",
              "    }\n",
              "\n",
              "    .dataframe tbody tr th {\n",
              "        vertical-align: top;\n",
              "    }\n",
              "\n",
              "    .dataframe thead th {\n",
              "        text-align: right;\n",
              "    }\n",
              "</style>\n",
              "<table border=\"1\" class=\"dataframe\">\n",
              "  <thead>\n",
              "    <tr style=\"text-align: right;\">\n",
              "      <th></th>\n",
              "      <th>reviewerID</th>\n",
              "      <th>asin</th>\n",
              "      <th>helpful</th>\n",
              "      <th>overall</th>\n",
              "      <th>Sentiment</th>\n",
              "      <th>review_length</th>\n",
              "      <th>processed_review</th>\n",
              "    </tr>\n",
              "  </thead>\n",
              "  <tbody>\n",
              "    <tr>\n",
              "      <th>0</th>\n",
              "      <td>A3EBHHCZO6V2A4</td>\n",
              "      <td>5555991584</td>\n",
              "      <td>[3, 3]</td>\n",
              "      <td>5</td>\n",
              "      <td>Positive</td>\n",
              "      <td>157</td>\n",
              "      <td>'s hard believ `` memori tree '' came 11 year ...</td>\n",
              "    </tr>\n",
              "    <tr>\n",
              "      <th>1</th>\n",
              "      <td>AZPWAXJG9OJXV</td>\n",
              "      <td>5555991584</td>\n",
              "      <td>[0, 0]</td>\n",
              "      <td>5</td>\n",
              "      <td>Positive</td>\n",
              "      <td>105</td>\n",
              "      <td>clasically-styl introvert album , memori tree ...</td>\n",
              "    </tr>\n",
              "    <tr>\n",
              "      <th>2</th>\n",
              "      <td>A38IRL0X2T4DPF</td>\n",
              "      <td>5555991584</td>\n",
              "      <td>[2, 2]</td>\n",
              "      <td>5</td>\n",
              "      <td>Positive</td>\n",
              "      <td>88</td>\n",
              "      <td>not_thought thought enya would reach sublim he...</td>\n",
              "    </tr>\n",
              "    <tr>\n",
              "      <th>3</th>\n",
              "      <td>A22IK3I6U76GX0</td>\n",
              "      <td>5555991584</td>\n",
              "      <td>[1, 1]</td>\n",
              "      <td>5</td>\n",
              "      <td>Positive</td>\n",
              "      <td>95</td>\n",
              "      <td>third review irish album write today ( other c...</td>\n",
              "    </tr>\n",
              "    <tr>\n",
              "      <th>4</th>\n",
              "      <td>A1AISPOIIHTHXX</td>\n",
              "      <td>5555991584</td>\n",
              "      <td>[1, 1]</td>\n",
              "      <td>4</td>\n",
              "      <td>Positive</td>\n",
              "      <td>719</td>\n",
              "      <td>enya , despit success record artist , n't broa...</td>\n",
              "    </tr>\n",
              "  </tbody>\n",
              "</table>\n",
              "</div>\n",
              "      <button class=\"colab-df-convert\" onclick=\"convertToInteractive('df-76393615-b3cf-42f9-9c13-5cf587b83cdb')\"\n",
              "              title=\"Convert this dataframe to an interactive table.\"\n",
              "              style=\"display:none;\">\n",
              "        \n",
              "  <svg xmlns=\"http://www.w3.org/2000/svg\" height=\"24px\"viewBox=\"0 0 24 24\"\n",
              "       width=\"24px\">\n",
              "    <path d=\"M0 0h24v24H0V0z\" fill=\"none\"/>\n",
              "    <path d=\"M18.56 5.44l.94 2.06.94-2.06 2.06-.94-2.06-.94-.94-2.06-.94 2.06-2.06.94zm-11 1L8.5 8.5l.94-2.06 2.06-.94-2.06-.94L8.5 2.5l-.94 2.06-2.06.94zm10 10l.94 2.06.94-2.06 2.06-.94-2.06-.94-.94-2.06-.94 2.06-2.06.94z\"/><path d=\"M17.41 7.96l-1.37-1.37c-.4-.4-.92-.59-1.43-.59-.52 0-1.04.2-1.43.59L10.3 9.45l-7.72 7.72c-.78.78-.78 2.05 0 2.83L4 21.41c.39.39.9.59 1.41.59.51 0 1.02-.2 1.41-.59l7.78-7.78 2.81-2.81c.8-.78.8-2.07 0-2.86zM5.41 20L4 18.59l7.72-7.72 1.47 1.35L5.41 20z\"/>\n",
              "  </svg>\n",
              "      </button>\n",
              "      \n",
              "  <style>\n",
              "    .colab-df-container {\n",
              "      display:flex;\n",
              "      flex-wrap:wrap;\n",
              "      gap: 12px;\n",
              "    }\n",
              "\n",
              "    .colab-df-convert {\n",
              "      background-color: #E8F0FE;\n",
              "      border: none;\n",
              "      border-radius: 50%;\n",
              "      cursor: pointer;\n",
              "      display: none;\n",
              "      fill: #1967D2;\n",
              "      height: 32px;\n",
              "      padding: 0 0 0 0;\n",
              "      width: 32px;\n",
              "    }\n",
              "\n",
              "    .colab-df-convert:hover {\n",
              "      background-color: #E2EBFA;\n",
              "      box-shadow: 0px 1px 2px rgba(60, 64, 67, 0.3), 0px 1px 3px 1px rgba(60, 64, 67, 0.15);\n",
              "      fill: #174EA6;\n",
              "    }\n",
              "\n",
              "    [theme=dark] .colab-df-convert {\n",
              "      background-color: #3B4455;\n",
              "      fill: #D2E3FC;\n",
              "    }\n",
              "\n",
              "    [theme=dark] .colab-df-convert:hover {\n",
              "      background-color: #434B5C;\n",
              "      box-shadow: 0px 1px 3px 1px rgba(0, 0, 0, 0.15);\n",
              "      filter: drop-shadow(0px 1px 2px rgba(0, 0, 0, 0.3));\n",
              "      fill: #FFFFFF;\n",
              "    }\n",
              "  </style>\n",
              "\n",
              "      <script>\n",
              "        const buttonEl =\n",
              "          document.querySelector('#df-76393615-b3cf-42f9-9c13-5cf587b83cdb button.colab-df-convert');\n",
              "        buttonEl.style.display =\n",
              "          google.colab.kernel.accessAllowed ? 'block' : 'none';\n",
              "\n",
              "        async function convertToInteractive(key) {\n",
              "          const element = document.querySelector('#df-76393615-b3cf-42f9-9c13-5cf587b83cdb');\n",
              "          const dataTable =\n",
              "            await google.colab.kernel.invokeFunction('convertToInteractive',\n",
              "                                                     [key], {});\n",
              "          if (!dataTable) return;\n",
              "\n",
              "          const docLinkHtml = 'Like what you see? Visit the ' +\n",
              "            '<a target=\"_blank\" href=https://colab.research.google.com/notebooks/data_table.ipynb>data table notebook</a>'\n",
              "            + ' to learn more about interactive tables.';\n",
              "          element.innerHTML = '';\n",
              "          dataTable['output_type'] = 'display_data';\n",
              "          await google.colab.output.renderOutput(dataTable, element);\n",
              "          const docLink = document.createElement('div');\n",
              "          docLink.innerHTML = docLinkHtml;\n",
              "          element.appendChild(docLink);\n",
              "        }\n",
              "      </script>\n",
              "    </div>\n",
              "  </div>\n",
              "  "
            ]
          },
          "metadata": {},
          "execution_count": 32
        }
      ],
      "source": [
        "music_df.head()"
      ]
    },
    {
      "cell_type": "code",
      "execution_count": null,
      "metadata": {
        "id": "9CLRcYvSwNvP"
      },
      "outputs": [],
      "source": []
    },
    {
      "cell_type": "markdown",
      "metadata": {
        "id": "FsP5Duzh46YI"
      },
      "source": [
        "### Load metadata (for 'items')"
      ]
    },
    {
      "cell_type": "code",
      "execution_count": 17,
      "metadata": {
        "colab": {
          "base_uri": "https://localhost:8080/",
          "height": 70
        },
        "id": "srSlpPI22gpH",
        "outputId": "e2d21ab3-1ef6-4335-c749-66d7babc3967"
      },
      "outputs": [
        {
          "output_type": "stream",
          "name": "stdout",
          "text": [
            "Downloading data from https://raw.githubusercontent.com/shahrzadko/NLPDigitalMusic/Recommender/meta_Digital_Music.json.gz?token=GHSAT0AAAAAAB6LOL42SKHPCCMIVYPOC4REY7AKE2Q\n",
            "42335451/42335451 [==============================] - 0s 0us/step\n"
          ]
        },
        {
          "output_type": "execute_result",
          "data": {
            "text/plain": [
              "'./meta_Digital_Music.json.gz'"
            ],
            "application/vnd.google.colaboratory.intrinsic+json": {
              "type": "string"
            }
          },
          "metadata": {},
          "execution_count": 17
        }
      ],
      "source": [
        "dir1 = get_file(origin=\"https://raw.githubusercontent.com/shahrzadko/NLPDigitalMusic/Recommender/meta_Digital_Music.json.gz?token=GHSAT0AAAAAAB6LOL42SKHPCCMIVYPOC4REY7AKE2Q\")\n",
        "dir1\n",
        "\n",
        "shutil.move(dir1, \"./meta_Digital_Music.json.gz\")"
      ]
    },
    {
      "cell_type": "code",
      "execution_count": 18,
      "metadata": {
        "colab": {
          "base_uri": "https://localhost:8080/"
        },
        "id": "UTXyWUt5419W",
        "outputId": "f501e2e7-dc6d-46d4-872d-3543bcb3e94e"
      },
      "outputs": [
        {
          "output_type": "stream",
          "name": "stdout",
          "text": [
            "279899\n"
          ]
        }
      ],
      "source": [
        "import ast\n",
        "import html\n",
        "\n",
        "path = 'meta_Digital_Music.json.gz'\n",
        "i = 0\n",
        "df_dict = {}\n",
        "\n",
        "search_full = \"\"\n",
        "\n",
        "jgz = gzip.open(path, 'rb')\n",
        "for line in jgz:\n",
        "    i += 1\n",
        "    #line, _ = re.subn(r'\\'','\"',line.decode('utf-8'))\n",
        "    #d = json.loads(line)\n",
        "    d = ast.literal_eval(line.decode('utf-8'))\n",
        "    \n",
        "    if 'title' not in d or not len(d['title']): continue #remove empty title\n",
        "\n",
        "    #if re.search(r'[<>]',d['title']): continue #remove inviald title that only got html tag\n",
        "    d['title'] = html.unescape(d['title'])\n",
        "    \n",
        "    if d['asin'] in df_dict: continue #remove duplicate items\n",
        "\n",
        "    df_dict[d['asin']] = d \n",
        "\n",
        "mdata_df = pd.DataFrame.from_dict(df_dict, orient='index')\n",
        "print(i)"
      ]
    },
    {
      "cell_type": "code",
      "execution_count": 19,
      "metadata": {
        "colab": {
          "base_uri": "https://localhost:8080/"
        },
        "id": "8sdgKp5kgWvt",
        "outputId": "75fc26c8-67c0-4c2e-a9dc-4fedfc0cc7d7"
      },
      "outputs": [
        {
          "output_type": "execute_result",
          "data": {
            "text/plain": [
              "(7321, 9)"
            ]
          },
          "metadata": {},
          "execution_count": 19
        }
      ],
      "source": [
        "mdata_df.shape"
      ]
    },
    {
      "cell_type": "code",
      "execution_count": 20,
      "metadata": {
        "colab": {
          "base_uri": "https://localhost:8080/",
          "height": 337
        },
        "id": "q_DV6wPD6rme",
        "outputId": "8f5a7eca-e7ae-4351-86e3-c088b2d1a22a"
      },
      "outputs": [
        {
          "output_type": "execute_result",
          "data": {
            "text/plain": [
              "                  asin                  title  price  \\\n",
              "5555991584  5555991584        Memory of Trees   9.49   \n",
              "6308051551  6308051551  Don't Drink His Blood   8.91   \n",
              "7901622466  7901622466                On Fire  11.33   \n",
              "B0000000ZW  B0000000ZW         Changing Faces  23.64   \n",
              "B00000016W  B00000016W             Pet Sounds   9.49   \n",
              "\n",
              "                                                        imUrl  \\\n",
              "5555991584  http://ecx.images-amazon.com/images/I/51b5WDjd...   \n",
              "6308051551  http://ecx.images-amazon.com/images/I/31LT2n7Q...   \n",
              "7901622466  http://ecx.images-amazon.com/images/I/21W29WZw...   \n",
              "B0000000ZW  http://ecx.images-amazon.com/images/I/51H3Bp-3...   \n",
              "B00000016W  http://ecx.images-amazon.com/images/I/51pDGkXj...   \n",
              "\n",
              "                                                      related  \\\n",
              "5555991584  {'also_bought': ['B000002LRT', 'B000002LRR', '...   \n",
              "6308051551                                                NaN   \n",
              "7901622466  {'also_bought': ['B00000282A', 'B0084O8O9S', '...   \n",
              "B0000000ZW  {'also_bought': ['B00000010Z', 'B0000039Q5', '...   \n",
              "B00000016W  {'also_bought': ['B0025KVLTM', 'B00007FOMP', '...   \n",
              "\n",
              "                    salesRank  \\\n",
              "5555991584  {'Music': 939190}   \n",
              "6308051551                NaN   \n",
              "7901622466   {'Music': 58799}   \n",
              "B0000000ZW   {'Music': 68784}   \n",
              "B00000016W   {'Music': 77205}   \n",
              "\n",
              "                                                   categories  \\\n",
              "5555991584  [[CDs & Vinyl, New Age, Celtic New Age], [CDs ...   \n",
              "6308051551  [[Digital Music, Alternative Rock, Indie & Lo-...   \n",
              "7901622466  [[CDs & Vinyl, Christian, Rock & Alternative],...   \n",
              "B0000000ZW  [[CDs & Vinyl, Dance & Electronic], [CDs & Vin...   \n",
              "B00000016W  [[CDs & Vinyl, Classic Rock], [CDs & Vinyl, Po...   \n",
              "\n",
              "                                   description brand  \n",
              "5555991584                                 NaN   NaN  \n",
              "6308051551  NEW Combo BLUWAVS CD and FLAC FILE   NaN  \n",
              "7901622466                                 NaN   NaN  \n",
              "B0000000ZW                                            \n",
              "B00000016W                                 NaN   NaN  "
            ],
            "text/html": [
              "\n",
              "  <div id=\"df-98a35a65-126b-421c-8cd0-67b6ba0b6c6f\">\n",
              "    <div class=\"colab-df-container\">\n",
              "      <div>\n",
              "<style scoped>\n",
              "    .dataframe tbody tr th:only-of-type {\n",
              "        vertical-align: middle;\n",
              "    }\n",
              "\n",
              "    .dataframe tbody tr th {\n",
              "        vertical-align: top;\n",
              "    }\n",
              "\n",
              "    .dataframe thead th {\n",
              "        text-align: right;\n",
              "    }\n",
              "</style>\n",
              "<table border=\"1\" class=\"dataframe\">\n",
              "  <thead>\n",
              "    <tr style=\"text-align: right;\">\n",
              "      <th></th>\n",
              "      <th>asin</th>\n",
              "      <th>title</th>\n",
              "      <th>price</th>\n",
              "      <th>imUrl</th>\n",
              "      <th>related</th>\n",
              "      <th>salesRank</th>\n",
              "      <th>categories</th>\n",
              "      <th>description</th>\n",
              "      <th>brand</th>\n",
              "    </tr>\n",
              "  </thead>\n",
              "  <tbody>\n",
              "    <tr>\n",
              "      <th>5555991584</th>\n",
              "      <td>5555991584</td>\n",
              "      <td>Memory of Trees</td>\n",
              "      <td>9.49</td>\n",
              "      <td>http://ecx.images-amazon.com/images/I/51b5WDjd...</td>\n",
              "      <td>{'also_bought': ['B000002LRT', 'B000002LRR', '...</td>\n",
              "      <td>{'Music': 939190}</td>\n",
              "      <td>[[CDs &amp; Vinyl, New Age, Celtic New Age], [CDs ...</td>\n",
              "      <td>NaN</td>\n",
              "      <td>NaN</td>\n",
              "    </tr>\n",
              "    <tr>\n",
              "      <th>6308051551</th>\n",
              "      <td>6308051551</td>\n",
              "      <td>Don't Drink His Blood</td>\n",
              "      <td>8.91</td>\n",
              "      <td>http://ecx.images-amazon.com/images/I/31LT2n7Q...</td>\n",
              "      <td>NaN</td>\n",
              "      <td>NaN</td>\n",
              "      <td>[[Digital Music, Alternative Rock, Indie &amp; Lo-...</td>\n",
              "      <td>NEW Combo BLUWAVS CD and FLAC FILE</td>\n",
              "      <td>NaN</td>\n",
              "    </tr>\n",
              "    <tr>\n",
              "      <th>7901622466</th>\n",
              "      <td>7901622466</td>\n",
              "      <td>On Fire</td>\n",
              "      <td>11.33</td>\n",
              "      <td>http://ecx.images-amazon.com/images/I/21W29WZw...</td>\n",
              "      <td>{'also_bought': ['B00000282A', 'B0084O8O9S', '...</td>\n",
              "      <td>{'Music': 58799}</td>\n",
              "      <td>[[CDs &amp; Vinyl, Christian, Rock &amp; Alternative],...</td>\n",
              "      <td>NaN</td>\n",
              "      <td>NaN</td>\n",
              "    </tr>\n",
              "    <tr>\n",
              "      <th>B0000000ZW</th>\n",
              "      <td>B0000000ZW</td>\n",
              "      <td>Changing Faces</td>\n",
              "      <td>23.64</td>\n",
              "      <td>http://ecx.images-amazon.com/images/I/51H3Bp-3...</td>\n",
              "      <td>{'also_bought': ['B00000010Z', 'B0000039Q5', '...</td>\n",
              "      <td>{'Music': 68784}</td>\n",
              "      <td>[[CDs &amp; Vinyl, Dance &amp; Electronic], [CDs &amp; Vin...</td>\n",
              "      <td></td>\n",
              "      <td></td>\n",
              "    </tr>\n",
              "    <tr>\n",
              "      <th>B00000016W</th>\n",
              "      <td>B00000016W</td>\n",
              "      <td>Pet Sounds</td>\n",
              "      <td>9.49</td>\n",
              "      <td>http://ecx.images-amazon.com/images/I/51pDGkXj...</td>\n",
              "      <td>{'also_bought': ['B0025KVLTM', 'B00007FOMP', '...</td>\n",
              "      <td>{'Music': 77205}</td>\n",
              "      <td>[[CDs &amp; Vinyl, Classic Rock], [CDs &amp; Vinyl, Po...</td>\n",
              "      <td>NaN</td>\n",
              "      <td>NaN</td>\n",
              "    </tr>\n",
              "  </tbody>\n",
              "</table>\n",
              "</div>\n",
              "      <button class=\"colab-df-convert\" onclick=\"convertToInteractive('df-98a35a65-126b-421c-8cd0-67b6ba0b6c6f')\"\n",
              "              title=\"Convert this dataframe to an interactive table.\"\n",
              "              style=\"display:none;\">\n",
              "        \n",
              "  <svg xmlns=\"http://www.w3.org/2000/svg\" height=\"24px\"viewBox=\"0 0 24 24\"\n",
              "       width=\"24px\">\n",
              "    <path d=\"M0 0h24v24H0V0z\" fill=\"none\"/>\n",
              "    <path d=\"M18.56 5.44l.94 2.06.94-2.06 2.06-.94-2.06-.94-.94-2.06-.94 2.06-2.06.94zm-11 1L8.5 8.5l.94-2.06 2.06-.94-2.06-.94L8.5 2.5l-.94 2.06-2.06.94zm10 10l.94 2.06.94-2.06 2.06-.94-2.06-.94-.94-2.06-.94 2.06-2.06.94z\"/><path d=\"M17.41 7.96l-1.37-1.37c-.4-.4-.92-.59-1.43-.59-.52 0-1.04.2-1.43.59L10.3 9.45l-7.72 7.72c-.78.78-.78 2.05 0 2.83L4 21.41c.39.39.9.59 1.41.59.51 0 1.02-.2 1.41-.59l7.78-7.78 2.81-2.81c.8-.78.8-2.07 0-2.86zM5.41 20L4 18.59l7.72-7.72 1.47 1.35L5.41 20z\"/>\n",
              "  </svg>\n",
              "      </button>\n",
              "      \n",
              "  <style>\n",
              "    .colab-df-container {\n",
              "      display:flex;\n",
              "      flex-wrap:wrap;\n",
              "      gap: 12px;\n",
              "    }\n",
              "\n",
              "    .colab-df-convert {\n",
              "      background-color: #E8F0FE;\n",
              "      border: none;\n",
              "      border-radius: 50%;\n",
              "      cursor: pointer;\n",
              "      display: none;\n",
              "      fill: #1967D2;\n",
              "      height: 32px;\n",
              "      padding: 0 0 0 0;\n",
              "      width: 32px;\n",
              "    }\n",
              "\n",
              "    .colab-df-convert:hover {\n",
              "      background-color: #E2EBFA;\n",
              "      box-shadow: 0px 1px 2px rgba(60, 64, 67, 0.3), 0px 1px 3px 1px rgba(60, 64, 67, 0.15);\n",
              "      fill: #174EA6;\n",
              "    }\n",
              "\n",
              "    [theme=dark] .colab-df-convert {\n",
              "      background-color: #3B4455;\n",
              "      fill: #D2E3FC;\n",
              "    }\n",
              "\n",
              "    [theme=dark] .colab-df-convert:hover {\n",
              "      background-color: #434B5C;\n",
              "      box-shadow: 0px 1px 3px 1px rgba(0, 0, 0, 0.15);\n",
              "      filter: drop-shadow(0px 1px 2px rgba(0, 0, 0, 0.3));\n",
              "      fill: #FFFFFF;\n",
              "    }\n",
              "  </style>\n",
              "\n",
              "      <script>\n",
              "        const buttonEl =\n",
              "          document.querySelector('#df-98a35a65-126b-421c-8cd0-67b6ba0b6c6f button.colab-df-convert');\n",
              "        buttonEl.style.display =\n",
              "          google.colab.kernel.accessAllowed ? 'block' : 'none';\n",
              "\n",
              "        async function convertToInteractive(key) {\n",
              "          const element = document.querySelector('#df-98a35a65-126b-421c-8cd0-67b6ba0b6c6f');\n",
              "          const dataTable =\n",
              "            await google.colab.kernel.invokeFunction('convertToInteractive',\n",
              "                                                     [key], {});\n",
              "          if (!dataTable) return;\n",
              "\n",
              "          const docLinkHtml = 'Like what you see? Visit the ' +\n",
              "            '<a target=\"_blank\" href=https://colab.research.google.com/notebooks/data_table.ipynb>data table notebook</a>'\n",
              "            + ' to learn more about interactive tables.';\n",
              "          element.innerHTML = '';\n",
              "          dataTable['output_type'] = 'display_data';\n",
              "          await google.colab.output.renderOutput(dataTable, element);\n",
              "          const docLink = document.createElement('div');\n",
              "          docLink.innerHTML = docLinkHtml;\n",
              "          element.appendChild(docLink);\n",
              "        }\n",
              "      </script>\n",
              "    </div>\n",
              "  </div>\n",
              "  "
            ]
          },
          "metadata": {},
          "execution_count": 20
        }
      ],
      "source": [
        "mdata_df.head()"
      ]
    },
    {
      "cell_type": "markdown",
      "metadata": {
        "id": "vLj0nC5bRuR9"
      },
      "source": [
        "##  Recommender -\n",
        "### inspired by: \"Hariri N et el (2011) Context-aware recommendation based on review mining\"\n",
        "### with some modifications, e.g.: using LDA instead of L-LDA, due to we don't have labels in the data etc."
      ]
    },
    {
      "cell_type": "markdown",
      "metadata": {
        "id": "dSb8YbkgTp0T"
      },
      "source": [
        "### Latent Dirichlet Allocation (LDA)"
      ]
    },
    {
      "cell_type": "code",
      "source": [],
      "metadata": {
        "id": "hDgd7ur7mtrU"
      },
      "execution_count": null,
      "outputs": []
    },
    {
      "cell_type": "code",
      "execution_count": 47,
      "metadata": {
        "id": "VSAgG6F6ZGzT"
      },
      "outputs": [],
      "source": [
        "n_sample = 60000 # @param {type:\"integer\"}\n",
        "music_df_s = music_df.sample(n=n_sample , random_state=42)"
      ]
    },
    {
      "cell_type": "code",
      "execution_count": 41,
      "metadata": {
        "colab": {
          "base_uri": "https://localhost:8080/"
        },
        "id": "QwLGFf7Iefud",
        "outputId": "fc5b5d8b-a1ec-41aa-f7c6-8a2e12dd52b8"
      },
      "outputs": [
        {
          "output_type": "execute_result",
          "data": {
            "text/plain": [
              "(64630, 7)"
            ]
          },
          "metadata": {},
          "execution_count": 41
        }
      ],
      "source": [
        "music_df.shape"
      ]
    },
    {
      "cell_type": "code",
      "execution_count": 48,
      "metadata": {
        "colab": {
          "base_uri": "https://localhost:8080/"
        },
        "id": "NNd9tjfSS8nZ",
        "outputId": "747df335-4540-401b-d0ae-d7a6fc261904"
      },
      "outputs": [
        {
          "output_type": "execute_result",
          "data": {
            "text/plain": [
              "(6000, 28634)"
            ]
          },
          "metadata": {},
          "execution_count": 48
        }
      ],
      "source": [
        "from sklearn.feature_extraction.text import TfidfVectorizer\n",
        "tfv = TfidfVectorizer(analyzer='word',max_df=1.0)\n",
        "tfidf_matrix = tfv.fit_transform(music_df_s['processed_review'])\n",
        "tfidf_matrix.shape"
      ]
    },
    {
      "cell_type": "code",
      "execution_count": 45,
      "metadata": {
        "id": "Kx44Ul2_cdC2"
      },
      "outputs": [],
      "source": [
        "vocab = tfv.get_feature_names_out()\n",
        "#vocab[:90]"
      ]
    },
    {
      "cell_type": "code",
      "execution_count": 49,
      "metadata": {
        "colab": {
          "base_uri": "https://localhost:8080/"
        },
        "id": "OjM0XefjUNgD",
        "outputId": "496d7872-a846-4fab-b790-25894498b470"
      },
      "outputs": [
        {
          "output_type": "execute_result",
          "data": {
            "text/plain": [
              "(6000, 20)"
            ]
          },
          "metadata": {},
          "execution_count": 49
        }
      ],
      "source": [
        "n_topics = 20 # @param {type:\"integer\"}\n",
        "\n",
        "from sklearn.decomposition import LatentDirichletAllocation\n",
        "lda = LatentDirichletAllocation(n_components=n_topics,max_iter=20,random_state=42,n_jobs=-1)\n",
        "topics_of_reviews = lda.fit_transform(tfidf_matrix) \n",
        "topics_of_reviews.shape"
      ]
    },
    {
      "cell_type": "code",
      "execution_count": 27,
      "metadata": {
        "colab": {
          "base_uri": "https://localhost:8080/"
        },
        "id": "AVRlMwqDdUzw",
        "outputId": "0c141e23-31d0-4bd6-bc76-513e3aff7551"
      },
      "outputs": [
        {
          "output_type": "stream",
          "name": "stdout",
          "text": [
            "['odb' 'cathi' 'denni' 'poppa' 'olivia' 'muscl' 'ant' 'combo']\n",
            "['jimi' 'hendrix' 'weezer' 'haze' 'feminem' 'cl' 'mitch' 'curti']\n",
            "['opeth' 'morningris' 'maxwel' 'pra' 'puck' 'rul' 'mjg' 'not_compil']\n",
            "['cannonbal' 'omg' 'jem' 'nyro' 'autumn' 'porcupin' 'zandt' 'radioact']\n",
            "['2001' 'chronic' 'waylon' 'jamiroquai' 'sermon' 'albulm' 'massacr' 'hort']\n",
            "['devo' '52' 'imbruglia' '54' 'chamillionair' '59' '512' 'huff']\n",
            "['sweat' 'lightweight' 'oscar' 'luda' 'gr8' 'loverboy' 'cher' 'daughtri']\n",
            "['imagin' 'joni' 'composit' 'thriller' 'mccartney' 'hall' 'costello'\n",
            " 'elvi']\n",
            "['taupin' 'captain' 'madman' 'duffi' 'freeway' 'tumblewe' 'chateau'\n",
            " 'bleek']\n",
            "['swoon' 'diddi' 'silversun' 'porcupin' 'beatz' 'marvin' 'penni' 'court']\n",
            "['prison' 'blondi' 'jen' 'folsom' 'bolton' 'carli' 'cher' 'superstit']\n",
            "['phil' 'outkast' 'collin' 'quik' 'murder' 'marshal' 'luda' 'twista']\n",
            "['abba' 'chic' '8217' 'letoya' 'duran' 'rihanna' 'bootleg' 'clay']\n",
            "['quot' 'album' 'song' 'like' 'cd' 'one' 'great' 'good']\n",
            "['clay' 'gould' 'donovan' 'elli' 'tevin' 'iexcl' 'neon' 'ant']\n",
            "['fleetwood' 'mk' 'ratm' 'bruno' 'luda' 'brave' 'gaucho' 'speakerboxxx']\n",
            "['deborah' 'vetti' 'vecci' 'venni' 'lobo' 'az' 'suprisingli' 'bling']\n",
            "['alison' 'krauss' 'bluegrass' 'keyshia' 'primu' 'union' 'nicki' 'minaj']\n",
            "['strait' 'neko' 'adel' 'sir' 'margin' 'dire' 'nyro' 'sleeper']\n",
            "['stillmat' 'gibb' 'heather' 'should' 'sufjan' 'pretend' 'dc' 'method']\n"
          ]
        }
      ],
      "source": [
        "topic_words = lda.components_\n",
        "\n",
        "for topic in topic_words:\n",
        "  st = np.argsort(topic)\n",
        "  words = np.array(vocab)[st]\n",
        "  print(words[:-9:-1])"
      ]
    },
    {
      "cell_type": "markdown",
      "metadata": {
        "id": "VjEwbOjVUDQe"
      },
      "source": [
        "### k Nearest Neighbors (k-NN)"
      ]
    },
    {
      "cell_type": "code",
      "execution_count": 50,
      "metadata": {
        "colab": {
          "base_uri": "https://localhost:8080/"
        },
        "id": "d7frn62osuXa",
        "outputId": "591f1472-2b3b-43ae-8f56-2b213a4ec2ef"
      },
      "outputs": [
        {
          "output_type": "execute_result",
          "data": {
            "text/plain": [
              "(5007, 993)"
            ]
          },
          "metadata": {},
          "execution_count": 50
        }
      ],
      "source": [
        "found, no_mdata = 0,0\n",
        "for asin, rv in zip(music_df_s['asin'],topics_of_reviews):\n",
        "    if not asin or asin not in df_dict: no_mdata+=1; continue\n",
        "    df_dict[asin]['rv_topics'] = rv if 'rv_topics' not in df_dict[asin] else np.vstack((df_dict[asin]['rv_topics'],rv))\n",
        "    found+=1\n",
        "found, no_mdata"
      ]
    },
    {
      "cell_type": "code",
      "execution_count": 51,
      "metadata": {
        "colab": {
          "base_uri": "https://localhost:8080/"
        },
        "id": "shsy_4PhD9Lf",
        "outputId": "b19f2430-26e5-46fd-c181-178975c9e1ef"
      },
      "outputs": [
        {
          "output_type": "execute_result",
          "data": {
            "text/plain": [
              "(2179, 20)"
            ]
          },
          "metadata": {},
          "execution_count": 51
        }
      ],
      "source": [
        "items_w_rv = dict()\n",
        "topic_matrix = np.empty((0,n_topics), 'float64')\n",
        "title_lookup = dict()\n",
        "asin_lookup = dict()\n",
        "\n",
        "idx = 0 \n",
        "for d in df_dict.values():\n",
        "  if 'rv_topics' in d:\n",
        "    if len(d['rv_topics'].shape)>1: d['rv_topics'] = np.mean(d['rv_topics'],axis=0)\n",
        "    topic_matrix = np.vstack((topic_matrix, d['rv_topics']))\n",
        "    items_w_rv[idx] = d\n",
        "    title_lookup[d['title'].lower()] = idx\n",
        "    asin_lookup[d['asin']] = idx\n",
        "    idx+=1\n",
        "\n",
        "topic_matrix.shape\n"
      ]
    },
    {
      "cell_type": "code",
      "execution_count": 52,
      "metadata": {
        "id": "Rj4tZ0cKNgRe"
      },
      "outputs": [],
      "source": [
        "import pickle\n",
        "items_to_pickle = (items_w_rv , topic_matrix , title_lookup , asin_lookup)\n",
        "#with open(\"lda_model.pickle\", 'wb') as pkf:\n",
        "#  pickle.dump(items_to_pickle, pkf)"
      ]
    },
    {
      "cell_type": "markdown",
      "source": [
        "### skip route B - like... almost done"
      ],
      "metadata": {
        "id": "zwooCvEmeijN"
      }
    },
    {
      "cell_type": "code",
      "source": [
        "from keras.utils import get_file\n",
        "\n",
        "dir1 = get_file(origin=\"https://raw.githubusercontent.com/shahrzadko/NLPDigitalMusic/Recommender/lda_model.pickle?token=GHSAT0AAAAAAB6LOL42SKHPCCMIVYPOC4REY7AKE2Q\")\n",
        "dir1\n",
        "\n",
        "import shutil\n",
        "shutil.move(dir1, \"./lda_model.pickle\")"
      ],
      "metadata": {
        "colab": {
          "base_uri": "https://localhost:8080/",
          "height": 70
        },
        "id": "iSNLWosCk6Vl",
        "outputId": "310fbdc7-75a8-480a-833c-619e509ef904"
      },
      "execution_count": 53,
      "outputs": [
        {
          "output_type": "stream",
          "name": "stdout",
          "text": [
            "Downloading data from https://raw.githubusercontent.com/shahrzadko/NLPDigitalMusic/Recommender/lda_model.pickle?token=GHSAT0AAAAAAB6LOL42SKHPCCMIVYPOC4REY7AKE2Q\n",
            "6678958/6678958 [==============================] - 0s 0us/step\n"
          ]
        },
        {
          "output_type": "execute_result",
          "data": {
            "text/plain": [
              "'./lda_model.pickle'"
            ],
            "application/vnd.google.colaboratory.intrinsic+json": {
              "type": "string"
            }
          },
          "metadata": {},
          "execution_count": 53
        }
      ]
    },
    {
      "cell_type": "code",
      "execution_count": 54,
      "metadata": {
        "id": "YwaD9B_RNgI9"
      },
      "outputs": [],
      "source": [
        "## load model option\n",
        "import pandas as pd\n",
        "\n",
        "import pickle\n",
        "with open(\"lda_model.pickle\", 'rb') as pkf:\n",
        "  (items_w_rv , topic_matrix , title_lookup , asin_lookup) = pickle.load(pkf)"
      ]
    },
    {
      "cell_type": "code",
      "execution_count": 55,
      "metadata": {
        "colab": {
          "base_uri": "https://localhost:8080/",
          "height": 815
        },
        "id": "u1H3dPt0S8PK",
        "outputId": "03dc14c1-32b3-4779-bc07-a3b8b8c5208c"
      },
      "outputs": [
        {
          "output_type": "execute_result",
          "data": {
            "text/plain": [
              "            asin                            title  price  \\\n",
              "0     5555991584                  Memory of Trees   9.49   \n",
              "1     B0000000ZW                   Changing Faces  23.64   \n",
              "2     B00000016W                       Pet Sounds   9.49   \n",
              "3     B00000016T                             Cars  14.63   \n",
              "4     B00000017R                       Jazz Samba   8.99   \n",
              "...          ...                              ...    ...   \n",
              "2665  B000LXHGBC                     Back Numbers  11.88   \n",
              "2666  B000M5B6GK  All of a Sudden I Miss Everyone   9.49   \n",
              "2667  B000MGBTIE                            Alpha  13.83   \n",
              "2668  B000MGUZ9I                     Undiscovered  10.88   \n",
              "2669  B000MGVA8I                    Blackfield II   9.49   \n",
              "\n",
              "                                                  imUrl  \\\n",
              "0     http://ecx.images-amazon.com/images/I/51b5WDjd...   \n",
              "1     http://ecx.images-amazon.com/images/I/51H3Bp-3...   \n",
              "2     http://ecx.images-amazon.com/images/I/51pDGkXj...   \n",
              "3     http://ecx.images-amazon.com/images/I/51pmW%2B...   \n",
              "4     http://ecx.images-amazon.com/images/I/51kAU0Ty...   \n",
              "...                                                 ...   \n",
              "2665  http://ecx.images-amazon.com/images/I/51N%2ByT...   \n",
              "2666  http://ecx.images-amazon.com/images/I/618p7PKX...   \n",
              "2667  http://ecx.images-amazon.com/images/I/51NLyLG1...   \n",
              "2668  http://ecx.images-amazon.com/images/I/51SAKEc0...   \n",
              "2669  http://ecx.images-amazon.com/images/I/51KEAG8n...   \n",
              "\n",
              "                                                related          salesRank  \\\n",
              "0     {'also_bought': ['B000002LRT', 'B000002LRR', '...  {'Music': 939190}   \n",
              "1     {'also_bought': ['B00000010Z', 'B0000039Q5', '...   {'Music': 68784}   \n",
              "2     {'also_bought': ['B0025KVLTM', 'B00007FOMP', '...   {'Music': 77205}   \n",
              "3     {'also_bought': ['B000002GWX', 'B000002GXD', '...  {'Music': 458151}   \n",
              "4     {'also_bought': ['B0000046WB', 'B0000047CX', '...  {'Music': 561174}   \n",
              "...                                                 ...                ...   \n",
              "2665  {'also_bought': ['B00005YN6S', 'B00HVF1344', '...  {'Music': 124106}   \n",
              "2666  {'also_bought': ['B0006Q2TPC', 'B0000DJYMF', '...  {'Music': 640730}   \n",
              "2667  {'also_bought': ['B000B8QF6O', 'B0013K1ALY', '...    {'Music': 5783}   \n",
              "2668  {'also_bought': ['B001EOQTV0', 'B005ILWOZA', '...    {'Music': 8872}   \n",
              "2669  {'also_bought': ['B00075146W', 'B004MLZWRO', '...  {'Music': 401677}   \n",
              "\n",
              "                                             categories  \\\n",
              "0     [[CDs & Vinyl, New Age, Celtic New Age], [CDs ...   \n",
              "1     [[CDs & Vinyl, Dance & Electronic], [CDs & Vin...   \n",
              "2     [[CDs & Vinyl, Classic Rock], [CDs & Vinyl, Po...   \n",
              "3     [[CDs & Vinyl, Alternative Rock, New Wave & Po...   \n",
              "4     [[CDs & Vinyl, Jazz, Bebop], [CDs & Vinyl, Jaz...   \n",
              "...                                                 ...   \n",
              "2665  [[CDs & Vinyl, Alternative Rock, Indie & Lo-Fi...   \n",
              "2666  [[CDs & Vinyl, Alternative Rock, Indie & Lo-Fi...   \n",
              "2667  [[CDs & Vinyl, Alternative Rock, Goth & Indust...   \n",
              "2668  [[CDs & Vinyl, Alternative Rock], [CDs & Vinyl...   \n",
              "2669  [[CDs & Vinyl, Metal], [CDs & Vinyl, Rock, Pro...   \n",
              "\n",
              "                                              rv_topics  brand  \\\n",
              "0     [0.005944301246778397, 0.005724376118965009, 0...    NaN   \n",
              "1     [0.007947564104963068, 0.007947564145385768, 0...          \n",
              "2     [0.008476647700033773, 0.007341975014550384, 0...    NaN   \n",
              "3     [0.00804670266352813, 0.009927344553832798, 0....    NaN   \n",
              "4     [0.007089352362394035, 0.006163632120142277, 0...    NaN   \n",
              "...                                                 ...    ...   \n",
              "2665  [0.006629234050171659, 0.006629234067383804, 0...    NaN   \n",
              "2666  [0.006477516765231249, 0.005191601906141134, 0...    NaN   \n",
              "2667  [0.00709600084750042, 0.005779527698819136, 0....  Alpha   \n",
              "2668  [0.005569142681427098, 0.005569142662887866, 0...    NaN   \n",
              "2669  [0.005977675934698664, 0.005977675905350236, 0...    NaN   \n",
              "\n",
              "                                            description  \n",
              "0                                                   NaN  \n",
              "1                                                        \n",
              "2                                                   NaN  \n",
              "3                                                   NaN  \n",
              "4                                                   NaN  \n",
              "...                                                 ...  \n",
              "2665  The thoroughly excellent sophomore release by ...  \n",
              "2666  Sometimes Explosions in the Sky start with a w...  \n",
              "2667  Alpha, the latest outing from this veteran act...  \n",
              "2668  Young James Morrison has \"success story\" writt...  \n",
              "2669                                                NaN  \n",
              "\n",
              "[2670 rows x 10 columns]"
            ],
            "text/html": [
              "\n",
              "  <div id=\"df-c0f1fc6f-cab6-4097-a397-c9eb19e8ecee\">\n",
              "    <div class=\"colab-df-container\">\n",
              "      <div>\n",
              "<style scoped>\n",
              "    .dataframe tbody tr th:only-of-type {\n",
              "        vertical-align: middle;\n",
              "    }\n",
              "\n",
              "    .dataframe tbody tr th {\n",
              "        vertical-align: top;\n",
              "    }\n",
              "\n",
              "    .dataframe thead th {\n",
              "        text-align: right;\n",
              "    }\n",
              "</style>\n",
              "<table border=\"1\" class=\"dataframe\">\n",
              "  <thead>\n",
              "    <tr style=\"text-align: right;\">\n",
              "      <th></th>\n",
              "      <th>asin</th>\n",
              "      <th>title</th>\n",
              "      <th>price</th>\n",
              "      <th>imUrl</th>\n",
              "      <th>related</th>\n",
              "      <th>salesRank</th>\n",
              "      <th>categories</th>\n",
              "      <th>rv_topics</th>\n",
              "      <th>brand</th>\n",
              "      <th>description</th>\n",
              "    </tr>\n",
              "  </thead>\n",
              "  <tbody>\n",
              "    <tr>\n",
              "      <th>0</th>\n",
              "      <td>5555991584</td>\n",
              "      <td>Memory of Trees</td>\n",
              "      <td>9.49</td>\n",
              "      <td>http://ecx.images-amazon.com/images/I/51b5WDjd...</td>\n",
              "      <td>{'also_bought': ['B000002LRT', 'B000002LRR', '...</td>\n",
              "      <td>{'Music': 939190}</td>\n",
              "      <td>[[CDs &amp; Vinyl, New Age, Celtic New Age], [CDs ...</td>\n",
              "      <td>[0.005944301246778397, 0.005724376118965009, 0...</td>\n",
              "      <td>NaN</td>\n",
              "      <td>NaN</td>\n",
              "    </tr>\n",
              "    <tr>\n",
              "      <th>1</th>\n",
              "      <td>B0000000ZW</td>\n",
              "      <td>Changing Faces</td>\n",
              "      <td>23.64</td>\n",
              "      <td>http://ecx.images-amazon.com/images/I/51H3Bp-3...</td>\n",
              "      <td>{'also_bought': ['B00000010Z', 'B0000039Q5', '...</td>\n",
              "      <td>{'Music': 68784}</td>\n",
              "      <td>[[CDs &amp; Vinyl, Dance &amp; Electronic], [CDs &amp; Vin...</td>\n",
              "      <td>[0.007947564104963068, 0.007947564145385768, 0...</td>\n",
              "      <td></td>\n",
              "      <td></td>\n",
              "    </tr>\n",
              "    <tr>\n",
              "      <th>2</th>\n",
              "      <td>B00000016W</td>\n",
              "      <td>Pet Sounds</td>\n",
              "      <td>9.49</td>\n",
              "      <td>http://ecx.images-amazon.com/images/I/51pDGkXj...</td>\n",
              "      <td>{'also_bought': ['B0025KVLTM', 'B00007FOMP', '...</td>\n",
              "      <td>{'Music': 77205}</td>\n",
              "      <td>[[CDs &amp; Vinyl, Classic Rock], [CDs &amp; Vinyl, Po...</td>\n",
              "      <td>[0.008476647700033773, 0.007341975014550384, 0...</td>\n",
              "      <td>NaN</td>\n",
              "      <td>NaN</td>\n",
              "    </tr>\n",
              "    <tr>\n",
              "      <th>3</th>\n",
              "      <td>B00000016T</td>\n",
              "      <td>Cars</td>\n",
              "      <td>14.63</td>\n",
              "      <td>http://ecx.images-amazon.com/images/I/51pmW%2B...</td>\n",
              "      <td>{'also_bought': ['B000002GWX', 'B000002GXD', '...</td>\n",
              "      <td>{'Music': 458151}</td>\n",
              "      <td>[[CDs &amp; Vinyl, Alternative Rock, New Wave &amp; Po...</td>\n",
              "      <td>[0.00804670266352813, 0.009927344553832798, 0....</td>\n",
              "      <td>NaN</td>\n",
              "      <td>NaN</td>\n",
              "    </tr>\n",
              "    <tr>\n",
              "      <th>4</th>\n",
              "      <td>B00000017R</td>\n",
              "      <td>Jazz Samba</td>\n",
              "      <td>8.99</td>\n",
              "      <td>http://ecx.images-amazon.com/images/I/51kAU0Ty...</td>\n",
              "      <td>{'also_bought': ['B0000046WB', 'B0000047CX', '...</td>\n",
              "      <td>{'Music': 561174}</td>\n",
              "      <td>[[CDs &amp; Vinyl, Jazz, Bebop], [CDs &amp; Vinyl, Jaz...</td>\n",
              "      <td>[0.007089352362394035, 0.006163632120142277, 0...</td>\n",
              "      <td>NaN</td>\n",
              "      <td>NaN</td>\n",
              "    </tr>\n",
              "    <tr>\n",
              "      <th>...</th>\n",
              "      <td>...</td>\n",
              "      <td>...</td>\n",
              "      <td>...</td>\n",
              "      <td>...</td>\n",
              "      <td>...</td>\n",
              "      <td>...</td>\n",
              "      <td>...</td>\n",
              "      <td>...</td>\n",
              "      <td>...</td>\n",
              "      <td>...</td>\n",
              "    </tr>\n",
              "    <tr>\n",
              "      <th>2665</th>\n",
              "      <td>B000LXHGBC</td>\n",
              "      <td>Back Numbers</td>\n",
              "      <td>11.88</td>\n",
              "      <td>http://ecx.images-amazon.com/images/I/51N%2ByT...</td>\n",
              "      <td>{'also_bought': ['B00005YN6S', 'B00HVF1344', '...</td>\n",
              "      <td>{'Music': 124106}</td>\n",
              "      <td>[[CDs &amp; Vinyl, Alternative Rock, Indie &amp; Lo-Fi...</td>\n",
              "      <td>[0.006629234050171659, 0.006629234067383804, 0...</td>\n",
              "      <td>NaN</td>\n",
              "      <td>The thoroughly excellent sophomore release by ...</td>\n",
              "    </tr>\n",
              "    <tr>\n",
              "      <th>2666</th>\n",
              "      <td>B000M5B6GK</td>\n",
              "      <td>All of a Sudden I Miss Everyone</td>\n",
              "      <td>9.49</td>\n",
              "      <td>http://ecx.images-amazon.com/images/I/618p7PKX...</td>\n",
              "      <td>{'also_bought': ['B0006Q2TPC', 'B0000DJYMF', '...</td>\n",
              "      <td>{'Music': 640730}</td>\n",
              "      <td>[[CDs &amp; Vinyl, Alternative Rock, Indie &amp; Lo-Fi...</td>\n",
              "      <td>[0.006477516765231249, 0.005191601906141134, 0...</td>\n",
              "      <td>NaN</td>\n",
              "      <td>Sometimes Explosions in the Sky start with a w...</td>\n",
              "    </tr>\n",
              "    <tr>\n",
              "      <th>2667</th>\n",
              "      <td>B000MGBTIE</td>\n",
              "      <td>Alpha</td>\n",
              "      <td>13.83</td>\n",
              "      <td>http://ecx.images-amazon.com/images/I/51NLyLG1...</td>\n",
              "      <td>{'also_bought': ['B000B8QF6O', 'B0013K1ALY', '...</td>\n",
              "      <td>{'Music': 5783}</td>\n",
              "      <td>[[CDs &amp; Vinyl, Alternative Rock, Goth &amp; Indust...</td>\n",
              "      <td>[0.00709600084750042, 0.005779527698819136, 0....</td>\n",
              "      <td>Alpha</td>\n",
              "      <td>Alpha, the latest outing from this veteran act...</td>\n",
              "    </tr>\n",
              "    <tr>\n",
              "      <th>2668</th>\n",
              "      <td>B000MGUZ9I</td>\n",
              "      <td>Undiscovered</td>\n",
              "      <td>10.88</td>\n",
              "      <td>http://ecx.images-amazon.com/images/I/51SAKEc0...</td>\n",
              "      <td>{'also_bought': ['B001EOQTV0', 'B005ILWOZA', '...</td>\n",
              "      <td>{'Music': 8872}</td>\n",
              "      <td>[[CDs &amp; Vinyl, Alternative Rock], [CDs &amp; Vinyl...</td>\n",
              "      <td>[0.005569142681427098, 0.005569142662887866, 0...</td>\n",
              "      <td>NaN</td>\n",
              "      <td>Young James Morrison has \"success story\" writt...</td>\n",
              "    </tr>\n",
              "    <tr>\n",
              "      <th>2669</th>\n",
              "      <td>B000MGVA8I</td>\n",
              "      <td>Blackfield II</td>\n",
              "      <td>9.49</td>\n",
              "      <td>http://ecx.images-amazon.com/images/I/51KEAG8n...</td>\n",
              "      <td>{'also_bought': ['B00075146W', 'B004MLZWRO', '...</td>\n",
              "      <td>{'Music': 401677}</td>\n",
              "      <td>[[CDs &amp; Vinyl, Metal], [CDs &amp; Vinyl, Rock, Pro...</td>\n",
              "      <td>[0.005977675934698664, 0.005977675905350236, 0...</td>\n",
              "      <td>NaN</td>\n",
              "      <td>NaN</td>\n",
              "    </tr>\n",
              "  </tbody>\n",
              "</table>\n",
              "<p>2670 rows × 10 columns</p>\n",
              "</div>\n",
              "      <button class=\"colab-df-convert\" onclick=\"convertToInteractive('df-c0f1fc6f-cab6-4097-a397-c9eb19e8ecee')\"\n",
              "              title=\"Convert this dataframe to an interactive table.\"\n",
              "              style=\"display:none;\">\n",
              "        \n",
              "  <svg xmlns=\"http://www.w3.org/2000/svg\" height=\"24px\"viewBox=\"0 0 24 24\"\n",
              "       width=\"24px\">\n",
              "    <path d=\"M0 0h24v24H0V0z\" fill=\"none\"/>\n",
              "    <path d=\"M18.56 5.44l.94 2.06.94-2.06 2.06-.94-2.06-.94-.94-2.06-.94 2.06-2.06.94zm-11 1L8.5 8.5l.94-2.06 2.06-.94-2.06-.94L8.5 2.5l-.94 2.06-2.06.94zm10 10l.94 2.06.94-2.06 2.06-.94-2.06-.94-.94-2.06-.94 2.06-2.06.94z\"/><path d=\"M17.41 7.96l-1.37-1.37c-.4-.4-.92-.59-1.43-.59-.52 0-1.04.2-1.43.59L10.3 9.45l-7.72 7.72c-.78.78-.78 2.05 0 2.83L4 21.41c.39.39.9.59 1.41.59.51 0 1.02-.2 1.41-.59l7.78-7.78 2.81-2.81c.8-.78.8-2.07 0-2.86zM5.41 20L4 18.59l7.72-7.72 1.47 1.35L5.41 20z\"/>\n",
              "  </svg>\n",
              "      </button>\n",
              "      \n",
              "  <style>\n",
              "    .colab-df-container {\n",
              "      display:flex;\n",
              "      flex-wrap:wrap;\n",
              "      gap: 12px;\n",
              "    }\n",
              "\n",
              "    .colab-df-convert {\n",
              "      background-color: #E8F0FE;\n",
              "      border: none;\n",
              "      border-radius: 50%;\n",
              "      cursor: pointer;\n",
              "      display: none;\n",
              "      fill: #1967D2;\n",
              "      height: 32px;\n",
              "      padding: 0 0 0 0;\n",
              "      width: 32px;\n",
              "    }\n",
              "\n",
              "    .colab-df-convert:hover {\n",
              "      background-color: #E2EBFA;\n",
              "      box-shadow: 0px 1px 2px rgba(60, 64, 67, 0.3), 0px 1px 3px 1px rgba(60, 64, 67, 0.15);\n",
              "      fill: #174EA6;\n",
              "    }\n",
              "\n",
              "    [theme=dark] .colab-df-convert {\n",
              "      background-color: #3B4455;\n",
              "      fill: #D2E3FC;\n",
              "    }\n",
              "\n",
              "    [theme=dark] .colab-df-convert:hover {\n",
              "      background-color: #434B5C;\n",
              "      box-shadow: 0px 1px 3px 1px rgba(0, 0, 0, 0.15);\n",
              "      filter: drop-shadow(0px 1px 2px rgba(0, 0, 0, 0.3));\n",
              "      fill: #FFFFFF;\n",
              "    }\n",
              "  </style>\n",
              "\n",
              "      <script>\n",
              "        const buttonEl =\n",
              "          document.querySelector('#df-c0f1fc6f-cab6-4097-a397-c9eb19e8ecee button.colab-df-convert');\n",
              "        buttonEl.style.display =\n",
              "          google.colab.kernel.accessAllowed ? 'block' : 'none';\n",
              "\n",
              "        async function convertToInteractive(key) {\n",
              "          const element = document.querySelector('#df-c0f1fc6f-cab6-4097-a397-c9eb19e8ecee');\n",
              "          const dataTable =\n",
              "            await google.colab.kernel.invokeFunction('convertToInteractive',\n",
              "                                                     [key], {});\n",
              "          if (!dataTable) return;\n",
              "\n",
              "          const docLinkHtml = 'Like what you see? Visit the ' +\n",
              "            '<a target=\"_blank\" href=https://colab.research.google.com/notebooks/data_table.ipynb>data table notebook</a>'\n",
              "            + ' to learn more about interactive tables.';\n",
              "          element.innerHTML = '';\n",
              "          dataTable['output_type'] = 'display_data';\n",
              "          await google.colab.output.renderOutput(dataTable, element);\n",
              "          const docLink = document.createElement('div');\n",
              "          docLink.innerHTML = docLinkHtml;\n",
              "          element.appendChild(docLink);\n",
              "        }\n",
              "      </script>\n",
              "    </div>\n",
              "  </div>\n",
              "  "
            ]
          },
          "metadata": {},
          "execution_count": 55
        }
      ],
      "source": [
        "pd.DataFrame.from_dict(items_w_rv, orient='index')"
      ]
    },
    {
      "cell_type": "code",
      "execution_count": 56,
      "metadata": {
        "colab": {
          "base_uri": "https://localhost:8080/",
          "height": 75
        },
        "id": "pnIxY1vfNsqu",
        "outputId": "24df8194-dd2f-4255-e67f-f9bcc373f403"
      },
      "outputs": [
        {
          "output_type": "execute_result",
          "data": {
            "text/plain": [
              "NearestNeighbors(n_jobs=-1, n_neighbors=11)"
            ],
            "text/html": [
              "<style>#sk-container-id-2 {color: black;background-color: white;}#sk-container-id-2 pre{padding: 0;}#sk-container-id-2 div.sk-toggleable {background-color: white;}#sk-container-id-2 label.sk-toggleable__label {cursor: pointer;display: block;width: 100%;margin-bottom: 0;padding: 0.3em;box-sizing: border-box;text-align: center;}#sk-container-id-2 label.sk-toggleable__label-arrow:before {content: \"▸\";float: left;margin-right: 0.25em;color: #696969;}#sk-container-id-2 label.sk-toggleable__label-arrow:hover:before {color: black;}#sk-container-id-2 div.sk-estimator:hover label.sk-toggleable__label-arrow:before {color: black;}#sk-container-id-2 div.sk-toggleable__content {max-height: 0;max-width: 0;overflow: hidden;text-align: left;background-color: #f0f8ff;}#sk-container-id-2 div.sk-toggleable__content pre {margin: 0.2em;color: black;border-radius: 0.25em;background-color: #f0f8ff;}#sk-container-id-2 input.sk-toggleable__control:checked~div.sk-toggleable__content {max-height: 200px;max-width: 100%;overflow: auto;}#sk-container-id-2 input.sk-toggleable__control:checked~label.sk-toggleable__label-arrow:before {content: \"▾\";}#sk-container-id-2 div.sk-estimator input.sk-toggleable__control:checked~label.sk-toggleable__label {background-color: #d4ebff;}#sk-container-id-2 div.sk-label input.sk-toggleable__control:checked~label.sk-toggleable__label {background-color: #d4ebff;}#sk-container-id-2 input.sk-hidden--visually {border: 0;clip: rect(1px 1px 1px 1px);clip: rect(1px, 1px, 1px, 1px);height: 1px;margin: -1px;overflow: hidden;padding: 0;position: absolute;width: 1px;}#sk-container-id-2 div.sk-estimator {font-family: monospace;background-color: #f0f8ff;border: 1px dotted black;border-radius: 0.25em;box-sizing: border-box;margin-bottom: 0.5em;}#sk-container-id-2 div.sk-estimator:hover {background-color: #d4ebff;}#sk-container-id-2 div.sk-parallel-item::after {content: \"\";width: 100%;border-bottom: 1px solid gray;flex-grow: 1;}#sk-container-id-2 div.sk-label:hover label.sk-toggleable__label {background-color: #d4ebff;}#sk-container-id-2 div.sk-serial::before {content: \"\";position: absolute;border-left: 1px solid gray;box-sizing: border-box;top: 0;bottom: 0;left: 50%;z-index: 0;}#sk-container-id-2 div.sk-serial {display: flex;flex-direction: column;align-items: center;background-color: white;padding-right: 0.2em;padding-left: 0.2em;position: relative;}#sk-container-id-2 div.sk-item {position: relative;z-index: 1;}#sk-container-id-2 div.sk-parallel {display: flex;align-items: stretch;justify-content: center;background-color: white;position: relative;}#sk-container-id-2 div.sk-item::before, #sk-container-id-2 div.sk-parallel-item::before {content: \"\";position: absolute;border-left: 1px solid gray;box-sizing: border-box;top: 0;bottom: 0;left: 50%;z-index: -1;}#sk-container-id-2 div.sk-parallel-item {display: flex;flex-direction: column;z-index: 1;position: relative;background-color: white;}#sk-container-id-2 div.sk-parallel-item:first-child::after {align-self: flex-end;width: 50%;}#sk-container-id-2 div.sk-parallel-item:last-child::after {align-self: flex-start;width: 50%;}#sk-container-id-2 div.sk-parallel-item:only-child::after {width: 0;}#sk-container-id-2 div.sk-dashed-wrapped {border: 1px dashed gray;margin: 0 0.4em 0.5em 0.4em;box-sizing: border-box;padding-bottom: 0.4em;background-color: white;}#sk-container-id-2 div.sk-label label {font-family: monospace;font-weight: bold;display: inline-block;line-height: 1.2em;}#sk-container-id-2 div.sk-label-container {text-align: center;}#sk-container-id-2 div.sk-container {/* jupyter's `normalize.less` sets `[hidden] { display: none; }` but bootstrap.min.css set `[hidden] { display: none !important; }` so we also need the `!important` here to be able to override the default hidden behavior on the sphinx rendered scikit-learn.org. See: https://github.com/scikit-learn/scikit-learn/issues/21755 */display: inline-block !important;position: relative;}#sk-container-id-2 div.sk-text-repr-fallback {display: none;}</style><div id=\"sk-container-id-2\" class=\"sk-top-container\"><div class=\"sk-text-repr-fallback\"><pre>NearestNeighbors(n_jobs=-1, n_neighbors=11)</pre><b>In a Jupyter environment, please rerun this cell to show the HTML representation or trust the notebook. <br />On GitHub, the HTML representation is unable to render, please try loading this page with nbviewer.org.</b></div><div class=\"sk-container\" hidden><div class=\"sk-item\"><div class=\"sk-estimator sk-toggleable\"><input class=\"sk-toggleable__control sk-hidden--visually\" id=\"sk-estimator-id-2\" type=\"checkbox\" checked><label for=\"sk-estimator-id-2\" class=\"sk-toggleable__label sk-toggleable__label-arrow\">NearestNeighbors</label><div class=\"sk-toggleable__content\"><pre>NearestNeighbors(n_jobs=-1, n_neighbors=11)</pre></div></div></div></div></div>"
            ]
          },
          "metadata": {},
          "execution_count": 56
        }
      ],
      "source": [
        "n_recommendations = 10 # @param {type:\"integer\"}\n",
        "\n",
        "from sklearn.neighbors import NearestNeighbors\n",
        "\n",
        "knn = NearestNeighbors(n_neighbors=n_recommendations+1,n_jobs=-1)\n",
        "knn.fit(topic_matrix)\n"
      ]
    },
    {
      "cell_type": "code",
      "execution_count": 57,
      "metadata": {
        "id": "7-A7fos1Uena"
      },
      "outputs": [],
      "source": [
        "def recommand_by_title(title):\n",
        "  if title not in title_lookup: \n",
        "    print(\"\\nSorry, we don’t have recommendations for\", title)\n",
        "    return\n",
        "  print(f\"\\nRecommandations for - {title}:\\n\")\n",
        "\n",
        "  idx = title_lookup[title]\n",
        "  recom_list = knn.kneighbors([topic_matrix[idx]],return_distance=False)[0][1:]\n",
        "  for ridx in recom_list:\n",
        "    print(items_w_rv[ridx]['title'])\n"
      ]
    },
    {
      "cell_type": "markdown",
      "metadata": {
        "id": "ku_0s5cIUOIu"
      },
      "source": [
        "### recommand loop (alest run form skip route b)"
      ]
    },
    {
      "cell_type": "code",
      "execution_count": 58,
      "metadata": {
        "colab": {
          "base_uri": "https://localhost:8080/"
        },
        "id": "2ND7nDpuUOpG",
        "outputId": "ae3330ca-56f2-493a-ba08-2456dbd38dc9"
      },
      "outputs": [
        {
          "name": "stdout",
          "output_type": "stream",
          "text": [
            "\n",
            "Input a title (use 'exit' to exit): Undiscovered\n",
            "\n",
            "Recommandations for - undiscovered:\n",
            "\n",
            "Talk Talk Talk\n",
            "Hearts and Bones\n",
            "Paradise & Lunch\n",
            "Nested\n",
            "Both Sides\n",
            "Chinese Wall\n",
            "Living in Clip\n",
            "Brand New Me\n",
            "Everglow\n",
            "Non-Stop Erotic Cabaret\n",
            "\n",
            "Input a title (use 'exit' to exit): \n"
          ]
        }
      ],
      "source": [
        "print(\"\\nInput a title (use 'exit' to exit): \", end='')\n",
        "user_input = input().lower()\n",
        "\n",
        "while(user_input and user_input != 'exit'):\n",
        "  recommand_by_title(user_input)\n",
        "\n",
        "  print(\"\\nInput a title (use 'exit' to exit): \", end='')\n",
        "  user_input = input().lower()"
      ]
    }
  ],
  "metadata": {
    "colab": {
      "provenance": []
    },
    "kernelspec": {
      "display_name": "base",
      "language": "python",
      "name": "python3"
    },
    "language_info": {
      "codemirror_mode": {
        "name": "ipython",
        "version": 3
      },
      "file_extension": ".py",
      "mimetype": "text/x-python",
      "name": "python",
      "nbconvert_exporter": "python",
      "pygments_lexer": "ipython3",
      "version": "3.9.13"
    }
  },
  "nbformat": 4,
  "nbformat_minor": 0
}