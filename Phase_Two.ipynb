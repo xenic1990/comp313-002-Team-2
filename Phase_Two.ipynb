{
  "cells": [
    {
      "cell_type": "code",
      "source": [
        "#!pip install demoji\n",
        "#!pip install langdetect"
      ],
      "metadata": {
        "id": "wNTf8jfdzfLn",
        "colab": {
          "base_uri": "https://localhost:8080/"
        },
        "outputId": "64af40b2-9ec7-43a8-96fb-801252f54825"
      },
      "execution_count": null,
      "outputs": [
        {
          "output_type": "stream",
          "name": "stdout",
          "text": [
            "Looking in indexes: https://pypi.org/simple, https://us-python.pkg.dev/colab-wheels/public/simple/\n",
            "Collecting demoji\n",
            "  Downloading demoji-1.1.0-py3-none-any.whl (42 kB)\n",
            "\u001b[2K     \u001b[90m━━━━━━━━━━━━━━━━━━━━━━━━━━━━━━━━━━━━━━━━\u001b[0m \u001b[32m42.9/42.9 kB\u001b[0m \u001b[31m4.2 MB/s\u001b[0m eta \u001b[36m0:00:00\u001b[0m\n",
            "\u001b[?25hInstalling collected packages: demoji\n",
            "Successfully installed demoji-1.1.0\n",
            "Looking in indexes: https://pypi.org/simple, https://us-python.pkg.dev/colab-wheels/public/simple/\n",
            "Collecting langdetect\n",
            "  Downloading langdetect-1.0.9.tar.gz (981 kB)\n",
            "\u001b[2K     \u001b[90m━━━━━━━━━━━━━━━━━━━━━━━━━━━━━━━━━━━━━━\u001b[0m \u001b[32m981.5/981.5 kB\u001b[0m \u001b[31m38.2 MB/s\u001b[0m eta \u001b[36m0:00:00\u001b[0m\n",
            "\u001b[?25h  Preparing metadata (setup.py) ... \u001b[?25l\u001b[?25hdone\n",
            "Requirement already satisfied: six in /usr/local/lib/python3.9/dist-packages (from langdetect) (1.16.0)\n",
            "Building wheels for collected packages: langdetect\n",
            "  Building wheel for langdetect (setup.py) ... \u001b[?25l\u001b[?25hdone\n",
            "  Created wheel for langdetect: filename=langdetect-1.0.9-py3-none-any.whl size=993243 sha256=4e80dfc6330063aa5e8da164a6f8e37ffc51c56ffd7e7acba83edc77ef17d8a2\n",
            "  Stored in directory: /root/.cache/pip/wheels/d1/c1/d9/7e068de779d863bc8f8fc9467d85e25cfe47fa5051fff1a1bb\n",
            "Successfully built langdetect\n",
            "Installing collected packages: langdetect\n",
            "Successfully installed langdetect-1.0.9\n"
          ]
        }
      ]
    },
    {
      "cell_type": "code",
      "execution_count": 1,
      "metadata": {
        "colab": {
          "base_uri": "https://localhost:8080/"
        },
        "id": "4qtvmn6By3zR",
        "outputId": "c0fb34af-93d9-4116-bea7-3ec26a4d4975"
      },
      "outputs": [
        {
          "output_type": "stream",
          "name": "stderr",
          "text": [
            "[nltk_data] Downloading package stopwords to /root/nltk_data...\n",
            "[nltk_data]   Package stopwords is already up-to-date!\n",
            "[nltk_data] Downloading package wordnet to /root/nltk_data...\n",
            "[nltk_data]   Package wordnet is already up-to-date!\n",
            "[nltk_data] Downloading package genesis to /root/nltk_data...\n",
            "[nltk_data]   Package genesis is already up-to-date!\n",
            "[nltk_data] Downloading package averaged_perceptron_tagger to\n",
            "[nltk_data]     /root/nltk_data...\n",
            "[nltk_data]   Package averaged_perceptron_tagger is already up-to-\n",
            "[nltk_data]       date!\n",
            "[nltk_data] Downloading package punkt to /root/nltk_data...\n",
            "[nltk_data]   Package punkt is already up-to-date!\n",
            "[nltk_data] Downloading package brown to /root/nltk_data...\n",
            "[nltk_data]   Package brown is already up-to-date!\n"
          ]
        },
        {
          "output_type": "execute_result",
          "data": {
            "text/plain": [
              "True"
            ]
          },
          "metadata": {},
          "execution_count": 1
        }
      ],
      "source": [
        "import pandas as pd\n",
        "import numpy as np\n",
        "import matplotlib.pyplot as plt\n",
        "import gzip\n",
        "import nltk\n",
        "import spacy\n",
        "import string\n",
        "import re\n",
        "import warnings\n",
        "import demoji\n",
        "import json\n",
        "\n",
        "\n",
        "from nltk.corpus import stopwords\n",
        "from nltk.collocations import *\n",
        "from collections import Counter\n",
        "from nltk.stem import porter\n",
        "from wordcloud import WordCloud, STOPWORDS\n",
        "from nltk.tokenize import word_tokenize\n",
        "\n",
        "from sklearn.feature_extraction.text import TfidfVectorizer\n",
        "from sklearn.naive_bayes import MultinomialNB\n",
        "from sklearn.model_selection import train_test_split\n",
        "from sklearn.metrics import accuracy_score\n",
        "from sklearn.pipeline import Pipeline\n",
        "from sklearn.linear_model import LogisticRegression\n",
        "from sklearn.feature_extraction.text import CountVectorizer\n",
        "from sklearn.pipeline import make_pipeline\n",
        "from sklearn.preprocessing import StandardScaler\n",
        "from sklearn.ensemble import GradientBoostingClassifier\n",
        "from sklearn.model_selection import train_test_split, GridSearchCV\n",
        "from sklearn.svm import SVC\n",
        "\n",
        "\n",
        "\n",
        "\n",
        "\n",
        "\n",
        "\n",
        "nltk.download('stopwords')\n",
        "nltk.download('wordnet')\n",
        "nltk.download('genesis')\n",
        "nltk.download('averaged_perceptron_tagger')\n",
        "\n",
        "stop_words = set(stopwords.words('english'))\n",
        "stemmer = porter.PorterStemmer()\n",
        "\n",
        "warnings.simplefilter(action='ignore', category=FutureWarning)\n",
        "warnings.simplefilter(action='ignore', category=DeprecationWarning)\n",
        "\n",
        "nlp = spacy.load(\"en_core_web_sm\")\n",
        "\n",
        "nltk.download('punkt')\n",
        "nltk.download('brown')"
      ]
    },
    {
      "cell_type": "code",
      "execution_count": 2,
      "metadata": {
        "id": "l9UxRvKry3zS"
      },
      "outputs": [],
      "source": [
        "# Importing the dataset\n",
        "url = 'https://raw.githubusercontent.com/shahrzadko/NLPDigitalMusic/main/Digital_Music_5.json?token=GHSAT0AAAAAAB6LOL42SKHPCCMIVYPOC4REY7AKE2Q'\n",
        "df_raw = pd.read_json(url)\n",
        "full_df = pd.DataFrame.from_records(df_raw['data'])"
      ]
    },
    {
      "cell_type": "code",
      "source": [
        "#full_df = pd.read_json(\"reviews_Digital_Music_5.json.gz\", orient='records',lines=True)\n"
      ],
      "metadata": {
        "id": "2KpzBxXn8tYG"
      },
      "execution_count": 2,
      "outputs": []
    },
    {
      "cell_type": "code",
      "source": [],
      "metadata": {
        "id": "4ABiUORN9QGY"
      },
      "execution_count": 2,
      "outputs": []
    },
    {
      "cell_type": "code",
      "execution_count": 3,
      "metadata": {
        "id": "qlniHtyhy3zT"
      },
      "outputs": [],
      "source": [
        "#creating Sentiment column with overall rating\n",
        "full_df['Sentiment'] = np.where((full_df['overall'] > 3), 'Positive', \n",
        "                          np.where((full_df['overall'] < 3), 'Negative', 'Neutral'))\n"
      ]
    },
    {
      "cell_type": "code",
      "execution_count": 4,
      "metadata": {
        "id": "bgWLiGKQy3zT",
        "colab": {
          "base_uri": "https://localhost:8080/"
        },
        "outputId": "bc52c034-883f-41fc-9015-787d554bdbdb"
      },
      "outputs": [
        {
          "output_type": "execute_result",
          "data": {
            "text/plain": [
              "Positive    158985\n",
              "Neutral       6792\n",
              "Negative      4004\n",
              "Name: Sentiment, dtype: int64"
            ]
          },
          "metadata": {},
          "execution_count": 4
        }
      ],
      "source": [
        "#showing that the data is not balanced\n",
        "full_df['Sentiment'].value_counts() "
      ]
    },
    {
      "cell_type": "code",
      "execution_count": 5,
      "metadata": {
        "id": "2APJ3Sgmy3zT"
      },
      "outputs": [],
      "source": [
        "#creating  'NewReview'  column using  'reviewText' and 'summary' columns\n",
        "cols = ['reviewText','summary']\n",
        "full_df['NewReview'] = full_df[cols].apply(lambda row: ' '.join(row.values.astype(str)), axis=1)\n",
        "full_df['NewReview'] = full_df['NewReview'].astype(str)\n",
        "full_df['review_length'] = full_df['NewReview'].apply(lambda x: len(x.split()))"
      ]
    },
    {
      "cell_type": "code",
      "execution_count": 6,
      "metadata": {
        "id": "2Ru99Y21y3zU"
      },
      "outputs": [],
      "source": [
        "music_df = full_df.drop(columns=['vote','image','reviewTime','style','reviewerName','unixReviewTime','summary','reviewText'])\n",
        "#music_df = full_df.drop(columns=['reviewTime','reviewerName','unixReviewTime','summary','reviewText'])"
      ]
    },
    {
      "cell_type": "code",
      "source": [],
      "metadata": {
        "id": "T8IPnFwf4XcE"
      },
      "execution_count": null,
      "outputs": []
    },
    {
      "cell_type": "markdown",
      "source": [
        "## balance"
      ],
      "metadata": {
        "id": "8ESZEgpC4l19"
      }
    },
    {
      "cell_type": "code",
      "execution_count": 7,
      "metadata": {
        "id": "IJQxn9y6y3zU"
      },
      "outputs": [],
      "source": [
        "#dropping rows if the review is not verified\n",
        "music_df_balanced = music_df[music_df.verified == True]\n",
        "\n",
        "#dropping rows if the reviewer generally gives very negative reviews\n",
        "df_filtered = music_df_balanced.groupby('reviewerID').filter(lambda x: not((x['overall'].count() >= 10) and (x['overall'].mean() <= 2)))\n",
        "\n",
        "#dropping rows if the review is too short\n",
        "#df_filtered = df_filtered[df_filtered['review_length'] >= 6]\n"
      ]
    },
    {
      "cell_type": "code",
      "execution_count": 8,
      "metadata": {
        "id": "1pXAlTtDy3zU",
        "colab": {
          "base_uri": "https://localhost:8080/"
        },
        "outputId": "50354b72-da6b-41ae-dc3c-2e1dcd1483d9"
      },
      "outputs": [
        {
          "output_type": "execute_result",
          "data": {
            "text/plain": [
              "Positive    141104\n",
              "Neutral       5396\n",
              "Negative      2093\n",
              "Name: Sentiment, dtype: int64"
            ]
          },
          "metadata": {},
          "execution_count": 8
        }
      ],
      "source": [
        "#checking the values of Sentiment to creat a sample data\n",
        "df_filtered['Sentiment'].value_counts() "
      ]
    },
    {
      "cell_type": "code",
      "execution_count": 9,
      "metadata": {
        "id": "r9dZIepMy3zU"
      },
      "outputs": [],
      "source": [
        "import pandas as pd\n",
        "import nltk\n",
        "from nltk.corpus import wordnet\n",
        "\n",
        "\n",
        "# Reduce the number of positive sentiment rows to 5000\n",
        "df_pos = df_filtered[df_filtered['Sentiment'] == 'Positive'].sample(n=10000, random_state=42)\n",
        "\n",
        "# Split the remaining dataset by sentiment\n",
        "df_neutral = df_filtered[df_filtered['Sentiment'] == 'Neutral']\n",
        "df_neg = df_filtered[df_filtered['Sentiment'] == 'Negative']\n",
        "\n",
        "# Define function for synonym replacement\n",
        "def synonym_replacement(text):\n",
        "    words = nltk.word_tokenize(text)\n",
        "    new_words = []\n",
        "    for word in words:\n",
        "        synonyms = []\n",
        "        for syn in wordnet.synsets(word):\n",
        "            for lemma in syn.lemmas():\n",
        "                synonyms.append(lemma.name())\n",
        "        if synonyms:\n",
        "            new_word = synonyms[0]\n",
        "        else:\n",
        "            new_word = word\n",
        "        new_words.append(new_word)\n",
        "    new_text = ' '.join(new_words)\n",
        "    return new_text\n",
        "\n",
        "# Oversample minority classes using synonym replacement\n",
        "desired_balance = 0.9\n",
        "while len(df_neutral) / len(df_pos) < desired_balance or len(df_neg) / len(df_pos) < desired_balance:\n",
        "    if len(df_neutral) / len(df_pos) < desired_balance:\n",
        "        sample = df_neutral.sample(n=1)['NewReview'].iloc[0]\n",
        "        new_review = synonym_replacement(sample)\n",
        "        df_neutral = df_neutral.append({'NewReview': new_review, 'Sentiment': 'Neutral'}, ignore_index=True)\n",
        "    if len(df_neg) / len(df_pos) < desired_balance:\n",
        "        sample = df_neg.sample(n=1)['NewReview'].iloc[0]\n",
        "        new_review = synonym_replacement(sample)\n",
        "        df_neg = df_neg.append({'NewReview': new_review, 'Sentiment': 'Negative'}, ignore_index=True)\n",
        "\n",
        "\n",
        "\n",
        "\n",
        "# Combine oversampled subsets back into a single dataframe\n",
        "df_balanced = pd.concat([df_pos, df_neutral, df_neg], ignore_index=True)\n",
        "\n",
        "# Shuffle the dataframe\n",
        "df_balanced = df_balanced.sample(frac=1).reset_index(drop=True)\n"
      ]
    },
    {
      "cell_type": "code",
      "execution_count": 10,
      "metadata": {
        "id": "ZxpJ0RaWy3zV",
        "colab": {
          "base_uri": "https://localhost:8080/"
        },
        "outputId": "695ada45-327d-41dd-ba3f-0c8a8f3884aa"
      },
      "outputs": [
        {
          "output_type": "execute_result",
          "data": {
            "text/plain": [
              "Positive    10000\n",
              "Neutral      9000\n",
              "Negative     9000\n",
              "Name: Sentiment, dtype: int64"
            ]
          },
          "metadata": {},
          "execution_count": 10
        }
      ],
      "source": [
        "df_balanced['Sentiment'].value_counts() "
      ]
    },
    {
      "cell_type": "code",
      "execution_count": null,
      "metadata": {
        "id": "1YxKXAcQy3zV"
      },
      "outputs": [],
      "source": [
        "#creating balanced data using equal number of each sentiment\n",
        "#sample_size = min(df_filtered['Sentiment'].value_counts())\n",
        "#df_balanced = df_filtered.groupby('Sentiment').apply(lambda x: x.sample(sample_size)).reset_index(drop=True)"
      ]
    },
    {
      "cell_type": "code",
      "execution_count": null,
      "metadata": {
        "id": "2vYRmL6Xy3zV"
      },
      "outputs": [],
      "source": [
        "#df_balanced['Sentiment'].value_counts() "
      ]
    },
    {
      "cell_type": "code",
      "execution_count": 11,
      "metadata": {
        "id": "Jh9VVfP6y3zW",
        "colab": {
          "base_uri": "https://localhost:8080/",
          "height": 206
        },
        "outputId": "5b14f41e-3638-4d72-fc01-589b6ea2fba3"
      },
      "outputs": [
        {
          "output_type": "execute_result",
          "data": {
            "text/plain": [
              "   overall verified      reviewerID        asin Sentiment  \\\n",
              "0      5.0     True   ACQT14ZN20YQY  B009IQ2RSU  Positive   \n",
              "1      5.0     True  A1NBZGHKMQFP41  B00ZF3SIDI  Positive   \n",
              "2      3.0     True  A3DCOGGBKMJ8RN  B00UB4WZSA   Neutral   \n",
              "3      5.0     True  A2C1X7H3GJCIGK  B00136J7OA  Positive   \n",
              "4      NaN      NaN             NaN         NaN   Neutral   \n",
              "\n",
              "                                           NewReview  review_length  \n",
              "0  I like this song, it is worth buying and spend...           25.0  \n",
              "1                            Loved this!! Five Stars            4.0  \n",
              "2                                   good Three Stars            3.0  \n",
              "3  This is one of Micheals great songs! I can't s...           26.0  \n",
              "4      besides like this one arsenic well three star            NaN  "
            ],
            "text/html": [
              "\n",
              "  <div id=\"df-ec73c802-201a-4459-9eeb-0f05b7fd8c18\">\n",
              "    <div class=\"colab-df-container\">\n",
              "      <div>\n",
              "<style scoped>\n",
              "    .dataframe tbody tr th:only-of-type {\n",
              "        vertical-align: middle;\n",
              "    }\n",
              "\n",
              "    .dataframe tbody tr th {\n",
              "        vertical-align: top;\n",
              "    }\n",
              "\n",
              "    .dataframe thead th {\n",
              "        text-align: right;\n",
              "    }\n",
              "</style>\n",
              "<table border=\"1\" class=\"dataframe\">\n",
              "  <thead>\n",
              "    <tr style=\"text-align: right;\">\n",
              "      <th></th>\n",
              "      <th>overall</th>\n",
              "      <th>verified</th>\n",
              "      <th>reviewerID</th>\n",
              "      <th>asin</th>\n",
              "      <th>Sentiment</th>\n",
              "      <th>NewReview</th>\n",
              "      <th>review_length</th>\n",
              "    </tr>\n",
              "  </thead>\n",
              "  <tbody>\n",
              "    <tr>\n",
              "      <th>0</th>\n",
              "      <td>5.0</td>\n",
              "      <td>True</td>\n",
              "      <td>ACQT14ZN20YQY</td>\n",
              "      <td>B009IQ2RSU</td>\n",
              "      <td>Positive</td>\n",
              "      <td>I like this song, it is worth buying and spend...</td>\n",
              "      <td>25.0</td>\n",
              "    </tr>\n",
              "    <tr>\n",
              "      <th>1</th>\n",
              "      <td>5.0</td>\n",
              "      <td>True</td>\n",
              "      <td>A1NBZGHKMQFP41</td>\n",
              "      <td>B00ZF3SIDI</td>\n",
              "      <td>Positive</td>\n",
              "      <td>Loved this!! Five Stars</td>\n",
              "      <td>4.0</td>\n",
              "    </tr>\n",
              "    <tr>\n",
              "      <th>2</th>\n",
              "      <td>3.0</td>\n",
              "      <td>True</td>\n",
              "      <td>A3DCOGGBKMJ8RN</td>\n",
              "      <td>B00UB4WZSA</td>\n",
              "      <td>Neutral</td>\n",
              "      <td>good Three Stars</td>\n",
              "      <td>3.0</td>\n",
              "    </tr>\n",
              "    <tr>\n",
              "      <th>3</th>\n",
              "      <td>5.0</td>\n",
              "      <td>True</td>\n",
              "      <td>A2C1X7H3GJCIGK</td>\n",
              "      <td>B00136J7OA</td>\n",
              "      <td>Positive</td>\n",
              "      <td>This is one of Micheals great songs! I can't s...</td>\n",
              "      <td>26.0</td>\n",
              "    </tr>\n",
              "    <tr>\n",
              "      <th>4</th>\n",
              "      <td>NaN</td>\n",
              "      <td>NaN</td>\n",
              "      <td>NaN</td>\n",
              "      <td>NaN</td>\n",
              "      <td>Neutral</td>\n",
              "      <td>besides like this one arsenic well three star</td>\n",
              "      <td>NaN</td>\n",
              "    </tr>\n",
              "  </tbody>\n",
              "</table>\n",
              "</div>\n",
              "      <button class=\"colab-df-convert\" onclick=\"convertToInteractive('df-ec73c802-201a-4459-9eeb-0f05b7fd8c18')\"\n",
              "              title=\"Convert this dataframe to an interactive table.\"\n",
              "              style=\"display:none;\">\n",
              "        \n",
              "  <svg xmlns=\"http://www.w3.org/2000/svg\" height=\"24px\"viewBox=\"0 0 24 24\"\n",
              "       width=\"24px\">\n",
              "    <path d=\"M0 0h24v24H0V0z\" fill=\"none\"/>\n",
              "    <path d=\"M18.56 5.44l.94 2.06.94-2.06 2.06-.94-2.06-.94-.94-2.06-.94 2.06-2.06.94zm-11 1L8.5 8.5l.94-2.06 2.06-.94-2.06-.94L8.5 2.5l-.94 2.06-2.06.94zm10 10l.94 2.06.94-2.06 2.06-.94-2.06-.94-.94-2.06-.94 2.06-2.06.94z\"/><path d=\"M17.41 7.96l-1.37-1.37c-.4-.4-.92-.59-1.43-.59-.52 0-1.04.2-1.43.59L10.3 9.45l-7.72 7.72c-.78.78-.78 2.05 0 2.83L4 21.41c.39.39.9.59 1.41.59.51 0 1.02-.2 1.41-.59l7.78-7.78 2.81-2.81c.8-.78.8-2.07 0-2.86zM5.41 20L4 18.59l7.72-7.72 1.47 1.35L5.41 20z\"/>\n",
              "  </svg>\n",
              "      </button>\n",
              "      \n",
              "  <style>\n",
              "    .colab-df-container {\n",
              "      display:flex;\n",
              "      flex-wrap:wrap;\n",
              "      gap: 12px;\n",
              "    }\n",
              "\n",
              "    .colab-df-convert {\n",
              "      background-color: #E8F0FE;\n",
              "      border: none;\n",
              "      border-radius: 50%;\n",
              "      cursor: pointer;\n",
              "      display: none;\n",
              "      fill: #1967D2;\n",
              "      height: 32px;\n",
              "      padding: 0 0 0 0;\n",
              "      width: 32px;\n",
              "    }\n",
              "\n",
              "    .colab-df-convert:hover {\n",
              "      background-color: #E2EBFA;\n",
              "      box-shadow: 0px 1px 2px rgba(60, 64, 67, 0.3), 0px 1px 3px 1px rgba(60, 64, 67, 0.15);\n",
              "      fill: #174EA6;\n",
              "    }\n",
              "\n",
              "    [theme=dark] .colab-df-convert {\n",
              "      background-color: #3B4455;\n",
              "      fill: #D2E3FC;\n",
              "    }\n",
              "\n",
              "    [theme=dark] .colab-df-convert:hover {\n",
              "      background-color: #434B5C;\n",
              "      box-shadow: 0px 1px 3px 1px rgba(0, 0, 0, 0.15);\n",
              "      filter: drop-shadow(0px 1px 2px rgba(0, 0, 0, 0.3));\n",
              "      fill: #FFFFFF;\n",
              "    }\n",
              "  </style>\n",
              "\n",
              "      <script>\n",
              "        const buttonEl =\n",
              "          document.querySelector('#df-ec73c802-201a-4459-9eeb-0f05b7fd8c18 button.colab-df-convert');\n",
              "        buttonEl.style.display =\n",
              "          google.colab.kernel.accessAllowed ? 'block' : 'none';\n",
              "\n",
              "        async function convertToInteractive(key) {\n",
              "          const element = document.querySelector('#df-ec73c802-201a-4459-9eeb-0f05b7fd8c18');\n",
              "          const dataTable =\n",
              "            await google.colab.kernel.invokeFunction('convertToInteractive',\n",
              "                                                     [key], {});\n",
              "          if (!dataTable) return;\n",
              "\n",
              "          const docLinkHtml = 'Like what you see? Visit the ' +\n",
              "            '<a target=\"_blank\" href=https://colab.research.google.com/notebooks/data_table.ipynb>data table notebook</a>'\n",
              "            + ' to learn more about interactive tables.';\n",
              "          element.innerHTML = '';\n",
              "          dataTable['output_type'] = 'display_data';\n",
              "          await google.colab.output.renderOutput(dataTable, element);\n",
              "          const docLink = document.createElement('div');\n",
              "          docLink.innerHTML = docLinkHtml;\n",
              "          element.appendChild(docLink);\n",
              "        }\n",
              "      </script>\n",
              "    </div>\n",
              "  </div>\n",
              "  "
            ]
          },
          "metadata": {},
          "execution_count": 11
        }
      ],
      "source": [
        "df_balanced.head()"
      ]
    },
    {
      "cell_type": "code",
      "source": [
        "#drop non-English comments\n",
        "from langdetect import detect\n",
        "\n",
        "def is_english(text):\n",
        "    try:\n",
        "        lang = detect(text)\n",
        "        return lang == 'en'\n",
        "    except:\n",
        "        return False\n",
        "\n",
        "df_balanced = df_balanced[df_balanced['NewReview'].apply(is_english)]"
      ],
      "metadata": {
        "id": "IDrx1T-24OlS"
      },
      "execution_count": 12,
      "outputs": []
    },
    {
      "cell_type": "code",
      "execution_count": 13,
      "metadata": {
        "id": "roWPpZmjy3zW",
        "colab": {
          "base_uri": "https://localhost:8080/"
        },
        "outputId": "f0a16189-23ed-41fc-b1ca-d888f00b7422"
      },
      "outputs": [
        {
          "output_type": "execute_result",
          "data": {
            "text/plain": [
              "Positive    9446\n",
              "Neutral     8744\n",
              "Negative    8167\n",
              "Name: Sentiment, dtype: int64"
            ]
          },
          "metadata": {},
          "execution_count": 13
        }
      ],
      "source": [
        "#checking the values of Sentiment after removing non-English reviews\n",
        "df_balanced['Sentiment'].value_counts() "
      ]
    },
    {
      "cell_type": "code",
      "execution_count": null,
      "metadata": {
        "id": "1feFJ3UWy3zW"
      },
      "outputs": [],
      "source": [
        "#df_balanced = df_balanced.sample(n=1000, random_state=42)"
      ]
    },
    {
      "cell_type": "code",
      "execution_count": 14,
      "metadata": {
        "id": "_UINDW2Vy3zW"
      },
      "outputs": [],
      "source": [
        "df_balanced = df_balanced.drop(columns=['verified','overall','reviewerID'])"
      ]
    },
    {
      "cell_type": "code",
      "execution_count": 15,
      "metadata": {
        "id": "sq5322KKy3zW",
        "colab": {
          "base_uri": "https://localhost:8080/",
          "height": 206
        },
        "outputId": "6829020f-d40c-4652-97f6-926e3405d87e"
      },
      "outputs": [
        {
          "output_type": "execute_result",
          "data": {
            "text/plain": [
              "         asin Sentiment                                          NewReview  \\\n",
              "0  B009IQ2RSU  Positive  I like this song, it is worth buying and spend...   \n",
              "1  B00ZF3SIDI  Positive                            Loved this!! Five Stars   \n",
              "2  B00UB4WZSA   Neutral                                   good Three Stars   \n",
              "3  B00136J7OA  Positive  This is one of Micheals great songs! I can't s...   \n",
              "4         NaN   Neutral      besides like this one arsenic well three star   \n",
              "\n",
              "   review_length  \n",
              "0           25.0  \n",
              "1            4.0  \n",
              "2            3.0  \n",
              "3           26.0  \n",
              "4            NaN  "
            ],
            "text/html": [
              "\n",
              "  <div id=\"df-fa4d5328-951b-4fe2-a040-c8213706c597\">\n",
              "    <div class=\"colab-df-container\">\n",
              "      <div>\n",
              "<style scoped>\n",
              "    .dataframe tbody tr th:only-of-type {\n",
              "        vertical-align: middle;\n",
              "    }\n",
              "\n",
              "    .dataframe tbody tr th {\n",
              "        vertical-align: top;\n",
              "    }\n",
              "\n",
              "    .dataframe thead th {\n",
              "        text-align: right;\n",
              "    }\n",
              "</style>\n",
              "<table border=\"1\" class=\"dataframe\">\n",
              "  <thead>\n",
              "    <tr style=\"text-align: right;\">\n",
              "      <th></th>\n",
              "      <th>asin</th>\n",
              "      <th>Sentiment</th>\n",
              "      <th>NewReview</th>\n",
              "      <th>review_length</th>\n",
              "    </tr>\n",
              "  </thead>\n",
              "  <tbody>\n",
              "    <tr>\n",
              "      <th>0</th>\n",
              "      <td>B009IQ2RSU</td>\n",
              "      <td>Positive</td>\n",
              "      <td>I like this song, it is worth buying and spend...</td>\n",
              "      <td>25.0</td>\n",
              "    </tr>\n",
              "    <tr>\n",
              "      <th>1</th>\n",
              "      <td>B00ZF3SIDI</td>\n",
              "      <td>Positive</td>\n",
              "      <td>Loved this!! Five Stars</td>\n",
              "      <td>4.0</td>\n",
              "    </tr>\n",
              "    <tr>\n",
              "      <th>2</th>\n",
              "      <td>B00UB4WZSA</td>\n",
              "      <td>Neutral</td>\n",
              "      <td>good Three Stars</td>\n",
              "      <td>3.0</td>\n",
              "    </tr>\n",
              "    <tr>\n",
              "      <th>3</th>\n",
              "      <td>B00136J7OA</td>\n",
              "      <td>Positive</td>\n",
              "      <td>This is one of Micheals great songs! I can't s...</td>\n",
              "      <td>26.0</td>\n",
              "    </tr>\n",
              "    <tr>\n",
              "      <th>4</th>\n",
              "      <td>NaN</td>\n",
              "      <td>Neutral</td>\n",
              "      <td>besides like this one arsenic well three star</td>\n",
              "      <td>NaN</td>\n",
              "    </tr>\n",
              "  </tbody>\n",
              "</table>\n",
              "</div>\n",
              "      <button class=\"colab-df-convert\" onclick=\"convertToInteractive('df-fa4d5328-951b-4fe2-a040-c8213706c597')\"\n",
              "              title=\"Convert this dataframe to an interactive table.\"\n",
              "              style=\"display:none;\">\n",
              "        \n",
              "  <svg xmlns=\"http://www.w3.org/2000/svg\" height=\"24px\"viewBox=\"0 0 24 24\"\n",
              "       width=\"24px\">\n",
              "    <path d=\"M0 0h24v24H0V0z\" fill=\"none\"/>\n",
              "    <path d=\"M18.56 5.44l.94 2.06.94-2.06 2.06-.94-2.06-.94-.94-2.06-.94 2.06-2.06.94zm-11 1L8.5 8.5l.94-2.06 2.06-.94-2.06-.94L8.5 2.5l-.94 2.06-2.06.94zm10 10l.94 2.06.94-2.06 2.06-.94-2.06-.94-.94-2.06-.94 2.06-2.06.94z\"/><path d=\"M17.41 7.96l-1.37-1.37c-.4-.4-.92-.59-1.43-.59-.52 0-1.04.2-1.43.59L10.3 9.45l-7.72 7.72c-.78.78-.78 2.05 0 2.83L4 21.41c.39.39.9.59 1.41.59.51 0 1.02-.2 1.41-.59l7.78-7.78 2.81-2.81c.8-.78.8-2.07 0-2.86zM5.41 20L4 18.59l7.72-7.72 1.47 1.35L5.41 20z\"/>\n",
              "  </svg>\n",
              "      </button>\n",
              "      \n",
              "  <style>\n",
              "    .colab-df-container {\n",
              "      display:flex;\n",
              "      flex-wrap:wrap;\n",
              "      gap: 12px;\n",
              "    }\n",
              "\n",
              "    .colab-df-convert {\n",
              "      background-color: #E8F0FE;\n",
              "      border: none;\n",
              "      border-radius: 50%;\n",
              "      cursor: pointer;\n",
              "      display: none;\n",
              "      fill: #1967D2;\n",
              "      height: 32px;\n",
              "      padding: 0 0 0 0;\n",
              "      width: 32px;\n",
              "    }\n",
              "\n",
              "    .colab-df-convert:hover {\n",
              "      background-color: #E2EBFA;\n",
              "      box-shadow: 0px 1px 2px rgba(60, 64, 67, 0.3), 0px 1px 3px 1px rgba(60, 64, 67, 0.15);\n",
              "      fill: #174EA6;\n",
              "    }\n",
              "\n",
              "    [theme=dark] .colab-df-convert {\n",
              "      background-color: #3B4455;\n",
              "      fill: #D2E3FC;\n",
              "    }\n",
              "\n",
              "    [theme=dark] .colab-df-convert:hover {\n",
              "      background-color: #434B5C;\n",
              "      box-shadow: 0px 1px 3px 1px rgba(0, 0, 0, 0.15);\n",
              "      filter: drop-shadow(0px 1px 2px rgba(0, 0, 0, 0.3));\n",
              "      fill: #FFFFFF;\n",
              "    }\n",
              "  </style>\n",
              "\n",
              "      <script>\n",
              "        const buttonEl =\n",
              "          document.querySelector('#df-fa4d5328-951b-4fe2-a040-c8213706c597 button.colab-df-convert');\n",
              "        buttonEl.style.display =\n",
              "          google.colab.kernel.accessAllowed ? 'block' : 'none';\n",
              "\n",
              "        async function convertToInteractive(key) {\n",
              "          const element = document.querySelector('#df-fa4d5328-951b-4fe2-a040-c8213706c597');\n",
              "          const dataTable =\n",
              "            await google.colab.kernel.invokeFunction('convertToInteractive',\n",
              "                                                     [key], {});\n",
              "          if (!dataTable) return;\n",
              "\n",
              "          const docLinkHtml = 'Like what you see? Visit the ' +\n",
              "            '<a target=\"_blank\" href=https://colab.research.google.com/notebooks/data_table.ipynb>data table notebook</a>'\n",
              "            + ' to learn more about interactive tables.';\n",
              "          element.innerHTML = '';\n",
              "          dataTable['output_type'] = 'display_data';\n",
              "          await google.colab.output.renderOutput(dataTable, element);\n",
              "          const docLink = document.createElement('div');\n",
              "          docLink.innerHTML = docLinkHtml;\n",
              "          element.appendChild(docLink);\n",
              "        }\n",
              "      </script>\n",
              "    </div>\n",
              "  </div>\n",
              "  "
            ]
          },
          "metadata": {},
          "execution_count": 15
        }
      ],
      "source": [
        "df_balanced.head()"
      ]
    },
    {
      "cell_type": "markdown",
      "source": [
        "## clean text"
      ],
      "metadata": {
        "id": "TU2UwuY340lH"
      }
    },
    {
      "cell_type": "code",
      "execution_count": null,
      "metadata": {
        "id": "RUWsm0Zky3zX"
      },
      "outputs": [],
      "source": [
        "# import re\n",
        "# import string\n",
        "# from nltk.corpus import stopwords\n",
        "# from nltk.stem import PorterStemmer, WordNetLemmatizer\n",
        "\n",
        "# # Initialize stopwords\n",
        "# STOPWORDS = set(stopwords.words('english'))\n",
        "\n",
        "# # Convert NewReview to lowercase\n",
        "# df_balanced['NewReview'] = df_balanced['NewReview'].str.lower()\n",
        "\n",
        "# # Remove URLs from NewReview\n",
        "# df_balanced['NewReview'] = df_balanced['NewReview'].apply(lambda x: re.sub(r'http\\S+', '', x))\n",
        "\n",
        "# # Remove currency symbols from NewReview\n",
        "# df_balanced['NewReview'] = df_balanced['NewReview'].apply(lambda x: re.sub(r'£|\\$', '', x))\n",
        "\n",
        "# # Remove phone numbers from NewReview\n",
        "# df_balanced['NewReview'] = df_balanced['NewReview'].apply(lambda x: re.sub(r'^[\\(]?[\\d]{3}[\\)\\-]?[\\s\\.]?[\\d]{3}[\\-\\s\\.]?[\\d]{4}$', '', x))\n",
        "\n",
        "# # Remove digits from NewReview\n",
        "# df_balanced['NewReview'] = df_balanced['NewReview'].apply(lambda x: re.sub(r'\\d+', '', x))\n",
        "\n",
        "# # Remove email addresses from NewReview\n",
        "# df_balanced['NewReview'] = df_balanced['NewReview'].apply(lambda x: re.sub(r'^.+@[^\\.].*\\.[a-z]{2,}$', '', x))\n",
        "\n",
        "# # Remove special characters from NewReview\n",
        "# df_balanced['NewReview'] = df_balanced['NewReview'].apply(lambda x: re.sub(r'[\\'“’]', '', x))\n",
        "\n",
        "# # Remove stopwords from NewReview\n",
        "# df_balanced['NewReview'] = df_balanced['NewReview'].apply(lambda x: \" \".join([word for word in x.split() if word.lower() not in STOPWORDS]))\n",
        "\n",
        "# # Remove empty values from NewReview\n",
        "# df_balanced['NewReview'] = df_balanced['NewReview'].apply(lambda x: '' if pd.isna(x) or not isinstance(x, str) else x)\n"
      ]
    },
    {
      "cell_type": "code",
      "execution_count": 16,
      "metadata": {
        "id": "N8Zcubsgy3zc"
      },
      "outputs": [],
      "source": [
        "from nltk.stem import *\n",
        "\n",
        "# Initialize stopwords\n",
        "STOPWORDS = set(stopwords.words('english'))\n",
        "# Initialize stemmer and lemmatizer\n",
        "stemmer = PorterStemmer()\n",
        "lemmatizer = WordNetLemmatizer()\n",
        "\n",
        "# Define function for text cleaning\n",
        "def clean_text(text):\n",
        "    # Convert to lowercase\n",
        "    text = text.lower()\n",
        "\n",
        "    # Remove URLs\n",
        "    text = re.sub(r'http\\S+', '', text)\n",
        "\n",
        "    # Remove currency symbols\n",
        "    text = re.sub(r'£|\\$', '', text)\n",
        "\n",
        "    # Remove phone numbers\n",
        "    text = re.sub(r'^\\(?[\\d]{3}\\)?[\\s-]?[\\d]{3}[\\s-]?[\\d]{4}$', '', text)\n",
        "\n",
        "    # Remove email addresses\n",
        "    text = re.sub(r'\\S+@\\S+', '', text)\n",
        "\n",
        "    # Remove punctuation and special characters except emojis\n",
        "    #text = re.sub(r'[^\\w\\s' + emoji.get_emoji_regexp() + ']', '', text)\n",
        "    text = demoji.replace(text, '')\n",
        "\n",
        "    # Tokenize text into words\n",
        "    words = nltk.word_tokenize(text)\n",
        "    \n",
        "    # Remove stopwords and handle negation\n",
        "    negation_words = ['not', 'no', 'never', 'neither', 'nor']\n",
        "    words = [word if word.lower() in negation_words else word.lower() for word in words]\n",
        "    words = [word for word in words if word.lower() not in STOPWORDS]\n",
        "    words = [f'NOT_{words[i+1]}' if (i < len(words)-1 and words[i].lower() in negation_words and words[i+1] not in string.punctuation) else words[i] for i in range(len(words))]\n",
        "    \n",
        "    # Lemmatize words\n",
        "    words = [lemmatizer.lemmatize(word) for word in words]\n",
        "\n",
        "    # Stem words\n",
        "    words = [stemmer.stem(word) for word in words]\n",
        "\n",
        "    # Join words back into text\n",
        "    cleaned_text = ' '.join(words)\n",
        "    return cleaned_text\n"
      ]
    },
    {
      "cell_type": "code",
      "execution_count": null,
      "metadata": {
        "id": "Fuhyn5Zvy3zc"
      },
      "outputs": [],
      "source": [
        "#df_balanced['processed_review'] = df_balanced['NewReview'].apply(clean_text)"
      ]
    },
    {
      "cell_type": "code",
      "source": [
        "from multiprocessing import cpu_count, Pool\n",
        "pool = Pool(cpu_count())\n",
        "tasks = df_balanced['NewReview'].tolist()\n",
        "done = pool.map(clean_text, tasks)  # parallel processing\n",
        "df_balanced['processed_review'] = done\n"
      ],
      "metadata": {
        "id": "YAB8B5-nREYo"
      },
      "execution_count": 17,
      "outputs": []
    },
    {
      "cell_type": "code",
      "execution_count": 18,
      "metadata": {
        "id": "4gyvBEpZy3zd",
        "colab": {
          "base_uri": "https://localhost:8080/",
          "height": 206
        },
        "outputId": "02d65c75-9246-49b0-8d9e-f53f282bd419"
      },
      "outputs": [
        {
          "output_type": "execute_result",
          "data": {
            "text/plain": [
              "         asin Sentiment                                          NewReview  \\\n",
              "0  B009IQ2RSU  Positive  I like this song, it is worth buying and spend...   \n",
              "1  B00ZF3SIDI  Positive                            Loved this!! Five Stars   \n",
              "2  B00UB4WZSA   Neutral                                   good Three Stars   \n",
              "3  B00136J7OA  Positive  This is one of Micheals great songs! I can't s...   \n",
              "4         NaN   Neutral      besides like this one arsenic well three star   \n",
              "\n",
              "   review_length                                   processed_review  \n",
              "0           25.0  like song , worth buy spend money . instrument...  \n",
              "1            4.0                                 love ! ! five star  \n",
              "2            3.0                                    good three star  \n",
              "3           26.0  one micheal great song ! ca n't sit still star...  \n",
              "4            NaN               besid like one arsen well three star  "
            ],
            "text/html": [
              "\n",
              "  <div id=\"df-b1a3acf0-0384-495d-ad8d-f0e8dc01e1b5\">\n",
              "    <div class=\"colab-df-container\">\n",
              "      <div>\n",
              "<style scoped>\n",
              "    .dataframe tbody tr th:only-of-type {\n",
              "        vertical-align: middle;\n",
              "    }\n",
              "\n",
              "    .dataframe tbody tr th {\n",
              "        vertical-align: top;\n",
              "    }\n",
              "\n",
              "    .dataframe thead th {\n",
              "        text-align: right;\n",
              "    }\n",
              "</style>\n",
              "<table border=\"1\" class=\"dataframe\">\n",
              "  <thead>\n",
              "    <tr style=\"text-align: right;\">\n",
              "      <th></th>\n",
              "      <th>asin</th>\n",
              "      <th>Sentiment</th>\n",
              "      <th>NewReview</th>\n",
              "      <th>review_length</th>\n",
              "      <th>processed_review</th>\n",
              "    </tr>\n",
              "  </thead>\n",
              "  <tbody>\n",
              "    <tr>\n",
              "      <th>0</th>\n",
              "      <td>B009IQ2RSU</td>\n",
              "      <td>Positive</td>\n",
              "      <td>I like this song, it is worth buying and spend...</td>\n",
              "      <td>25.0</td>\n",
              "      <td>like song , worth buy spend money . instrument...</td>\n",
              "    </tr>\n",
              "    <tr>\n",
              "      <th>1</th>\n",
              "      <td>B00ZF3SIDI</td>\n",
              "      <td>Positive</td>\n",
              "      <td>Loved this!! Five Stars</td>\n",
              "      <td>4.0</td>\n",
              "      <td>love ! ! five star</td>\n",
              "    </tr>\n",
              "    <tr>\n",
              "      <th>2</th>\n",
              "      <td>B00UB4WZSA</td>\n",
              "      <td>Neutral</td>\n",
              "      <td>good Three Stars</td>\n",
              "      <td>3.0</td>\n",
              "      <td>good three star</td>\n",
              "    </tr>\n",
              "    <tr>\n",
              "      <th>3</th>\n",
              "      <td>B00136J7OA</td>\n",
              "      <td>Positive</td>\n",
              "      <td>This is one of Micheals great songs! I can't s...</td>\n",
              "      <td>26.0</td>\n",
              "      <td>one micheal great song ! ca n't sit still star...</td>\n",
              "    </tr>\n",
              "    <tr>\n",
              "      <th>4</th>\n",
              "      <td>NaN</td>\n",
              "      <td>Neutral</td>\n",
              "      <td>besides like this one arsenic well three star</td>\n",
              "      <td>NaN</td>\n",
              "      <td>besid like one arsen well three star</td>\n",
              "    </tr>\n",
              "  </tbody>\n",
              "</table>\n",
              "</div>\n",
              "      <button class=\"colab-df-convert\" onclick=\"convertToInteractive('df-b1a3acf0-0384-495d-ad8d-f0e8dc01e1b5')\"\n",
              "              title=\"Convert this dataframe to an interactive table.\"\n",
              "              style=\"display:none;\">\n",
              "        \n",
              "  <svg xmlns=\"http://www.w3.org/2000/svg\" height=\"24px\"viewBox=\"0 0 24 24\"\n",
              "       width=\"24px\">\n",
              "    <path d=\"M0 0h24v24H0V0z\" fill=\"none\"/>\n",
              "    <path d=\"M18.56 5.44l.94 2.06.94-2.06 2.06-.94-2.06-.94-.94-2.06-.94 2.06-2.06.94zm-11 1L8.5 8.5l.94-2.06 2.06-.94-2.06-.94L8.5 2.5l-.94 2.06-2.06.94zm10 10l.94 2.06.94-2.06 2.06-.94-2.06-.94-.94-2.06-.94 2.06-2.06.94z\"/><path d=\"M17.41 7.96l-1.37-1.37c-.4-.4-.92-.59-1.43-.59-.52 0-1.04.2-1.43.59L10.3 9.45l-7.72 7.72c-.78.78-.78 2.05 0 2.83L4 21.41c.39.39.9.59 1.41.59.51 0 1.02-.2 1.41-.59l7.78-7.78 2.81-2.81c.8-.78.8-2.07 0-2.86zM5.41 20L4 18.59l7.72-7.72 1.47 1.35L5.41 20z\"/>\n",
              "  </svg>\n",
              "      </button>\n",
              "      \n",
              "  <style>\n",
              "    .colab-df-container {\n",
              "      display:flex;\n",
              "      flex-wrap:wrap;\n",
              "      gap: 12px;\n",
              "    }\n",
              "\n",
              "    .colab-df-convert {\n",
              "      background-color: #E8F0FE;\n",
              "      border: none;\n",
              "      border-radius: 50%;\n",
              "      cursor: pointer;\n",
              "      display: none;\n",
              "      fill: #1967D2;\n",
              "      height: 32px;\n",
              "      padding: 0 0 0 0;\n",
              "      width: 32px;\n",
              "    }\n",
              "\n",
              "    .colab-df-convert:hover {\n",
              "      background-color: #E2EBFA;\n",
              "      box-shadow: 0px 1px 2px rgba(60, 64, 67, 0.3), 0px 1px 3px 1px rgba(60, 64, 67, 0.15);\n",
              "      fill: #174EA6;\n",
              "    }\n",
              "\n",
              "    [theme=dark] .colab-df-convert {\n",
              "      background-color: #3B4455;\n",
              "      fill: #D2E3FC;\n",
              "    }\n",
              "\n",
              "    [theme=dark] .colab-df-convert:hover {\n",
              "      background-color: #434B5C;\n",
              "      box-shadow: 0px 1px 3px 1px rgba(0, 0, 0, 0.15);\n",
              "      filter: drop-shadow(0px 1px 2px rgba(0, 0, 0, 0.3));\n",
              "      fill: #FFFFFF;\n",
              "    }\n",
              "  </style>\n",
              "\n",
              "      <script>\n",
              "        const buttonEl =\n",
              "          document.querySelector('#df-b1a3acf0-0384-495d-ad8d-f0e8dc01e1b5 button.colab-df-convert');\n",
              "        buttonEl.style.display =\n",
              "          google.colab.kernel.accessAllowed ? 'block' : 'none';\n",
              "\n",
              "        async function convertToInteractive(key) {\n",
              "          const element = document.querySelector('#df-b1a3acf0-0384-495d-ad8d-f0e8dc01e1b5');\n",
              "          const dataTable =\n",
              "            await google.colab.kernel.invokeFunction('convertToInteractive',\n",
              "                                                     [key], {});\n",
              "          if (!dataTable) return;\n",
              "\n",
              "          const docLinkHtml = 'Like what you see? Visit the ' +\n",
              "            '<a target=\"_blank\" href=https://colab.research.google.com/notebooks/data_table.ipynb>data table notebook</a>'\n",
              "            + ' to learn more about interactive tables.';\n",
              "          element.innerHTML = '';\n",
              "          dataTable['output_type'] = 'display_data';\n",
              "          await google.colab.output.renderOutput(dataTable, element);\n",
              "          const docLink = document.createElement('div');\n",
              "          docLink.innerHTML = docLinkHtml;\n",
              "          element.appendChild(docLink);\n",
              "        }\n",
              "      </script>\n",
              "    </div>\n",
              "  </div>\n",
              "  "
            ]
          },
          "metadata": {},
          "execution_count": 18
        }
      ],
      "source": [
        "df_balanced.head()"
      ]
    },
    {
      "cell_type": "code",
      "execution_count": 19,
      "metadata": {
        "id": "Dq94fu0uy3zd"
      },
      "outputs": [],
      "source": [
        "df_balanced = df_balanced.drop(columns=['NewReview'])"
      ]
    },
    {
      "cell_type": "code",
      "execution_count": 20,
      "metadata": {
        "id": "cAwmKxNEy3zd",
        "colab": {
          "base_uri": "https://localhost:8080/",
          "height": 206
        },
        "outputId": "9796ebba-eb8a-4882-80d3-524c7094d0fc"
      },
      "outputs": [
        {
          "output_type": "execute_result",
          "data": {
            "text/plain": [
              "         asin Sentiment  review_length  \\\n",
              "0  B009IQ2RSU  Positive           25.0   \n",
              "1  B00ZF3SIDI  Positive            4.0   \n",
              "2  B00UB4WZSA   Neutral            3.0   \n",
              "3  B00136J7OA  Positive           26.0   \n",
              "4         NaN   Neutral            NaN   \n",
              "\n",
              "                                    processed_review  \n",
              "0  like song , worth buy spend money . instrument...  \n",
              "1                                 love ! ! five star  \n",
              "2                                    good three star  \n",
              "3  one micheal great song ! ca n't sit still star...  \n",
              "4               besid like one arsen well three star  "
            ],
            "text/html": [
              "\n",
              "  <div id=\"df-bb6fe6a0-30cb-454b-a6ee-e303c766d09a\">\n",
              "    <div class=\"colab-df-container\">\n",
              "      <div>\n",
              "<style scoped>\n",
              "    .dataframe tbody tr th:only-of-type {\n",
              "        vertical-align: middle;\n",
              "    }\n",
              "\n",
              "    .dataframe tbody tr th {\n",
              "        vertical-align: top;\n",
              "    }\n",
              "\n",
              "    .dataframe thead th {\n",
              "        text-align: right;\n",
              "    }\n",
              "</style>\n",
              "<table border=\"1\" class=\"dataframe\">\n",
              "  <thead>\n",
              "    <tr style=\"text-align: right;\">\n",
              "      <th></th>\n",
              "      <th>asin</th>\n",
              "      <th>Sentiment</th>\n",
              "      <th>review_length</th>\n",
              "      <th>processed_review</th>\n",
              "    </tr>\n",
              "  </thead>\n",
              "  <tbody>\n",
              "    <tr>\n",
              "      <th>0</th>\n",
              "      <td>B009IQ2RSU</td>\n",
              "      <td>Positive</td>\n",
              "      <td>25.0</td>\n",
              "      <td>like song , worth buy spend money . instrument...</td>\n",
              "    </tr>\n",
              "    <tr>\n",
              "      <th>1</th>\n",
              "      <td>B00ZF3SIDI</td>\n",
              "      <td>Positive</td>\n",
              "      <td>4.0</td>\n",
              "      <td>love ! ! five star</td>\n",
              "    </tr>\n",
              "    <tr>\n",
              "      <th>2</th>\n",
              "      <td>B00UB4WZSA</td>\n",
              "      <td>Neutral</td>\n",
              "      <td>3.0</td>\n",
              "      <td>good three star</td>\n",
              "    </tr>\n",
              "    <tr>\n",
              "      <th>3</th>\n",
              "      <td>B00136J7OA</td>\n",
              "      <td>Positive</td>\n",
              "      <td>26.0</td>\n",
              "      <td>one micheal great song ! ca n't sit still star...</td>\n",
              "    </tr>\n",
              "    <tr>\n",
              "      <th>4</th>\n",
              "      <td>NaN</td>\n",
              "      <td>Neutral</td>\n",
              "      <td>NaN</td>\n",
              "      <td>besid like one arsen well three star</td>\n",
              "    </tr>\n",
              "  </tbody>\n",
              "</table>\n",
              "</div>\n",
              "      <button class=\"colab-df-convert\" onclick=\"convertToInteractive('df-bb6fe6a0-30cb-454b-a6ee-e303c766d09a')\"\n",
              "              title=\"Convert this dataframe to an interactive table.\"\n",
              "              style=\"display:none;\">\n",
              "        \n",
              "  <svg xmlns=\"http://www.w3.org/2000/svg\" height=\"24px\"viewBox=\"0 0 24 24\"\n",
              "       width=\"24px\">\n",
              "    <path d=\"M0 0h24v24H0V0z\" fill=\"none\"/>\n",
              "    <path d=\"M18.56 5.44l.94 2.06.94-2.06 2.06-.94-2.06-.94-.94-2.06-.94 2.06-2.06.94zm-11 1L8.5 8.5l.94-2.06 2.06-.94-2.06-.94L8.5 2.5l-.94 2.06-2.06.94zm10 10l.94 2.06.94-2.06 2.06-.94-2.06-.94-.94-2.06-.94 2.06-2.06.94z\"/><path d=\"M17.41 7.96l-1.37-1.37c-.4-.4-.92-.59-1.43-.59-.52 0-1.04.2-1.43.59L10.3 9.45l-7.72 7.72c-.78.78-.78 2.05 0 2.83L4 21.41c.39.39.9.59 1.41.59.51 0 1.02-.2 1.41-.59l7.78-7.78 2.81-2.81c.8-.78.8-2.07 0-2.86zM5.41 20L4 18.59l7.72-7.72 1.47 1.35L5.41 20z\"/>\n",
              "  </svg>\n",
              "      </button>\n",
              "      \n",
              "  <style>\n",
              "    .colab-df-container {\n",
              "      display:flex;\n",
              "      flex-wrap:wrap;\n",
              "      gap: 12px;\n",
              "    }\n",
              "\n",
              "    .colab-df-convert {\n",
              "      background-color: #E8F0FE;\n",
              "      border: none;\n",
              "      border-radius: 50%;\n",
              "      cursor: pointer;\n",
              "      display: none;\n",
              "      fill: #1967D2;\n",
              "      height: 32px;\n",
              "      padding: 0 0 0 0;\n",
              "      width: 32px;\n",
              "    }\n",
              "\n",
              "    .colab-df-convert:hover {\n",
              "      background-color: #E2EBFA;\n",
              "      box-shadow: 0px 1px 2px rgba(60, 64, 67, 0.3), 0px 1px 3px 1px rgba(60, 64, 67, 0.15);\n",
              "      fill: #174EA6;\n",
              "    }\n",
              "\n",
              "    [theme=dark] .colab-df-convert {\n",
              "      background-color: #3B4455;\n",
              "      fill: #D2E3FC;\n",
              "    }\n",
              "\n",
              "    [theme=dark] .colab-df-convert:hover {\n",
              "      background-color: #434B5C;\n",
              "      box-shadow: 0px 1px 3px 1px rgba(0, 0, 0, 0.15);\n",
              "      filter: drop-shadow(0px 1px 2px rgba(0, 0, 0, 0.3));\n",
              "      fill: #FFFFFF;\n",
              "    }\n",
              "  </style>\n",
              "\n",
              "      <script>\n",
              "        const buttonEl =\n",
              "          document.querySelector('#df-bb6fe6a0-30cb-454b-a6ee-e303c766d09a button.colab-df-convert');\n",
              "        buttonEl.style.display =\n",
              "          google.colab.kernel.accessAllowed ? 'block' : 'none';\n",
              "\n",
              "        async function convertToInteractive(key) {\n",
              "          const element = document.querySelector('#df-bb6fe6a0-30cb-454b-a6ee-e303c766d09a');\n",
              "          const dataTable =\n",
              "            await google.colab.kernel.invokeFunction('convertToInteractive',\n",
              "                                                     [key], {});\n",
              "          if (!dataTable) return;\n",
              "\n",
              "          const docLinkHtml = 'Like what you see? Visit the ' +\n",
              "            '<a target=\"_blank\" href=https://colab.research.google.com/notebooks/data_table.ipynb>data table notebook</a>'\n",
              "            + ' to learn more about interactive tables.';\n",
              "          element.innerHTML = '';\n",
              "          dataTable['output_type'] = 'display_data';\n",
              "          await google.colab.output.renderOutput(dataTable, element);\n",
              "          const docLink = document.createElement('div');\n",
              "          docLink.innerHTML = docLinkHtml;\n",
              "          element.appendChild(docLink);\n",
              "        }\n",
              "      </script>\n",
              "    </div>\n",
              "  </div>\n",
              "  "
            ]
          },
          "metadata": {},
          "execution_count": 20
        }
      ],
      "source": [
        "df_balanced.head()"
      ]
    },
    {
      "cell_type": "markdown",
      "source": [
        "### save to file, save time"
      ],
      "metadata": {
        "id": "B_njt6_E7IDG"
      }
    },
    {
      "cell_type": "code",
      "execution_count": 8,
      "metadata": {
        "id": "AhsLz4Suy3zW"
      },
      "outputs": [],
      "source": [
        "#drop non-English comments\n",
        "from langdetect import detect\n",
        "\n",
        "def is_english(text):\n",
        "    try:\n",
        "        lang = detect(text)\n",
        "        return lang == 'en'\n",
        "    except:\n",
        "        return False\n",
        "\n",
        "#music_df = music_df[music_df['NewReview'].apply(is_english)]\n",
        "\n",
        "\n"
      ]
    },
    {
      "cell_type": "code",
      "source": [
        "#music_df.to_json(\"music_df_en_only.json.gz\", orient='records',lines=True)"
      ],
      "metadata": {
        "id": "4zTalDNY-rnz"
      },
      "execution_count": 9,
      "outputs": []
    },
    {
      "cell_type": "code",
      "source": [
        "from multiprocessing import cpu_count, Pool\n",
        "pool = Pool(cpu_count())\n",
        "tasks = music_df['NewReview'].tolist()\n",
        "#done = pool.map(clean_text, tasks)  # parallel processing\n",
        "#music_df['processed_review'] = done"
      ],
      "metadata": {
        "id": "BSaaQj9x805S"
      },
      "execution_count": 10,
      "outputs": []
    },
    {
      "cell_type": "code",
      "source": [
        "#music_df = music_df.drop(columns=['NewReview'])"
      ],
      "metadata": {
        "id": "DykSm_1I9Wjq"
      },
      "execution_count": 11,
      "outputs": []
    },
    {
      "cell_type": "code",
      "source": [
        "\n",
        "#music_df.to_json(\"music_df_en_only_cleaned.json.gz\", orient='records',lines=True)"
      ],
      "metadata": {
        "id": "Dw1SaaXw80w6"
      },
      "execution_count": 12,
      "outputs": []
    },
    {
      "cell_type": "code",
      "source": [
        "music_df = pd.read_json(\"music_df_en_only_cleaned.json.gz\", orient='records',lines=True)\n"
      ],
      "metadata": {
        "id": "NbUqIYQU80oK"
      },
      "execution_count": 14,
      "outputs": []
    },
    {
      "cell_type": "code",
      "source": [
        "music_df.head()"
      ],
      "metadata": {
        "colab": {
          "base_uri": "https://localhost:8080/",
          "height": 206
        },
        "id": "CQnEEmyLdezo",
        "outputId": "4987a33e-6b2d-4cf6-8eaa-65783c54db0d"
      },
      "execution_count": 15,
      "outputs": [
        {
          "output_type": "execute_result",
          "data": {
            "text/plain": [
              "       reviewerID        asin helpful  overall Sentiment  review_length  \\\n",
              "0  A3EBHHCZO6V2A4  5555991584  [3, 3]        5  Positive            157   \n",
              "1   AZPWAXJG9OJXV  5555991584  [0, 0]        5  Positive            105   \n",
              "2  A38IRL0X2T4DPF  5555991584  [2, 2]        5  Positive             88   \n",
              "3  A22IK3I6U76GX0  5555991584  [1, 1]        5  Positive             95   \n",
              "4  A1AISPOIIHTHXX  5555991584  [1, 1]        4  Positive            719   \n",
              "\n",
              "                                    processed_review  \n",
              "0  's hard believ `` memori tree '' came 11 year ...  \n",
              "1  clasically-styl introvert album , memori tree ...  \n",
              "2  not_thought thought enya would reach sublim he...  \n",
              "3  third review irish album write today ( other c...  \n",
              "4  enya , despit success record artist , n't broa...  "
            ],
            "text/html": [
              "\n",
              "  <div id=\"df-a151f481-fc1c-433c-a055-f28c62a07470\">\n",
              "    <div class=\"colab-df-container\">\n",
              "      <div>\n",
              "<style scoped>\n",
              "    .dataframe tbody tr th:only-of-type {\n",
              "        vertical-align: middle;\n",
              "    }\n",
              "\n",
              "    .dataframe tbody tr th {\n",
              "        vertical-align: top;\n",
              "    }\n",
              "\n",
              "    .dataframe thead th {\n",
              "        text-align: right;\n",
              "    }\n",
              "</style>\n",
              "<table border=\"1\" class=\"dataframe\">\n",
              "  <thead>\n",
              "    <tr style=\"text-align: right;\">\n",
              "      <th></th>\n",
              "      <th>reviewerID</th>\n",
              "      <th>asin</th>\n",
              "      <th>helpful</th>\n",
              "      <th>overall</th>\n",
              "      <th>Sentiment</th>\n",
              "      <th>review_length</th>\n",
              "      <th>processed_review</th>\n",
              "    </tr>\n",
              "  </thead>\n",
              "  <tbody>\n",
              "    <tr>\n",
              "      <th>0</th>\n",
              "      <td>A3EBHHCZO6V2A4</td>\n",
              "      <td>5555991584</td>\n",
              "      <td>[3, 3]</td>\n",
              "      <td>5</td>\n",
              "      <td>Positive</td>\n",
              "      <td>157</td>\n",
              "      <td>'s hard believ `` memori tree '' came 11 year ...</td>\n",
              "    </tr>\n",
              "    <tr>\n",
              "      <th>1</th>\n",
              "      <td>AZPWAXJG9OJXV</td>\n",
              "      <td>5555991584</td>\n",
              "      <td>[0, 0]</td>\n",
              "      <td>5</td>\n",
              "      <td>Positive</td>\n",
              "      <td>105</td>\n",
              "      <td>clasically-styl introvert album , memori tree ...</td>\n",
              "    </tr>\n",
              "    <tr>\n",
              "      <th>2</th>\n",
              "      <td>A38IRL0X2T4DPF</td>\n",
              "      <td>5555991584</td>\n",
              "      <td>[2, 2]</td>\n",
              "      <td>5</td>\n",
              "      <td>Positive</td>\n",
              "      <td>88</td>\n",
              "      <td>not_thought thought enya would reach sublim he...</td>\n",
              "    </tr>\n",
              "    <tr>\n",
              "      <th>3</th>\n",
              "      <td>A22IK3I6U76GX0</td>\n",
              "      <td>5555991584</td>\n",
              "      <td>[1, 1]</td>\n",
              "      <td>5</td>\n",
              "      <td>Positive</td>\n",
              "      <td>95</td>\n",
              "      <td>third review irish album write today ( other c...</td>\n",
              "    </tr>\n",
              "    <tr>\n",
              "      <th>4</th>\n",
              "      <td>A1AISPOIIHTHXX</td>\n",
              "      <td>5555991584</td>\n",
              "      <td>[1, 1]</td>\n",
              "      <td>4</td>\n",
              "      <td>Positive</td>\n",
              "      <td>719</td>\n",
              "      <td>enya , despit success record artist , n't broa...</td>\n",
              "    </tr>\n",
              "  </tbody>\n",
              "</table>\n",
              "</div>\n",
              "      <button class=\"colab-df-convert\" onclick=\"convertToInteractive('df-a151f481-fc1c-433c-a055-f28c62a07470')\"\n",
              "              title=\"Convert this dataframe to an interactive table.\"\n",
              "              style=\"display:none;\">\n",
              "        \n",
              "  <svg xmlns=\"http://www.w3.org/2000/svg\" height=\"24px\"viewBox=\"0 0 24 24\"\n",
              "       width=\"24px\">\n",
              "    <path d=\"M0 0h24v24H0V0z\" fill=\"none\"/>\n",
              "    <path d=\"M18.56 5.44l.94 2.06.94-2.06 2.06-.94-2.06-.94-.94-2.06-.94 2.06-2.06.94zm-11 1L8.5 8.5l.94-2.06 2.06-.94-2.06-.94L8.5 2.5l-.94 2.06-2.06.94zm10 10l.94 2.06.94-2.06 2.06-.94-2.06-.94-.94-2.06-.94 2.06-2.06.94z\"/><path d=\"M17.41 7.96l-1.37-1.37c-.4-.4-.92-.59-1.43-.59-.52 0-1.04.2-1.43.59L10.3 9.45l-7.72 7.72c-.78.78-.78 2.05 0 2.83L4 21.41c.39.39.9.59 1.41.59.51 0 1.02-.2 1.41-.59l7.78-7.78 2.81-2.81c.8-.78.8-2.07 0-2.86zM5.41 20L4 18.59l7.72-7.72 1.47 1.35L5.41 20z\"/>\n",
              "  </svg>\n",
              "      </button>\n",
              "      \n",
              "  <style>\n",
              "    .colab-df-container {\n",
              "      display:flex;\n",
              "      flex-wrap:wrap;\n",
              "      gap: 12px;\n",
              "    }\n",
              "\n",
              "    .colab-df-convert {\n",
              "      background-color: #E8F0FE;\n",
              "      border: none;\n",
              "      border-radius: 50%;\n",
              "      cursor: pointer;\n",
              "      display: none;\n",
              "      fill: #1967D2;\n",
              "      height: 32px;\n",
              "      padding: 0 0 0 0;\n",
              "      width: 32px;\n",
              "    }\n",
              "\n",
              "    .colab-df-convert:hover {\n",
              "      background-color: #E2EBFA;\n",
              "      box-shadow: 0px 1px 2px rgba(60, 64, 67, 0.3), 0px 1px 3px 1px rgba(60, 64, 67, 0.15);\n",
              "      fill: #174EA6;\n",
              "    }\n",
              "\n",
              "    [theme=dark] .colab-df-convert {\n",
              "      background-color: #3B4455;\n",
              "      fill: #D2E3FC;\n",
              "    }\n",
              "\n",
              "    [theme=dark] .colab-df-convert:hover {\n",
              "      background-color: #434B5C;\n",
              "      box-shadow: 0px 1px 3px 1px rgba(0, 0, 0, 0.15);\n",
              "      filter: drop-shadow(0px 1px 2px rgba(0, 0, 0, 0.3));\n",
              "      fill: #FFFFFF;\n",
              "    }\n",
              "  </style>\n",
              "\n",
              "      <script>\n",
              "        const buttonEl =\n",
              "          document.querySelector('#df-a151f481-fc1c-433c-a055-f28c62a07470 button.colab-df-convert');\n",
              "        buttonEl.style.display =\n",
              "          google.colab.kernel.accessAllowed ? 'block' : 'none';\n",
              "\n",
              "        async function convertToInteractive(key) {\n",
              "          const element = document.querySelector('#df-a151f481-fc1c-433c-a055-f28c62a07470');\n",
              "          const dataTable =\n",
              "            await google.colab.kernel.invokeFunction('convertToInteractive',\n",
              "                                                     [key], {});\n",
              "          if (!dataTable) return;\n",
              "\n",
              "          const docLinkHtml = 'Like what you see? Visit the ' +\n",
              "            '<a target=\"_blank\" href=https://colab.research.google.com/notebooks/data_table.ipynb>data table notebook</a>'\n",
              "            + ' to learn more about interactive tables.';\n",
              "          element.innerHTML = '';\n",
              "          dataTable['output_type'] = 'display_data';\n",
              "          await google.colab.output.renderOutput(dataTable, element);\n",
              "          const docLink = document.createElement('div');\n",
              "          docLink.innerHTML = docLinkHtml;\n",
              "          element.appendChild(docLink);\n",
              "        }\n",
              "      </script>\n",
              "    </div>\n",
              "  </div>\n",
              "  "
            ]
          },
          "metadata": {},
          "execution_count": 15
        }
      ]
    },
    {
      "cell_type": "code",
      "source": [],
      "metadata": {
        "id": "9CLRcYvSwNvP"
      },
      "execution_count": null,
      "outputs": []
    },
    {
      "cell_type": "code",
      "execution_count": null,
      "metadata": {
        "id": "hYSMu5Qcy3zd"
      },
      "outputs": [],
      "source": [
        "X = pd.DataFrame(df_balanced['processed_review'])\n",
        "y = df_balanced['Sentiment']"
      ]
    },
    {
      "cell_type": "markdown",
      "metadata": {
        "id": "qo4FDvHJy3ze"
      },
      "source": [
        "TfidfVectorizer / Naive Bayes"
      ]
    },
    {
      "cell_type": "code",
      "execution_count": null,
      "metadata": {
        "id": "cwAiZzOvy3ze"
      },
      "outputs": [],
      "source": [
        "# Split the data into training and testing sets with stratified sampling\n",
        "X_train, X_test, y_train, y_test = train_test_split(X, y, test_size=0.3, stratify=y, random_state=42)\n",
        "\n",
        "# Define the pipeline\n",
        "pipeline = Pipeline([\n",
        "    ('tfidf', TfidfVectorizer()),\n",
        "    ('nb', MultinomialNB())\n",
        "])\n",
        "\n",
        "# Fit the pipeline on the training data\n",
        "pipeline.fit(X_train['processed_review'], y_train)\n",
        "\n",
        "# Predict on the test data\n",
        "y_pred = pipeline.predict(X_test['processed_review'])\n",
        "\n",
        "# Calculate the accuracy\n",
        "acc = accuracy_score(y_test, y_pred)\n",
        "print(f\"Accuracy: {acc:.3f}\")\n"
      ]
    },
    {
      "cell_type": "code",
      "source": [
        "from sklearn.metrics import accuracy_score, classification_report, confusion_matrix"
      ],
      "metadata": {
        "id": "xcvvzNCIDmfk"
      },
      "execution_count": null,
      "outputs": []
    },
    {
      "cell_type": "code",
      "execution_count": null,
      "metadata": {
        "id": "SEQbyh3JLJmD"
      },
      "outputs": [],
      "source": [
        "print(confusion_matrix(y_test, y_pred))\n",
        "print(classification_report(y_test, y_pred))"
      ]
    },
    {
      "cell_type": "markdown",
      "metadata": {
        "id": "bB-6Es2Ty3zf"
      },
      "source": [
        "Count Vectorizer / Naive Bayse"
      ]
    },
    {
      "cell_type": "code",
      "execution_count": null,
      "metadata": {
        "id": "Duq9-_8Py3zf"
      },
      "outputs": [],
      "source": [
        "# Split the data into training and testing sets with stratified sampling\n",
        "X_train, X_test, y_train, y_test = train_test_split(X, y, test_size=0.3, stratify=y, random_state=42)\n",
        " \n",
        "# Define CountVectorizer\n",
        "count_vectorizer = CountVectorizer()\n",
        "\n",
        "# Define Naive Bayes classifier\n",
        "nb_classifier = MultinomialNB()\n",
        "\n",
        "# Combine CountVectorizer and Naive Bayes classifier into a pipeline\n",
        "pipeline = Pipeline([\n",
        "    ('vectorizer', count_vectorizer),\n",
        "    ('classifier', nb_classifier)\n",
        "])\n",
        "\n",
        "# Fit the pipeline on the training data\n",
        "pipeline.fit(X_train['processed_review'], y_train)\n",
        "\n",
        "# Make predictions on the test data\n",
        "y_pred = pipeline.predict(X_test['processed_review'])\n",
        "\n",
        "# Calculate accuracy\n",
        "accuracy = accuracy_score(y_test, y_pred)\n",
        "\n",
        "print(f\"Accuracy: {accuracy}\")\n"
      ]
    },
    {
      "cell_type": "code",
      "execution_count": null,
      "metadata": {
        "id": "HQegpZi7FFgJ"
      },
      "outputs": [],
      "source": [
        "print(confusion_matrix(y_test, y_pred))\n",
        "print(classification_report(y_test, y_pred))"
      ]
    },
    {
      "cell_type": "markdown",
      "metadata": {
        "id": "XHI467h8y3zf"
      },
      "source": [
        "#### Logistic Regression"
      ]
    },
    {
      "cell_type": "code",
      "execution_count": null,
      "metadata": {
        "colab": {
          "base_uri": "https://localhost:8080/"
        },
        "id": "QDAv5iAfy3zf",
        "outputId": "7af4936a-17c0-4536-e95e-c8bf468087e8"
      },
      "outputs": [
        {
          "output_type": "stream",
          "name": "stderr",
          "text": [
            "/usr/local/lib/python3.9/dist-packages/sklearn/linear_model/_logistic.py:458: ConvergenceWarning: lbfgs failed to converge (status=1):\n",
            "STOP: TOTAL NO. of ITERATIONS REACHED LIMIT.\n",
            "\n",
            "Increase the number of iterations (max_iter) or scale the data as shown in:\n",
            "    https://scikit-learn.org/stable/modules/preprocessing.html\n",
            "Please also refer to the documentation for alternative solver options:\n",
            "    https://scikit-learn.org/stable/modules/linear_model.html#logistic-regression\n",
            "  n_iter_i = _check_optimize_result(\n"
          ]
        },
        {
          "output_type": "stream",
          "name": "stdout",
          "text": [
            "Accuracy: 0.8743203944872929\n"
          ]
        }
      ],
      "source": [
        "# Split the data into training and testing sets with stratified sampling\n",
        "X_train, X_test, y_train, y_test = train_test_split(X, y, test_size=0.3, stratify=y, random_state=42)\n",
        " \n",
        "# Define the pipeline\n",
        "model = make_pipeline(\n",
        "    CountVectorizer(),\n",
        "    StandardScaler(with_mean=False),\n",
        "    LogisticRegression(random_state=42)\n",
        ")\n",
        "\n",
        "# Fit the model to the training data\n",
        "model.fit(X_train['processed_review'], y_train)\n",
        "\n",
        "# Predict the sentiment of the test data\n",
        "y_pred = model.predict(X_test['processed_review'])\n",
        "\n",
        "# Evaluate the accuracy of the model\n",
        "accuracy = accuracy_score(y_test, y_pred)\n",
        "print(f\"Accuracy: {accuracy}\")"
      ]
    },
    {
      "cell_type": "code",
      "execution_count": null,
      "metadata": {
        "outputId": "51c3b5ef-cab5-4a56-e3ba-a46f81bccd79",
        "colab": {
          "base_uri": "https://localhost:8080/"
        },
        "id": "ZJBPz8ZSFG35"
      },
      "outputs": [
        {
          "output_type": "stream",
          "name": "stdout",
          "text": [
            "[[2283   94   74]\n",
            " [ 149 2203  271]\n",
            " [  79  327 2429]]\n",
            "              precision    recall  f1-score   support\n",
            "\n",
            "    Negative       0.91      0.93      0.92      2451\n",
            "     Neutral       0.84      0.84      0.84      2623\n",
            "    Positive       0.88      0.86      0.87      2835\n",
            "\n",
            "    accuracy                           0.87      7909\n",
            "   macro avg       0.87      0.88      0.88      7909\n",
            "weighted avg       0.87      0.87      0.87      7909\n",
            "\n"
          ]
        }
      ],
      "source": [
        "print(confusion_matrix(y_test, y_pred))\n",
        "print(classification_report(y_test, y_pred))"
      ]
    },
    {
      "cell_type": "markdown",
      "metadata": {
        "id": "oF2K3ARhy3zf"
      },
      "source": [
        "#### Gradient Boosting"
      ]
    },
    {
      "cell_type": "code",
      "execution_count": null,
      "metadata": {
        "colab": {
          "base_uri": "https://localhost:8080/"
        },
        "id": "tTAOvkWEy3zf",
        "outputId": "a9bf1f9d-986f-40c7-ccfe-9028d711f490"
      },
      "outputs": [
        {
          "output_type": "stream",
          "name": "stdout",
          "text": [
            "Accuracy: 0.831\n"
          ]
        }
      ],
      "source": [
        "# Split the data into training and testing sets with stratified sampling\n",
        "X_train, X_test, y_train, y_test = train_test_split(X, y, test_size=0.3, stratify=y, random_state=42)\n",
        " \n",
        "# Define the pipeline\n",
        "pipeline = Pipeline([\n",
        "    ('tfidf', TfidfVectorizer()),\n",
        "    ('gb', GradientBoostingClassifier())\n",
        "])\n",
        "\n",
        "# Fit the pipeline on the training data\n",
        "pipeline.fit(X_train['processed_review'], y_train)\n",
        "\n",
        "# Predict on the test data\n",
        "y_pred = pipeline.predict(X_test['processed_review'])\n",
        "\n",
        "# Calculate the accuracy\n",
        "acc = accuracy_score(y_test, y_pred)\n",
        "print(f\"Accuracy: {acc:.3f}\")\n"
      ]
    },
    {
      "cell_type": "code",
      "execution_count": null,
      "metadata": {
        "outputId": "04770e2b-469e-434d-e5fc-1d505de86278",
        "colab": {
          "base_uri": "https://localhost:8080/"
        },
        "id": "tt1bsaBCFH0p"
      },
      "outputs": [
        {
          "output_type": "stream",
          "name": "stdout",
          "text": [
            "[[2087  163  201]\n",
            " [ 352 1893  378]\n",
            " [  23  218 2594]]\n",
            "              precision    recall  f1-score   support\n",
            "\n",
            "    Negative       0.85      0.85      0.85      2451\n",
            "     Neutral       0.83      0.72      0.77      2623\n",
            "    Positive       0.82      0.91      0.86      2835\n",
            "\n",
            "    accuracy                           0.83      7909\n",
            "   macro avg       0.83      0.83      0.83      7909\n",
            "weighted avg       0.83      0.83      0.83      7909\n",
            "\n"
          ]
        }
      ],
      "source": [
        "print(confusion_matrix(y_test, y_pred))\n",
        "print(classification_report(y_test, y_pred))"
      ]
    },
    {
      "cell_type": "markdown",
      "source": [
        "SVM"
      ],
      "metadata": {
        "id": "qG9_dN6qCdod"
      }
    },
    {
      "cell_type": "code",
      "execution_count": null,
      "metadata": {
        "colab": {
          "base_uri": "https://localhost:8080/"
        },
        "id": "mc8UvlRQy3zg",
        "outputId": "54a52072-b57b-465e-e152-05488d5d3c15"
      },
      "outputs": [
        {
          "output_type": "stream",
          "name": "stdout",
          "text": [
            "Accuracy: 0.916\n"
          ]
        }
      ],
      "source": [
        "# Split the data into training and testing sets with stratified sampling\n",
        "X_train, X_test, y_train, y_test = train_test_split(X, y, test_size=0.3, stratify=y, random_state=42)\n",
        " \n",
        "# Define the pipeline\n",
        "pipeline = Pipeline([\n",
        "    ('tfidf', TfidfVectorizer()),\n",
        "    ('svm', SVC())\n",
        "])\n",
        "\n",
        "# Fit the pipeline on the training data\n",
        "pipeline.fit(X_train['processed_review'], y_train)\n",
        "\n",
        "# Predict on the test data\n",
        "y_pred = pipeline.predict(X_test['processed_review'])\n",
        "\n",
        "# Calculate the accuracy\n",
        "acc = accuracy_score(y_test, y_pred)\n",
        "print(f\"Accuracy: {acc:.3f}\")\n"
      ]
    },
    {
      "cell_type": "code",
      "execution_count": null,
      "metadata": {
        "outputId": "30ef7f15-875f-4096-d29b-55bced32cd9c",
        "colab": {
          "base_uri": "https://localhost:8080/"
        },
        "id": "78DgfCdVFJSR"
      },
      "outputs": [
        {
          "output_type": "stream",
          "name": "stdout",
          "text": [
            "[[2278   94   79]\n",
            " [  84 2278  261]\n",
            " [  15  134 2686]]\n",
            "              precision    recall  f1-score   support\n",
            "\n",
            "    Negative       0.96      0.93      0.94      2451\n",
            "     Neutral       0.91      0.87      0.89      2623\n",
            "    Positive       0.89      0.95      0.92      2835\n",
            "\n",
            "    accuracy                           0.92      7909\n",
            "   macro avg       0.92      0.92      0.92      7909\n",
            "weighted avg       0.92      0.92      0.92      7909\n",
            "\n"
          ]
        }
      ],
      "source": [
        "print(confusion_matrix(y_test, y_pred))\n",
        "print(classification_report(y_test, y_pred))"
      ]
    },
    {
      "cell_type": "code",
      "execution_count": null,
      "metadata": {
        "id": "aFwENdary3zg"
      },
      "outputs": [],
      "source": [
        "# Split the data into training and testing sets with stratified sampling\n",
        "X_train, X_test, y_train, y_test = train_test_split(X, y, test_size=0.3, stratify=y, random_state=42)\n",
        " \n",
        "\n",
        "# Define the pipeline\n",
        "pipeline = Pipeline([\n",
        "    ('tfidf', TfidfVectorizer()),\n",
        "    ('svm', SVC())\n",
        "])\n",
        "\n",
        "\n",
        "# Define the hyperparameter grid\n",
        "param_grid = {\n",
        "    'svm__C': [0.1, 1, 10, 100,200],\n",
        "    'svm__kernel': ['linear', 'rbf', 'sigmoid','precomputed','poly'],\n",
        "    'svm__gamma': ['scale', 'auto','float','array-like']\n",
        "}\n",
        "\n",
        "\n",
        "# Define the GridSearchCV object\n",
        "grid_search = GridSearchCV(pipeline, param_grid, cv=5, n_jobs=-1, verbose=2)\n",
        "\n",
        "# Fit the pipeline on the training data\n",
        "grid_search.fit(X_train['processed_review'], y_train)\n",
        "\n",
        "# Print the best hyperparameters\n",
        "print(\"Best parameters: \", grid_search.best_params_)\n",
        "\n",
        "# Predict on the test data using the best estimator\n",
        "y_pred = grid_search.best_estimator_.predict(X_test['processed_review'])\n",
        "\n",
        "# Calculate the accuracy\n",
        "acc = accuracy_score(y_test, y_pred)\n",
        "print(f\"Accuracy: {acc:.3f}\")\n"
      ]
    },
    {
      "cell_type": "code",
      "execution_count": null,
      "metadata": {
        "colab": {
          "base_uri": "https://localhost:8080/"
        },
        "id": "QObqfMvCy3zg",
        "outputId": "7c03b83b-0b60-4698-dd47-d64ebf71b7db"
      },
      "outputs": [
        {
          "output_type": "stream",
          "name": "stdout",
          "text": [
            "Accuracy: 0.921\n"
          ]
        }
      ],
      "source": [
        "# Split the data into training and testing sets with stratified sampling\n",
        "X_train, X_test, y_train, y_test = train_test_split(X, y, test_size=0.3, stratify=y, random_state=42)\n",
        " \n",
        "# Define the pipeline\n",
        "pipeline = Pipeline([\n",
        "    ('tfidf', TfidfVectorizer()),\n",
        "    ('svm', SVC(C= 100, gamma= 'scale', kernel='rbf'))\n",
        "])\n",
        "\n",
        "# Fit the pipeline on the training data\n",
        "pipeline.fit(X_train['processed_review'], y_train)\n",
        "\n",
        "# Predict on the test data\n",
        "y_pred = pipeline.predict(X_test['processed_review'])\n",
        "\n",
        "# Calculate the accuracy\n",
        "acc = accuracy_score(y_test, y_pred)\n",
        "print(f\"Accuracy: {acc:.3f}\")"
      ]
    },
    {
      "cell_type": "code",
      "execution_count": null,
      "metadata": {
        "id": "qWVU__5ky3zg"
      },
      "outputs": [],
      "source": [
        "from sklearn.calibration import CalibratedClassifierCV\n",
        "\n",
        "# Split the data into training and testing sets with stratified sampling\n",
        "X_train, X_test, y_train, y_test = train_test_split(X, y, test_size=0.3, stratify=y, random_state=42)\n",
        "\n",
        "# Define the pipeline\n",
        "pipeline = Pipeline([\n",
        "    ('tfidf', TfidfVectorizer()),\n",
        "    ('svm', SVC(C= 100, gamma= 'scale', kernel='rbf', probability=True)) # set probability to True\n",
        "])\n",
        "\n",
        "# Wrap the pipeline in a calibrated classifier\n",
        "calibrated_pipeline = CalibratedClassifierCV(pipeline, method='sigmoid', cv=5) # you can choose different calibration methods\n",
        "\n",
        "# Fit the pipeline on the training data\n",
        "calibrated_pipeline.fit(X_train['processed_review'], y_train)\n",
        "\n",
        "# Predict on the test data\n",
        "y_pred = calibrated_pipeline.predict(X_test['processed_review'])\n",
        "\n",
        "# Calculate the accuracy\n",
        "acc = accuracy_score(y_test, y_pred)\n",
        "print(f\"Accuracy: {acc:.3f}\")\n"
      ]
    },
    {
      "cell_type": "markdown",
      "source": [
        "##  Recommender -\n",
        "### inspired by: \"Hariri N et el (2011) Context-aware recommendation based on review mining\"\n",
        "### with some modifications, e.g.: using LDA instead of L-LDA, due to we don't have labels in the data etc."
      ],
      "metadata": {
        "id": "vLj0nC5bRuR9"
      }
    },
    {
      "cell_type": "markdown",
      "source": [
        "### Load metadata"
      ],
      "metadata": {
        "id": "FsP5Duzh46YI"
      }
    },
    {
      "cell_type": "code",
      "source": [
        "from keras.utils import get_file\n",
        "\n",
        "dir1 = get_file(origin=\"https://raw.githubusercontent.com/shahrzadko/NLPDigitalMusic/main/meta_Digital_Music.json.gz?token=GHSAT0AAAAAAB6LOL42SKHPCCMIVYPOC4REY7AKE2Q\")\n",
        "dir1\n",
        "\n",
        "import shutil\n",
        "shutil.move(dir1, \"./meta_Digital_Music.json.gz\")"
      ],
      "metadata": {
        "id": "srSlpPI22gpH",
        "colab": {
          "base_uri": "https://localhost:8080/",
          "height": 90
        },
        "outputId": "dbf6b56b-7c4e-4733-bb8b-024e19eb1e68"
      },
      "execution_count": 21,
      "outputs": [
        {
          "output_type": "stream",
          "name": "stdout",
          "text": [
            "Downloading data from https://raw.githubusercontent.com/shahrzadko/NLPDigitalMusic/main/meta_Digital_Music.json.gz?token=GHSAT0AAAAAAB6LOL42SKHPCCMIVYPOC4REY7AKE2Q\n",
            "42335451/42335451 [==============================] - 0s 0us/step\n"
          ]
        },
        {
          "output_type": "execute_result",
          "data": {
            "text/plain": [
              "'./meta_Digital_Music.json.gz'"
            ],
            "application/vnd.google.colaboratory.intrinsic+json": {
              "type": "string"
            }
          },
          "metadata": {},
          "execution_count": 21
        }
      ]
    },
    {
      "cell_type": "code",
      "source": [
        "import ast\n",
        "import html\n",
        "\n",
        "path = 'meta_Digital_Music.json.gz'\n",
        "i = 0\n",
        "df_dict = {}\n",
        "\n",
        "search_full = \"\"\n",
        "\n",
        "jgz = gzip.open(path, 'rb')\n",
        "for line in jgz:\n",
        "    i += 1\n",
        "    #line, _ = re.subn(r'\\'','\"',line.decode('utf-8'))\n",
        "    #d = json.loads(line)\n",
        "    d = ast.literal_eval(line.decode('utf-8'))\n",
        "    \n",
        "    if 'title' not in d or not len(d['title']): continue #remove empty title\n",
        "\n",
        "    if re.search(r'[<>]',d['title']): continue #remove inviald title that only got html tag\n",
        "    d['title'] = html.unescape(d['title'])\n",
        "    \n",
        "    if d['asin'] in df_dict: continue #remove duplicate items\n",
        "\n",
        "    df_dict[d['asin']] = d \n",
        "\n",
        "mdata_df = pd.DataFrame.from_dict(df_dict, orient='index')\n",
        "print(i)"
      ],
      "metadata": {
        "id": "UTXyWUt5419W",
        "colab": {
          "base_uri": "https://localhost:8080/"
        },
        "outputId": "5505166a-d107-4eee-e4d1-18772106e136"
      },
      "execution_count": 22,
      "outputs": [
        {
          "output_type": "stream",
          "name": "stdout",
          "text": [
            "279899\n"
          ]
        }
      ]
    },
    {
      "cell_type": "code",
      "source": [
        "mdata_df.shape"
      ],
      "metadata": {
        "id": "8sdgKp5kgWvt",
        "colab": {
          "base_uri": "https://localhost:8080/"
        },
        "outputId": "68fed455-1bd5-4573-eb1b-984921449fa8"
      },
      "execution_count": 23,
      "outputs": [
        {
          "output_type": "execute_result",
          "data": {
            "text/plain": [
              "(7321, 9)"
            ]
          },
          "metadata": {},
          "execution_count": 23
        }
      ]
    },
    {
      "cell_type": "code",
      "source": [
        "mdata_df.head()"
      ],
      "metadata": {
        "id": "q_DV6wPD6rme",
        "colab": {
          "base_uri": "https://localhost:8080/",
          "height": 424
        },
        "outputId": "b193b3ad-e8ba-4c5c-aeb1-76d075b9a849"
      },
      "execution_count": 24,
      "outputs": [
        {
          "output_type": "execute_result",
          "data": {
            "text/plain": [
              "                  asin                  title  price  \\\n",
              "5555991584  5555991584        Memory of Trees   9.49   \n",
              "6308051551  6308051551  Don't Drink His Blood   8.91   \n",
              "7901622466  7901622466                On Fire  11.33   \n",
              "B0000000ZW  B0000000ZW         Changing Faces  23.64   \n",
              "B00000016W  B00000016W             Pet Sounds   9.49   \n",
              "\n",
              "                                                        imUrl  \\\n",
              "5555991584  http://ecx.images-amazon.com/images/I/51b5WDjd...   \n",
              "6308051551  http://ecx.images-amazon.com/images/I/31LT2n7Q...   \n",
              "7901622466  http://ecx.images-amazon.com/images/I/21W29WZw...   \n",
              "B0000000ZW  http://ecx.images-amazon.com/images/I/51H3Bp-3...   \n",
              "B00000016W  http://ecx.images-amazon.com/images/I/51pDGkXj...   \n",
              "\n",
              "                                                      related  \\\n",
              "5555991584  {'also_bought': ['B000002LRT', 'B000002LRR', '...   \n",
              "6308051551                                                NaN   \n",
              "7901622466  {'also_bought': ['B00000282A', 'B0084O8O9S', '...   \n",
              "B0000000ZW  {'also_bought': ['B00000010Z', 'B0000039Q5', '...   \n",
              "B00000016W  {'also_bought': ['B0025KVLTM', 'B00007FOMP', '...   \n",
              "\n",
              "                    salesRank  \\\n",
              "5555991584  {'Music': 939190}   \n",
              "6308051551                NaN   \n",
              "7901622466   {'Music': 58799}   \n",
              "B0000000ZW   {'Music': 68784}   \n",
              "B00000016W   {'Music': 77205}   \n",
              "\n",
              "                                                   categories  \\\n",
              "5555991584  [[CDs & Vinyl, New Age, Celtic New Age], [CDs ...   \n",
              "6308051551  [[Digital Music, Alternative Rock, Indie & Lo-...   \n",
              "7901622466  [[CDs & Vinyl, Christian, Rock & Alternative],...   \n",
              "B0000000ZW  [[CDs & Vinyl, Dance & Electronic], [CDs & Vin...   \n",
              "B00000016W  [[CDs & Vinyl, Classic Rock], [CDs & Vinyl, Po...   \n",
              "\n",
              "                                   description brand  \n",
              "5555991584                                 NaN   NaN  \n",
              "6308051551  NEW Combo BLUWAVS CD and FLAC FILE   NaN  \n",
              "7901622466                                 NaN   NaN  \n",
              "B0000000ZW                                            \n",
              "B00000016W                                 NaN   NaN  "
            ],
            "text/html": [
              "\n",
              "  <div id=\"df-77aa4ad1-1245-4192-ad9f-057c288c6a04\">\n",
              "    <div class=\"colab-df-container\">\n",
              "      <div>\n",
              "<style scoped>\n",
              "    .dataframe tbody tr th:only-of-type {\n",
              "        vertical-align: middle;\n",
              "    }\n",
              "\n",
              "    .dataframe tbody tr th {\n",
              "        vertical-align: top;\n",
              "    }\n",
              "\n",
              "    .dataframe thead th {\n",
              "        text-align: right;\n",
              "    }\n",
              "</style>\n",
              "<table border=\"1\" class=\"dataframe\">\n",
              "  <thead>\n",
              "    <tr style=\"text-align: right;\">\n",
              "      <th></th>\n",
              "      <th>asin</th>\n",
              "      <th>title</th>\n",
              "      <th>price</th>\n",
              "      <th>imUrl</th>\n",
              "      <th>related</th>\n",
              "      <th>salesRank</th>\n",
              "      <th>categories</th>\n",
              "      <th>description</th>\n",
              "      <th>brand</th>\n",
              "    </tr>\n",
              "  </thead>\n",
              "  <tbody>\n",
              "    <tr>\n",
              "      <th>5555991584</th>\n",
              "      <td>5555991584</td>\n",
              "      <td>Memory of Trees</td>\n",
              "      <td>9.49</td>\n",
              "      <td>http://ecx.images-amazon.com/images/I/51b5WDjd...</td>\n",
              "      <td>{'also_bought': ['B000002LRT', 'B000002LRR', '...</td>\n",
              "      <td>{'Music': 939190}</td>\n",
              "      <td>[[CDs &amp; Vinyl, New Age, Celtic New Age], [CDs ...</td>\n",
              "      <td>NaN</td>\n",
              "      <td>NaN</td>\n",
              "    </tr>\n",
              "    <tr>\n",
              "      <th>6308051551</th>\n",
              "      <td>6308051551</td>\n",
              "      <td>Don't Drink His Blood</td>\n",
              "      <td>8.91</td>\n",
              "      <td>http://ecx.images-amazon.com/images/I/31LT2n7Q...</td>\n",
              "      <td>NaN</td>\n",
              "      <td>NaN</td>\n",
              "      <td>[[Digital Music, Alternative Rock, Indie &amp; Lo-...</td>\n",
              "      <td>NEW Combo BLUWAVS CD and FLAC FILE</td>\n",
              "      <td>NaN</td>\n",
              "    </tr>\n",
              "    <tr>\n",
              "      <th>7901622466</th>\n",
              "      <td>7901622466</td>\n",
              "      <td>On Fire</td>\n",
              "      <td>11.33</td>\n",
              "      <td>http://ecx.images-amazon.com/images/I/21W29WZw...</td>\n",
              "      <td>{'also_bought': ['B00000282A', 'B0084O8O9S', '...</td>\n",
              "      <td>{'Music': 58799}</td>\n",
              "      <td>[[CDs &amp; Vinyl, Christian, Rock &amp; Alternative],...</td>\n",
              "      <td>NaN</td>\n",
              "      <td>NaN</td>\n",
              "    </tr>\n",
              "    <tr>\n",
              "      <th>B0000000ZW</th>\n",
              "      <td>B0000000ZW</td>\n",
              "      <td>Changing Faces</td>\n",
              "      <td>23.64</td>\n",
              "      <td>http://ecx.images-amazon.com/images/I/51H3Bp-3...</td>\n",
              "      <td>{'also_bought': ['B00000010Z', 'B0000039Q5', '...</td>\n",
              "      <td>{'Music': 68784}</td>\n",
              "      <td>[[CDs &amp; Vinyl, Dance &amp; Electronic], [CDs &amp; Vin...</td>\n",
              "      <td></td>\n",
              "      <td></td>\n",
              "    </tr>\n",
              "    <tr>\n",
              "      <th>B00000016W</th>\n",
              "      <td>B00000016W</td>\n",
              "      <td>Pet Sounds</td>\n",
              "      <td>9.49</td>\n",
              "      <td>http://ecx.images-amazon.com/images/I/51pDGkXj...</td>\n",
              "      <td>{'also_bought': ['B0025KVLTM', 'B00007FOMP', '...</td>\n",
              "      <td>{'Music': 77205}</td>\n",
              "      <td>[[CDs &amp; Vinyl, Classic Rock], [CDs &amp; Vinyl, Po...</td>\n",
              "      <td>NaN</td>\n",
              "      <td>NaN</td>\n",
              "    </tr>\n",
              "  </tbody>\n",
              "</table>\n",
              "</div>\n",
              "      <button class=\"colab-df-convert\" onclick=\"convertToInteractive('df-77aa4ad1-1245-4192-ad9f-057c288c6a04')\"\n",
              "              title=\"Convert this dataframe to an interactive table.\"\n",
              "              style=\"display:none;\">\n",
              "        \n",
              "  <svg xmlns=\"http://www.w3.org/2000/svg\" height=\"24px\"viewBox=\"0 0 24 24\"\n",
              "       width=\"24px\">\n",
              "    <path d=\"M0 0h24v24H0V0z\" fill=\"none\"/>\n",
              "    <path d=\"M18.56 5.44l.94 2.06.94-2.06 2.06-.94-2.06-.94-.94-2.06-.94 2.06-2.06.94zm-11 1L8.5 8.5l.94-2.06 2.06-.94-2.06-.94L8.5 2.5l-.94 2.06-2.06.94zm10 10l.94 2.06.94-2.06 2.06-.94-2.06-.94-.94-2.06-.94 2.06-2.06.94z\"/><path d=\"M17.41 7.96l-1.37-1.37c-.4-.4-.92-.59-1.43-.59-.52 0-1.04.2-1.43.59L10.3 9.45l-7.72 7.72c-.78.78-.78 2.05 0 2.83L4 21.41c.39.39.9.59 1.41.59.51 0 1.02-.2 1.41-.59l7.78-7.78 2.81-2.81c.8-.78.8-2.07 0-2.86zM5.41 20L4 18.59l7.72-7.72 1.47 1.35L5.41 20z\"/>\n",
              "  </svg>\n",
              "      </button>\n",
              "      \n",
              "  <style>\n",
              "    .colab-df-container {\n",
              "      display:flex;\n",
              "      flex-wrap:wrap;\n",
              "      gap: 12px;\n",
              "    }\n",
              "\n",
              "    .colab-df-convert {\n",
              "      background-color: #E8F0FE;\n",
              "      border: none;\n",
              "      border-radius: 50%;\n",
              "      cursor: pointer;\n",
              "      display: none;\n",
              "      fill: #1967D2;\n",
              "      height: 32px;\n",
              "      padding: 0 0 0 0;\n",
              "      width: 32px;\n",
              "    }\n",
              "\n",
              "    .colab-df-convert:hover {\n",
              "      background-color: #E2EBFA;\n",
              "      box-shadow: 0px 1px 2px rgba(60, 64, 67, 0.3), 0px 1px 3px 1px rgba(60, 64, 67, 0.15);\n",
              "      fill: #174EA6;\n",
              "    }\n",
              "\n",
              "    [theme=dark] .colab-df-convert {\n",
              "      background-color: #3B4455;\n",
              "      fill: #D2E3FC;\n",
              "    }\n",
              "\n",
              "    [theme=dark] .colab-df-convert:hover {\n",
              "      background-color: #434B5C;\n",
              "      box-shadow: 0px 1px 3px 1px rgba(0, 0, 0, 0.15);\n",
              "      filter: drop-shadow(0px 1px 2px rgba(0, 0, 0, 0.3));\n",
              "      fill: #FFFFFF;\n",
              "    }\n",
              "  </style>\n",
              "\n",
              "      <script>\n",
              "        const buttonEl =\n",
              "          document.querySelector('#df-77aa4ad1-1245-4192-ad9f-057c288c6a04 button.colab-df-convert');\n",
              "        buttonEl.style.display =\n",
              "          google.colab.kernel.accessAllowed ? 'block' : 'none';\n",
              "\n",
              "        async function convertToInteractive(key) {\n",
              "          const element = document.querySelector('#df-77aa4ad1-1245-4192-ad9f-057c288c6a04');\n",
              "          const dataTable =\n",
              "            await google.colab.kernel.invokeFunction('convertToInteractive',\n",
              "                                                     [key], {});\n",
              "          if (!dataTable) return;\n",
              "\n",
              "          const docLinkHtml = 'Like what you see? Visit the ' +\n",
              "            '<a target=\"_blank\" href=https://colab.research.google.com/notebooks/data_table.ipynb>data table notebook</a>'\n",
              "            + ' to learn more about interactive tables.';\n",
              "          element.innerHTML = '';\n",
              "          dataTable['output_type'] = 'display_data';\n",
              "          await google.colab.output.renderOutput(dataTable, element);\n",
              "          const docLink = document.createElement('div');\n",
              "          docLink.innerHTML = docLinkHtml;\n",
              "          element.appendChild(docLink);\n",
              "        }\n",
              "      </script>\n",
              "    </div>\n",
              "  </div>\n",
              "  "
            ]
          },
          "metadata": {},
          "execution_count": 24
        }
      ]
    },
    {
      "cell_type": "markdown",
      "source": [
        "### Latent Dirichlet Allocation (LDA)"
      ],
      "metadata": {
        "id": "dSb8YbkgTp0T"
      }
    },
    {
      "cell_type": "code",
      "source": [
        "music_df = pd.read_json(\"music_df_en_only_cleaned.json.gz\", orient='records',lines=True)"
      ],
      "metadata": {
        "id": "GRkxYG7yTWF4"
      },
      "execution_count": 25,
      "outputs": []
    },
    {
      "cell_type": "code",
      "source": [
        "music_df_s = music_df.sample(n=20000, random_state=42)"
      ],
      "metadata": {
        "id": "VSAgG6F6ZGzT"
      },
      "execution_count": 26,
      "outputs": []
    },
    {
      "cell_type": "code",
      "source": [
        "music_df.shape"
      ],
      "metadata": {
        "colab": {
          "base_uri": "https://localhost:8080/"
        },
        "id": "QwLGFf7Iefud",
        "outputId": "18c1735f-e9ff-4927-c758-b6cb6e46530f"
      },
      "execution_count": 27,
      "outputs": [
        {
          "output_type": "execute_result",
          "data": {
            "text/plain": [
              "(64630, 7)"
            ]
          },
          "metadata": {},
          "execution_count": 27
        }
      ]
    },
    {
      "cell_type": "code",
      "source": [
        "from sklearn.feature_extraction.text import TfidfVectorizer\n",
        "tfv = TfidfVectorizer(analyzer='word',max_df=1.0)\n",
        "tfidf_matrix = tfv.fit_transform(music_df_s['processed_review'])\n",
        "tfidf_matrix.shape"
      ],
      "metadata": {
        "id": "NNd9tjfSS8nZ",
        "colab": {
          "base_uri": "https://localhost:8080/"
        },
        "outputId": "154a153b-3243-47a8-f247-114bb9113c94"
      },
      "execution_count": 28,
      "outputs": [
        {
          "output_type": "execute_result",
          "data": {
            "text/plain": [
              "(20000, 52835)"
            ]
          },
          "metadata": {},
          "execution_count": 28
        }
      ]
    },
    {
      "cell_type": "code",
      "source": [
        "vocab = tfv.get_feature_names_out()\n",
        "#vocab[:90]"
      ],
      "metadata": {
        "id": "Kx44Ul2_cdC2"
      },
      "execution_count": 29,
      "outputs": []
    },
    {
      "cell_type": "code",
      "source": [
        "n_topics = 20\n",
        "\n",
        "from sklearn.decomposition import LatentDirichletAllocation\n",
        "lda = LatentDirichletAllocation(n_components=n_topics,max_iter=20,random_state=42,n_jobs=-1)\n",
        "topics_of_reviews = lda.fit_transform(tfidf_matrix) # or you can skip this, use lda_model.pickle: uncomment the 2nd one (loading part) below \n",
        "topics_of_reviews.shape"
      ],
      "metadata": {
        "id": "OjM0XefjUNgD",
        "colab": {
          "base_uri": "https://localhost:8080/"
        },
        "outputId": "1d430f78-d4c7-426f-af89-be7b2044775d"
      },
      "execution_count": 30,
      "outputs": [
        {
          "output_type": "execute_result",
          "data": {
            "text/plain": [
              "(20000, 20)"
            ]
          },
          "metadata": {},
          "execution_count": 30
        }
      ]
    },
    {
      "cell_type": "code",
      "source": [
        "topic_words = lda.components_\n",
        "\n",
        "for topic in topic_words:\n",
        "  st = np.argsort(topic)\n",
        "  words = np.array(vocab)[st]\n",
        "  print(words[:-9:-1])"
      ],
      "metadata": {
        "id": "AVRlMwqDdUzw",
        "colab": {
          "base_uri": "https://localhost:8080/"
        },
        "outputId": "fae39d02-da75-4513-9ad4-a459578d445a"
      },
      "execution_count": 29,
      "outputs": [
        {
          "output_type": "stream",
          "name": "stdout",
          "text": [
            "['buffett' 'primu' 'ledisi' 'jimmi' 'claypool' 'margaritavil' 'parrothead'\n",
            " 'flipper']\n",
            "['not_object' 'object' 'metric' 'enigma' 'trae' 'souvlaki' 'cretu'\n",
            " 'boingo']\n",
            "['tegan' 'pumpkin' 'corgan' 'chevel' 'zeitgeist' 'yusuf' 'norma' 'gino']\n",
            "['kindl' 'burrel' 'turrentin' 'minaj' 'lissen' 'listern' 'sm' 'hubbi']\n",
            "['deerhunt' 'afroman' 'krush' 'doggfath' 'yah' 'yester' 'abk' 'sudol']\n",
            "['demi' 'mane' 'lovato' 'showoff' 'rlj' 'dorham' 'dar' 'skyscrap']\n",
            "['hurdi' 'gurdi' 'dariu' 'zumba' 'kasey' 'tyte' 'kast' 'burma']\n",
            "['getz' 'jobim' 'bossa' '65533' 'nova' 'gilberto' 'mingu' 'astrud']\n",
            "['fogelberg' 'miley' 'boz' 'scagg' 'cohe' 'frou' 'orchid' 'tevin']\n",
            "['decemberist' 'crane' 'meloy' 'soulif' 'flyleaf' 'colin' 'hazard' 'iso']\n",
            "['halen' 'van' 'roth' 'shakira' 'eddi' 'vh' 'hagar' 'panama']\n",
            "['dan' 'steeli' 'fagen' 'aja' '8217' 'becker' '8221' '8220']\n",
            "['album' 'rap' 'cd' 'song' 'beat' 'good' 'quot' 'like']\n",
            "['quot' 'album' 'song' 'music' 'one' 'like' 'cd' 'great']\n",
            "['lyle' 'hdcd' 'totbl' 'skyfal' 'kasabian' 'eme' 'lovett' 'sophi']\n",
            "['fleetwood' 'mac' 'lightfoot' 'buckingham' 'ornett' 'pixi' 'doolittl'\n",
            " 'mcvie']\n",
            "['montreal' 'barn' 'naan' 'mckennitt' 'tmv' 'eel' 'coexist' '777']\n",
            "['sword' 'liquid' 'masta' 'zack' 'starcastl' 'cappadonna' 'inspectah'\n",
            " 'mig']\n",
            "['yum' 'blueberri' 'geezer' 'gran' 'turismo' 'bugz' 'lifelin' 'arcadia']\n",
            "['phylli' 'bofil' 'hyman' 'raveonett' 'adderley' 'reflektor' 'marx'\n",
            " 'loveless']\n"
          ]
        }
      ]
    },
    {
      "cell_type": "code",
      "source": [],
      "metadata": {
        "id": "4fk_WLJhBnGH"
      },
      "execution_count": null,
      "outputs": []
    },
    {
      "cell_type": "markdown",
      "source": [
        "### k Nearest Neighbors (k-NN)"
      ],
      "metadata": {
        "id": "VjEwbOjVUDQe"
      }
    },
    {
      "cell_type": "code",
      "source": [
        "found, no_mdata = 0,0\n",
        "for asin, rv in zip(music_df_s['asin'],topics_of_reviews):\n",
        "    if not asin or asin not in df_dict: no_mdata+=1; continue\n",
        "    df_dict[asin]['rv_topics'] = rv if 'rv_topics' not in df_dict[asin] else np.vstack((df_dict[asin]['rv_topics'],rv))\n",
        "    found+=1\n",
        "found, no_mdata"
      ],
      "metadata": {
        "id": "d7frn62osuXa",
        "colab": {
          "base_uri": "https://localhost:8080/"
        },
        "outputId": "6f7c6c7c-b116-4b07-c46c-f05bd6efae11"
      },
      "execution_count": 50,
      "outputs": [
        {
          "output_type": "execute_result",
          "data": {
            "text/plain": [
              "(49954, 10046)"
            ]
          },
          "metadata": {},
          "execution_count": 50
        }
      ]
    },
    {
      "cell_type": "code",
      "source": [
        "items_w_rv = dict()\n",
        "topic_matrix = np.empty((0,n_topics), 'float64')\n",
        "title_lookup = dict()\n",
        "asin_lookup = dict()\n",
        "\n",
        "idx = 0 \n",
        "for d in df_dict.values():\n",
        "  if 'rv_topics' in d:\n",
        "    if len(d['rv_topics'].shape)>1: d['rv_topics'] = np.mean(d['rv_topics'],axis=0)\n",
        "    topic_matrix = np.vstack((topic_matrix, d['rv_topics']))\n",
        "    items_w_rv[idx] = d\n",
        "    title_lookup[d['title'].lower()] = idx\n",
        "    asin_lookup[d['asin']] = idx\n",
        "    idx+=1\n",
        "\n",
        "topic_matrix.shape\n"
      ],
      "metadata": {
        "colab": {
          "base_uri": "https://localhost:8080/"
        },
        "id": "shsy_4PhD9Lf",
        "outputId": "21a61134-4307-4e2c-c558-d7b619beef67"
      },
      "execution_count": 51,
      "outputs": [
        {
          "output_type": "execute_result",
          "data": {
            "text/plain": [
              "(2670, 20)"
            ]
          },
          "metadata": {},
          "execution_count": 51
        }
      ]
    },
    {
      "cell_type": "code",
      "source": [
        "import pickle\n",
        "items_to_pickle = (items_w_rv , topic_matrix , title_lookup , asin_lookup)\n",
        "#with open(\"lda_model.pickle\", 'wb') as pkf:\n",
        "#  pickle.dump(items_to_pickle, pkf)"
      ],
      "metadata": {
        "id": "Rj4tZ0cKNgRe"
      },
      "execution_count": 52,
      "outputs": []
    },
    {
      "cell_type": "code",
      "source": [
        "## load model option\n",
        "\n",
        "import pickle\n",
        "#with open(\"lda_model.pickle\", 'rb') as pkf:\n",
        "#  (items_w_rv , topic_matrix , title_lookup , asin_lookup) = pickle.load(pkf)"
      ],
      "metadata": {
        "id": "YwaD9B_RNgI9"
      },
      "execution_count": 53,
      "outputs": []
    },
    {
      "cell_type": "code",
      "source": [
        "pd.DataFrame.from_dict(items_w_rv, orient='index')"
      ],
      "metadata": {
        "colab": {
          "base_uri": "https://localhost:8080/",
          "height": 1000
        },
        "id": "u1H3dPt0S8PK",
        "outputId": "6ac0f0ce-1221-4f55-d2e9-7bf778a63230"
      },
      "execution_count": 54,
      "outputs": [
        {
          "output_type": "execute_result",
          "data": {
            "text/plain": [
              "            asin                            title  price  \\\n",
              "0     5555991584                  Memory of Trees   9.49   \n",
              "1     B0000000ZW                   Changing Faces  23.64   \n",
              "2     B00000016W                       Pet Sounds   9.49   \n",
              "3     B00000016T                             Cars  14.63   \n",
              "4     B00000017R                       Jazz Samba   8.99   \n",
              "...          ...                              ...    ...   \n",
              "2665  B000LXHGBC                     Back Numbers  11.88   \n",
              "2666  B000M5B6GK  All of a Sudden I Miss Everyone   9.49   \n",
              "2667  B000MGBTIE                            Alpha  13.83   \n",
              "2668  B000MGUZ9I                     Undiscovered  10.88   \n",
              "2669  B000MGVA8I                    Blackfield II   9.49   \n",
              "\n",
              "                                                  imUrl  \\\n",
              "0     http://ecx.images-amazon.com/images/I/51b5WDjd...   \n",
              "1     http://ecx.images-amazon.com/images/I/51H3Bp-3...   \n",
              "2     http://ecx.images-amazon.com/images/I/51pDGkXj...   \n",
              "3     http://ecx.images-amazon.com/images/I/51pmW%2B...   \n",
              "4     http://ecx.images-amazon.com/images/I/51kAU0Ty...   \n",
              "...                                                 ...   \n",
              "2665  http://ecx.images-amazon.com/images/I/51N%2ByT...   \n",
              "2666  http://ecx.images-amazon.com/images/I/618p7PKX...   \n",
              "2667  http://ecx.images-amazon.com/images/I/51NLyLG1...   \n",
              "2668  http://ecx.images-amazon.com/images/I/51SAKEc0...   \n",
              "2669  http://ecx.images-amazon.com/images/I/51KEAG8n...   \n",
              "\n",
              "                                                related          salesRank  \\\n",
              "0     {'also_bought': ['B000002LRT', 'B000002LRR', '...  {'Music': 939190}   \n",
              "1     {'also_bought': ['B00000010Z', 'B0000039Q5', '...   {'Music': 68784}   \n",
              "2     {'also_bought': ['B0025KVLTM', 'B00007FOMP', '...   {'Music': 77205}   \n",
              "3     {'also_bought': ['B000002GWX', 'B000002GXD', '...  {'Music': 458151}   \n",
              "4     {'also_bought': ['B0000046WB', 'B0000047CX', '...  {'Music': 561174}   \n",
              "...                                                 ...                ...   \n",
              "2665  {'also_bought': ['B00005YN6S', 'B00HVF1344', '...  {'Music': 124106}   \n",
              "2666  {'also_bought': ['B0006Q2TPC', 'B0000DJYMF', '...  {'Music': 640730}   \n",
              "2667  {'also_bought': ['B000B8QF6O', 'B0013K1ALY', '...    {'Music': 5783}   \n",
              "2668  {'also_bought': ['B001EOQTV0', 'B005ILWOZA', '...    {'Music': 8872}   \n",
              "2669  {'also_bought': ['B00075146W', 'B004MLZWRO', '...  {'Music': 401677}   \n",
              "\n",
              "                                             categories  \\\n",
              "0     [[CDs & Vinyl, New Age, Celtic New Age], [CDs ...   \n",
              "1     [[CDs & Vinyl, Dance & Electronic], [CDs & Vin...   \n",
              "2     [[CDs & Vinyl, Classic Rock], [CDs & Vinyl, Po...   \n",
              "3     [[CDs & Vinyl, Alternative Rock, New Wave & Po...   \n",
              "4     [[CDs & Vinyl, Jazz, Bebop], [CDs & Vinyl, Jaz...   \n",
              "...                                                 ...   \n",
              "2665  [[CDs & Vinyl, Alternative Rock, Indie & Lo-Fi...   \n",
              "2666  [[CDs & Vinyl, Alternative Rock, Indie & Lo-Fi...   \n",
              "2667  [[CDs & Vinyl, Alternative Rock, Goth & Indust...   \n",
              "2668  [[CDs & Vinyl, Alternative Rock], [CDs & Vinyl...   \n",
              "2669  [[CDs & Vinyl, Metal], [CDs & Vinyl, Rock, Pro...   \n",
              "\n",
              "                                              rv_topics  brand  \\\n",
              "0     [0.005944301246778397, 0.005724376118965009, 0...    NaN   \n",
              "1     [0.007947564104963068, 0.007947564145385768, 0...          \n",
              "2     [0.008476647700033773, 0.007341975014550384, 0...    NaN   \n",
              "3     [0.00804670266352813, 0.009927344553832798, 0....    NaN   \n",
              "4     [0.007089352362394035, 0.006163632120142277, 0...    NaN   \n",
              "...                                                 ...    ...   \n",
              "2665  [0.006629234050171659, 0.006629234067383804, 0...    NaN   \n",
              "2666  [0.006477516765231249, 0.005191601906141134, 0...    NaN   \n",
              "2667  [0.00709600084750042, 0.005779527698819136, 0....  Alpha   \n",
              "2668  [0.005569142681427098, 0.005569142662887866, 0...    NaN   \n",
              "2669  [0.005977675934698664, 0.005977675905350236, 0...    NaN   \n",
              "\n",
              "                                            description  \n",
              "0                                                   NaN  \n",
              "1                                                        \n",
              "2                                                   NaN  \n",
              "3                                                   NaN  \n",
              "4                                                   NaN  \n",
              "...                                                 ...  \n",
              "2665  The thoroughly excellent sophomore release by ...  \n",
              "2666  Sometimes Explosions in the Sky start with a w...  \n",
              "2667  Alpha, the latest outing from this veteran act...  \n",
              "2668  Young James Morrison has \"success story\" writt...  \n",
              "2669                                                NaN  \n",
              "\n",
              "[2670 rows x 10 columns]"
            ],
            "text/html": [
              "\n",
              "  <div id=\"df-be154e71-0292-45ab-8504-ed41cb1394d0\">\n",
              "    <div class=\"colab-df-container\">\n",
              "      <div>\n",
              "<style scoped>\n",
              "    .dataframe tbody tr th:only-of-type {\n",
              "        vertical-align: middle;\n",
              "    }\n",
              "\n",
              "    .dataframe tbody tr th {\n",
              "        vertical-align: top;\n",
              "    }\n",
              "\n",
              "    .dataframe thead th {\n",
              "        text-align: right;\n",
              "    }\n",
              "</style>\n",
              "<table border=\"1\" class=\"dataframe\">\n",
              "  <thead>\n",
              "    <tr style=\"text-align: right;\">\n",
              "      <th></th>\n",
              "      <th>asin</th>\n",
              "      <th>title</th>\n",
              "      <th>price</th>\n",
              "      <th>imUrl</th>\n",
              "      <th>related</th>\n",
              "      <th>salesRank</th>\n",
              "      <th>categories</th>\n",
              "      <th>rv_topics</th>\n",
              "      <th>brand</th>\n",
              "      <th>description</th>\n",
              "    </tr>\n",
              "  </thead>\n",
              "  <tbody>\n",
              "    <tr>\n",
              "      <th>0</th>\n",
              "      <td>5555991584</td>\n",
              "      <td>Memory of Trees</td>\n",
              "      <td>9.49</td>\n",
              "      <td>http://ecx.images-amazon.com/images/I/51b5WDjd...</td>\n",
              "      <td>{'also_bought': ['B000002LRT', 'B000002LRR', '...</td>\n",
              "      <td>{'Music': 939190}</td>\n",
              "      <td>[[CDs &amp; Vinyl, New Age, Celtic New Age], [CDs ...</td>\n",
              "      <td>[0.005944301246778397, 0.005724376118965009, 0...</td>\n",
              "      <td>NaN</td>\n",
              "      <td>NaN</td>\n",
              "    </tr>\n",
              "    <tr>\n",
              "      <th>1</th>\n",
              "      <td>B0000000ZW</td>\n",
              "      <td>Changing Faces</td>\n",
              "      <td>23.64</td>\n",
              "      <td>http://ecx.images-amazon.com/images/I/51H3Bp-3...</td>\n",
              "      <td>{'also_bought': ['B00000010Z', 'B0000039Q5', '...</td>\n",
              "      <td>{'Music': 68784}</td>\n",
              "      <td>[[CDs &amp; Vinyl, Dance &amp; Electronic], [CDs &amp; Vin...</td>\n",
              "      <td>[0.007947564104963068, 0.007947564145385768, 0...</td>\n",
              "      <td></td>\n",
              "      <td></td>\n",
              "    </tr>\n",
              "    <tr>\n",
              "      <th>2</th>\n",
              "      <td>B00000016W</td>\n",
              "      <td>Pet Sounds</td>\n",
              "      <td>9.49</td>\n",
              "      <td>http://ecx.images-amazon.com/images/I/51pDGkXj...</td>\n",
              "      <td>{'also_bought': ['B0025KVLTM', 'B00007FOMP', '...</td>\n",
              "      <td>{'Music': 77205}</td>\n",
              "      <td>[[CDs &amp; Vinyl, Classic Rock], [CDs &amp; Vinyl, Po...</td>\n",
              "      <td>[0.008476647700033773, 0.007341975014550384, 0...</td>\n",
              "      <td>NaN</td>\n",
              "      <td>NaN</td>\n",
              "    </tr>\n",
              "    <tr>\n",
              "      <th>3</th>\n",
              "      <td>B00000016T</td>\n",
              "      <td>Cars</td>\n",
              "      <td>14.63</td>\n",
              "      <td>http://ecx.images-amazon.com/images/I/51pmW%2B...</td>\n",
              "      <td>{'also_bought': ['B000002GWX', 'B000002GXD', '...</td>\n",
              "      <td>{'Music': 458151}</td>\n",
              "      <td>[[CDs &amp; Vinyl, Alternative Rock, New Wave &amp; Po...</td>\n",
              "      <td>[0.00804670266352813, 0.009927344553832798, 0....</td>\n",
              "      <td>NaN</td>\n",
              "      <td>NaN</td>\n",
              "    </tr>\n",
              "    <tr>\n",
              "      <th>4</th>\n",
              "      <td>B00000017R</td>\n",
              "      <td>Jazz Samba</td>\n",
              "      <td>8.99</td>\n",
              "      <td>http://ecx.images-amazon.com/images/I/51kAU0Ty...</td>\n",
              "      <td>{'also_bought': ['B0000046WB', 'B0000047CX', '...</td>\n",
              "      <td>{'Music': 561174}</td>\n",
              "      <td>[[CDs &amp; Vinyl, Jazz, Bebop], [CDs &amp; Vinyl, Jaz...</td>\n",
              "      <td>[0.007089352362394035, 0.006163632120142277, 0...</td>\n",
              "      <td>NaN</td>\n",
              "      <td>NaN</td>\n",
              "    </tr>\n",
              "    <tr>\n",
              "      <th>...</th>\n",
              "      <td>...</td>\n",
              "      <td>...</td>\n",
              "      <td>...</td>\n",
              "      <td>...</td>\n",
              "      <td>...</td>\n",
              "      <td>...</td>\n",
              "      <td>...</td>\n",
              "      <td>...</td>\n",
              "      <td>...</td>\n",
              "      <td>...</td>\n",
              "    </tr>\n",
              "    <tr>\n",
              "      <th>2665</th>\n",
              "      <td>B000LXHGBC</td>\n",
              "      <td>Back Numbers</td>\n",
              "      <td>11.88</td>\n",
              "      <td>http://ecx.images-amazon.com/images/I/51N%2ByT...</td>\n",
              "      <td>{'also_bought': ['B00005YN6S', 'B00HVF1344', '...</td>\n",
              "      <td>{'Music': 124106}</td>\n",
              "      <td>[[CDs &amp; Vinyl, Alternative Rock, Indie &amp; Lo-Fi...</td>\n",
              "      <td>[0.006629234050171659, 0.006629234067383804, 0...</td>\n",
              "      <td>NaN</td>\n",
              "      <td>The thoroughly excellent sophomore release by ...</td>\n",
              "    </tr>\n",
              "    <tr>\n",
              "      <th>2666</th>\n",
              "      <td>B000M5B6GK</td>\n",
              "      <td>All of a Sudden I Miss Everyone</td>\n",
              "      <td>9.49</td>\n",
              "      <td>http://ecx.images-amazon.com/images/I/618p7PKX...</td>\n",
              "      <td>{'also_bought': ['B0006Q2TPC', 'B0000DJYMF', '...</td>\n",
              "      <td>{'Music': 640730}</td>\n",
              "      <td>[[CDs &amp; Vinyl, Alternative Rock, Indie &amp; Lo-Fi...</td>\n",
              "      <td>[0.006477516765231249, 0.005191601906141134, 0...</td>\n",
              "      <td>NaN</td>\n",
              "      <td>Sometimes Explosions in the Sky start with a w...</td>\n",
              "    </tr>\n",
              "    <tr>\n",
              "      <th>2667</th>\n",
              "      <td>B000MGBTIE</td>\n",
              "      <td>Alpha</td>\n",
              "      <td>13.83</td>\n",
              "      <td>http://ecx.images-amazon.com/images/I/51NLyLG1...</td>\n",
              "      <td>{'also_bought': ['B000B8QF6O', 'B0013K1ALY', '...</td>\n",
              "      <td>{'Music': 5783}</td>\n",
              "      <td>[[CDs &amp; Vinyl, Alternative Rock, Goth &amp; Indust...</td>\n",
              "      <td>[0.00709600084750042, 0.005779527698819136, 0....</td>\n",
              "      <td>Alpha</td>\n",
              "      <td>Alpha, the latest outing from this veteran act...</td>\n",
              "    </tr>\n",
              "    <tr>\n",
              "      <th>2668</th>\n",
              "      <td>B000MGUZ9I</td>\n",
              "      <td>Undiscovered</td>\n",
              "      <td>10.88</td>\n",
              "      <td>http://ecx.images-amazon.com/images/I/51SAKEc0...</td>\n",
              "      <td>{'also_bought': ['B001EOQTV0', 'B005ILWOZA', '...</td>\n",
              "      <td>{'Music': 8872}</td>\n",
              "      <td>[[CDs &amp; Vinyl, Alternative Rock], [CDs &amp; Vinyl...</td>\n",
              "      <td>[0.005569142681427098, 0.005569142662887866, 0...</td>\n",
              "      <td>NaN</td>\n",
              "      <td>Young James Morrison has \"success story\" writt...</td>\n",
              "    </tr>\n",
              "    <tr>\n",
              "      <th>2669</th>\n",
              "      <td>B000MGVA8I</td>\n",
              "      <td>Blackfield II</td>\n",
              "      <td>9.49</td>\n",
              "      <td>http://ecx.images-amazon.com/images/I/51KEAG8n...</td>\n",
              "      <td>{'also_bought': ['B00075146W', 'B004MLZWRO', '...</td>\n",
              "      <td>{'Music': 401677}</td>\n",
              "      <td>[[CDs &amp; Vinyl, Metal], [CDs &amp; Vinyl, Rock, Pro...</td>\n",
              "      <td>[0.005977675934698664, 0.005977675905350236, 0...</td>\n",
              "      <td>NaN</td>\n",
              "      <td>NaN</td>\n",
              "    </tr>\n",
              "  </tbody>\n",
              "</table>\n",
              "<p>2670 rows × 10 columns</p>\n",
              "</div>\n",
              "      <button class=\"colab-df-convert\" onclick=\"convertToInteractive('df-be154e71-0292-45ab-8504-ed41cb1394d0')\"\n",
              "              title=\"Convert this dataframe to an interactive table.\"\n",
              "              style=\"display:none;\">\n",
              "        \n",
              "  <svg xmlns=\"http://www.w3.org/2000/svg\" height=\"24px\"viewBox=\"0 0 24 24\"\n",
              "       width=\"24px\">\n",
              "    <path d=\"M0 0h24v24H0V0z\" fill=\"none\"/>\n",
              "    <path d=\"M18.56 5.44l.94 2.06.94-2.06 2.06-.94-2.06-.94-.94-2.06-.94 2.06-2.06.94zm-11 1L8.5 8.5l.94-2.06 2.06-.94-2.06-.94L8.5 2.5l-.94 2.06-2.06.94zm10 10l.94 2.06.94-2.06 2.06-.94-2.06-.94-.94-2.06-.94 2.06-2.06.94z\"/><path d=\"M17.41 7.96l-1.37-1.37c-.4-.4-.92-.59-1.43-.59-.52 0-1.04.2-1.43.59L10.3 9.45l-7.72 7.72c-.78.78-.78 2.05 0 2.83L4 21.41c.39.39.9.59 1.41.59.51 0 1.02-.2 1.41-.59l7.78-7.78 2.81-2.81c.8-.78.8-2.07 0-2.86zM5.41 20L4 18.59l7.72-7.72 1.47 1.35L5.41 20z\"/>\n",
              "  </svg>\n",
              "      </button>\n",
              "      \n",
              "  <style>\n",
              "    .colab-df-container {\n",
              "      display:flex;\n",
              "      flex-wrap:wrap;\n",
              "      gap: 12px;\n",
              "    }\n",
              "\n",
              "    .colab-df-convert {\n",
              "      background-color: #E8F0FE;\n",
              "      border: none;\n",
              "      border-radius: 50%;\n",
              "      cursor: pointer;\n",
              "      display: none;\n",
              "      fill: #1967D2;\n",
              "      height: 32px;\n",
              "      padding: 0 0 0 0;\n",
              "      width: 32px;\n",
              "    }\n",
              "\n",
              "    .colab-df-convert:hover {\n",
              "      background-color: #E2EBFA;\n",
              "      box-shadow: 0px 1px 2px rgba(60, 64, 67, 0.3), 0px 1px 3px 1px rgba(60, 64, 67, 0.15);\n",
              "      fill: #174EA6;\n",
              "    }\n",
              "\n",
              "    [theme=dark] .colab-df-convert {\n",
              "      background-color: #3B4455;\n",
              "      fill: #D2E3FC;\n",
              "    }\n",
              "\n",
              "    [theme=dark] .colab-df-convert:hover {\n",
              "      background-color: #434B5C;\n",
              "      box-shadow: 0px 1px 3px 1px rgba(0, 0, 0, 0.15);\n",
              "      filter: drop-shadow(0px 1px 2px rgba(0, 0, 0, 0.3));\n",
              "      fill: #FFFFFF;\n",
              "    }\n",
              "  </style>\n",
              "\n",
              "      <script>\n",
              "        const buttonEl =\n",
              "          document.querySelector('#df-be154e71-0292-45ab-8504-ed41cb1394d0 button.colab-df-convert');\n",
              "        buttonEl.style.display =\n",
              "          google.colab.kernel.accessAllowed ? 'block' : 'none';\n",
              "\n",
              "        async function convertToInteractive(key) {\n",
              "          const element = document.querySelector('#df-be154e71-0292-45ab-8504-ed41cb1394d0');\n",
              "          const dataTable =\n",
              "            await google.colab.kernel.invokeFunction('convertToInteractive',\n",
              "                                                     [key], {});\n",
              "          if (!dataTable) return;\n",
              "\n",
              "          const docLinkHtml = 'Like what you see? Visit the ' +\n",
              "            '<a target=\"_blank\" href=https://colab.research.google.com/notebooks/data_table.ipynb>data table notebook</a>'\n",
              "            + ' to learn more about interactive tables.';\n",
              "          element.innerHTML = '';\n",
              "          dataTable['output_type'] = 'display_data';\n",
              "          await google.colab.output.renderOutput(dataTable, element);\n",
              "          const docLink = document.createElement('div');\n",
              "          docLink.innerHTML = docLinkHtml;\n",
              "          element.appendChild(docLink);\n",
              "        }\n",
              "      </script>\n",
              "    </div>\n",
              "  </div>\n",
              "  "
            ]
          },
          "metadata": {},
          "execution_count": 54
        }
      ]
    },
    {
      "cell_type": "code",
      "source": [
        "from sklearn.neighbors import NearestNeighbors\n",
        "\n",
        "knn = NearestNeighbors(n_neighbors=11,n_jobs=-1)\n",
        "knn.fit(topic_matrix)\n"
      ],
      "metadata": {
        "colab": {
          "base_uri": "https://localhost:8080/",
          "height": 75
        },
        "id": "pnIxY1vfNsqu",
        "outputId": "fc71f6cd-d8aa-4fc3-9547-9334614f9db0"
      },
      "execution_count": 55,
      "outputs": [
        {
          "output_type": "execute_result",
          "data": {
            "text/plain": [
              "NearestNeighbors(n_jobs=-1, n_neighbors=11)"
            ],
            "text/html": [
              "<style>#sk-container-id-2 {color: black;background-color: white;}#sk-container-id-2 pre{padding: 0;}#sk-container-id-2 div.sk-toggleable {background-color: white;}#sk-container-id-2 label.sk-toggleable__label {cursor: pointer;display: block;width: 100%;margin-bottom: 0;padding: 0.3em;box-sizing: border-box;text-align: center;}#sk-container-id-2 label.sk-toggleable__label-arrow:before {content: \"▸\";float: left;margin-right: 0.25em;color: #696969;}#sk-container-id-2 label.sk-toggleable__label-arrow:hover:before {color: black;}#sk-container-id-2 div.sk-estimator:hover label.sk-toggleable__label-arrow:before {color: black;}#sk-container-id-2 div.sk-toggleable__content {max-height: 0;max-width: 0;overflow: hidden;text-align: left;background-color: #f0f8ff;}#sk-container-id-2 div.sk-toggleable__content pre {margin: 0.2em;color: black;border-radius: 0.25em;background-color: #f0f8ff;}#sk-container-id-2 input.sk-toggleable__control:checked~div.sk-toggleable__content {max-height: 200px;max-width: 100%;overflow: auto;}#sk-container-id-2 input.sk-toggleable__control:checked~label.sk-toggleable__label-arrow:before {content: \"▾\";}#sk-container-id-2 div.sk-estimator input.sk-toggleable__control:checked~label.sk-toggleable__label {background-color: #d4ebff;}#sk-container-id-2 div.sk-label input.sk-toggleable__control:checked~label.sk-toggleable__label {background-color: #d4ebff;}#sk-container-id-2 input.sk-hidden--visually {border: 0;clip: rect(1px 1px 1px 1px);clip: rect(1px, 1px, 1px, 1px);height: 1px;margin: -1px;overflow: hidden;padding: 0;position: absolute;width: 1px;}#sk-container-id-2 div.sk-estimator {font-family: monospace;background-color: #f0f8ff;border: 1px dotted black;border-radius: 0.25em;box-sizing: border-box;margin-bottom: 0.5em;}#sk-container-id-2 div.sk-estimator:hover {background-color: #d4ebff;}#sk-container-id-2 div.sk-parallel-item::after {content: \"\";width: 100%;border-bottom: 1px solid gray;flex-grow: 1;}#sk-container-id-2 div.sk-label:hover label.sk-toggleable__label {background-color: #d4ebff;}#sk-container-id-2 div.sk-serial::before {content: \"\";position: absolute;border-left: 1px solid gray;box-sizing: border-box;top: 0;bottom: 0;left: 50%;z-index: 0;}#sk-container-id-2 div.sk-serial {display: flex;flex-direction: column;align-items: center;background-color: white;padding-right: 0.2em;padding-left: 0.2em;position: relative;}#sk-container-id-2 div.sk-item {position: relative;z-index: 1;}#sk-container-id-2 div.sk-parallel {display: flex;align-items: stretch;justify-content: center;background-color: white;position: relative;}#sk-container-id-2 div.sk-item::before, #sk-container-id-2 div.sk-parallel-item::before {content: \"\";position: absolute;border-left: 1px solid gray;box-sizing: border-box;top: 0;bottom: 0;left: 50%;z-index: -1;}#sk-container-id-2 div.sk-parallel-item {display: flex;flex-direction: column;z-index: 1;position: relative;background-color: white;}#sk-container-id-2 div.sk-parallel-item:first-child::after {align-self: flex-end;width: 50%;}#sk-container-id-2 div.sk-parallel-item:last-child::after {align-self: flex-start;width: 50%;}#sk-container-id-2 div.sk-parallel-item:only-child::after {width: 0;}#sk-container-id-2 div.sk-dashed-wrapped {border: 1px dashed gray;margin: 0 0.4em 0.5em 0.4em;box-sizing: border-box;padding-bottom: 0.4em;background-color: white;}#sk-container-id-2 div.sk-label label {font-family: monospace;font-weight: bold;display: inline-block;line-height: 1.2em;}#sk-container-id-2 div.sk-label-container {text-align: center;}#sk-container-id-2 div.sk-container {/* jupyter's `normalize.less` sets `[hidden] { display: none; }` but bootstrap.min.css set `[hidden] { display: none !important; }` so we also need the `!important` here to be able to override the default hidden behavior on the sphinx rendered scikit-learn.org. See: https://github.com/scikit-learn/scikit-learn/issues/21755 */display: inline-block !important;position: relative;}#sk-container-id-2 div.sk-text-repr-fallback {display: none;}</style><div id=\"sk-container-id-2\" class=\"sk-top-container\"><div class=\"sk-text-repr-fallback\"><pre>NearestNeighbors(n_jobs=-1, n_neighbors=11)</pre><b>In a Jupyter environment, please rerun this cell to show the HTML representation or trust the notebook. <br />On GitHub, the HTML representation is unable to render, please try loading this page with nbviewer.org.</b></div><div class=\"sk-container\" hidden><div class=\"sk-item\"><div class=\"sk-estimator sk-toggleable\"><input class=\"sk-toggleable__control sk-hidden--visually\" id=\"sk-estimator-id-2\" type=\"checkbox\" checked><label for=\"sk-estimator-id-2\" class=\"sk-toggleable__label sk-toggleable__label-arrow\">NearestNeighbors</label><div class=\"sk-toggleable__content\"><pre>NearestNeighbors(n_jobs=-1, n_neighbors=11)</pre></div></div></div></div></div>"
            ]
          },
          "metadata": {},
          "execution_count": 55
        }
      ]
    },
    {
      "cell_type": "code",
      "source": [
        "#knn.kneighbors([topic_matrix[37]],return_distance=False)"
      ],
      "metadata": {
        "id": "g9_XRXz-UOu4"
      },
      "execution_count": 56,
      "outputs": []
    },
    {
      "cell_type": "code",
      "source": [
        "def recommand_by_title(title):\n",
        "  if title not in title_lookup: \n",
        "    print(\"\\nSorry, we don’t have recommendations for\", title)\n",
        "    return\n",
        "  print(f\"\\nRecommandations for - {title}:\\n\")\n",
        "\n",
        "  idx = title_lookup[title]\n",
        "  recom_list = knn.kneighbors([topic_matrix[idx]],return_distance=False)[0][1:]\n",
        "  for ridx in recom_list:\n",
        "    print(items_w_rv[ridx]['title'])\n"
      ],
      "metadata": {
        "id": "7-A7fos1Uena"
      },
      "execution_count": 57,
      "outputs": []
    },
    {
      "cell_type": "markdown",
      "source": [
        "### recommand loop "
      ],
      "metadata": {
        "id": "ku_0s5cIUOIu"
      }
    },
    {
      "cell_type": "code",
      "source": [
        "print(\"\\nInput a title (use 'exit' to exit): \", end='')\n",
        "user_input = input().lower()\n",
        "\n",
        "while(user_input and user_input != 'exit'):\n",
        "  recommand_by_title(user_input)\n",
        "\n",
        "  print(\"\\nInput a title (use 'exit' to exit): \", end='')\n",
        "  user_input = input().lower()"
      ],
      "metadata": {
        "id": "2ND7nDpuUOpG",
        "colab": {
          "base_uri": "https://localhost:8080/"
        },
        "outputId": "8fc8217d-fcf5-4974-e335-0ae6f3ffc005"
      },
      "execution_count": 58,
      "outputs": [
        {
          "name": "stdout",
          "output_type": "stream",
          "text": [
            "\n",
            "Input a title (use 'exit' to exit): undiscovered\n",
            "\n",
            "Recommandations for - undiscovered:\n",
            "\n",
            "Talk Talk Talk\n",
            "Hearts and Bones\n",
            "Paradise & Lunch\n",
            "Nested\n",
            "Both Sides\n",
            "Chinese Wall\n",
            "Living in Clip\n",
            "Brand New Me\n",
            "Everglow\n",
            "Non-Stop Erotic Cabaret\n",
            "\n",
            "Input a title (use 'exit' to exit): Hearts and Bones\n",
            "\n",
            "Recommandations for - hearts and bones:\n",
            "\n",
            "Nested\n",
            "Birdy\n",
            "Undiscovered\n",
            "Reg Strikes Back\n",
            "Now in a Minute\n",
            "Oh No\n",
            "Ambrosia\n",
            "Affection\n",
            "Stay With Me\n",
            "Welcome Home\n",
            "\n",
            "Input a title (use 'exit' to exit): exit\n"
          ]
        }
      ]
    }
  ],
  "metadata": {
    "kernelspec": {
      "display_name": "base",
      "language": "python",
      "name": "python3"
    },
    "language_info": {
      "codemirror_mode": {
        "name": "ipython",
        "version": 3
      },
      "file_extension": ".py",
      "mimetype": "text/x-python",
      "name": "python",
      "nbconvert_exporter": "python",
      "pygments_lexer": "ipython3",
      "version": "3.9.13"
    },
    "orig_nbformat": 4,
    "colab": {
      "provenance": []
    }
  },
  "nbformat": 4,
  "nbformat_minor": 0
}